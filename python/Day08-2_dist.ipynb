{
 "cells": [
  {
   "cell_type": "code",
   "execution_count": 34,
   "id": "d442c41b",
   "metadata": {},
   "outputs": [
    {
     "name": "stdout",
     "output_type": "stream",
     "text": [
      "15.132745950421556\n",
      "x: 2 4\n",
      "y: 15 225\n",
      "b:  15.132745950421556\n",
      "c:  15.132745950421556\n",
      "d:  15.132745950421556\n"
     ]
    }
   ],
   "source": [
    "import numpy as np\n",
    "import math\n",
    "\n",
    "x1 = 3\n",
    "y1 = 10\n",
    "\n",
    "x2 = 5\n",
    "y2 = 25\n",
    "\n",
    "a = math.sqrt((x2-x1)**2 + (y2-y1)**2)\n",
    "print(a)\n",
    "\n",
    "def dist(p1, p2): #python list version\n",
    "    return math.sqrt((p2[0]-p1[0])**2 + (p2[1]-p1[1])**2)\n",
    "\n",
    "def dist(p1, p2): #python list version\n",
    "    print('x:', (p2[0]-p1[0]), (p2[0]-p1[0])**2)\n",
    "    print('y:', (p2[1]-p1[1]), (p2[1]-p1[1])**2)\n",
    "    return math.sqrt((p2[0]-p1[0])**2 + (p2[1]-p1[1])**2)\n",
    "\n",
    "def dist_np(p1, p2):# [3,10] [5,25]\n",
    "    i = p2 - p1   #[2, 15]\n",
    "    i = sum(i * i) #[4, 225]\n",
    "    return math.sqrt(i) \n",
    "\n",
    "def dist_np2(p1, p2):\n",
    "    i = p2 - p1\n",
    "    i = sum(i * i)\n",
    "    return math.sqrt(sum((p2-p1)**2))\n",
    "\n",
    "b = dist([x1, y1], [x2, y2]) # [x1, y1] => p1 / [x2, y2] => p2\n",
    "print('b: ', b)  #15.132745950421556\n",
    "\n",
    "c = dist_np(np.array([x1, y1]), np.array([x2, y2]))\n",
    "print('c: ', c) #15.132745950421556\n",
    "\n",
    "d = dist_np2(np.array([x1, y1]), np.array([x2, y2]))\n",
    "print('d: ', d)"
   ]
  }
 ],
 "metadata": {
  "kernelspec": {
   "display_name": "Python 3 (ipykernel)",
   "language": "python",
   "name": "python3"
  },
  "language_info": {
   "codemirror_mode": {
    "name": "ipython",
    "version": 3
   },
   "file_extension": ".py",
   "mimetype": "text/x-python",
   "name": "python",
   "nbconvert_exporter": "python",
   "pygments_lexer": "ipython3",
   "version": "3.10.9"
  }
 },
 "nbformat": 4,
 "nbformat_minor": 5
}
