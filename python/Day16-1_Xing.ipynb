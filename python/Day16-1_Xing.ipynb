{
 "cells": [
  {
   "cell_type": "code",
   "execution_count": 201,
   "id": "33ccc892",
   "metadata": {},
   "outputs": [],
   "source": [
    "import numpy as np\n",
    "import matplotlib.pyplot as plt\n",
    "\n",
    "def fetch_uci_data(url):\n",
    "    d = requests.get(url)\n",
    "    t = []\n",
    "    for line in d.text.split('\\n'):\n",
    "        if len(line)!= 0:\n",
    "            t.append(line.split(','))\n",
    "    return np.array(t)\n",
    "#     len_check=set()\n",
    "#     for e in t:\n",
    "#         if(len(e)==1):\n",
    "#             print(e)\n",
    "#         len_check.add(len(e))\n",
    "#     print(len_check)\n",
    "    \n",
    "def my_split(s):\n",
    "    block_start = False\n",
    "    start_index = 0\n",
    "    ret_list=[]\n",
    "    for i, c in enumerate(s):\n",
    "        if block_start==False:\n",
    "            if c==',':\n",
    "                ret_list.append(s[start_index:i])\n",
    "                start_index=i+1\n",
    "            elif c=='\"':\n",
    "                block_start=True\n",
    "                start_index = i\n",
    "        else:\n",
    "            if c=='\"':\n",
    "                block_start=False\n",
    "    if s[-1]!=',':\n",
    "        ret_list.append(s[start_index:])\n",
    "    return ret_list"
   ]
  },
  {
   "cell_type": "markdown",
   "id": "ad52ffed",
   "metadata": {},
   "source": [
    "### 전국횡단보도표준데이터\n",
    "\n",
    "- 1. 횡단보도 연장, 녹색신호시간 : 상관도\n",
    "- 2. 자전거 횡단도 겸용 비율(전체 대비), \n",
    "- 3. 차로수별 자전거 횡단도 비율\n",
    "- 4. 차로수별 보행자 신호등 유무 카운트/비율\n",
    "- 5. 차로수별 음향신호기설치 유무 카운트/비율\n",
    "\n",
    "#### 화면출력\n",
    "1. 상관도 수치\n",
    "2. 비율 수치\n",
    "3. 3~5 카운트, 비율"
   ]
  },
  {
   "cell_type": "code",
   "execution_count": 183,
   "id": "ae7c018d",
   "metadata": {},
   "outputs": [],
   "source": [
    "raw_data=[]\n",
    "with open('전국횡단보도표준데이터.csv') as f:\n",
    "    for line in f:\n",
    "        raw_data.append(my_split(line))\n"
   ]
  },
  {
   "cell_type": "code",
   "execution_count": 184,
   "id": "39882a23",
   "metadata": {
    "scrolled": true
   },
   "outputs": [
    {
     "name": "stdout",
     "output_type": "stream",
     "text": [
      "['시도명' '시군구명' '도로명' '소재지도로명주소' '소재지지번주소' '횡단보도관리번호' '횡단보도종류' '자전거횡단도겸용여부'\n",
      " '고원식적용여부' '위도' '경도' '차로수' '횡단보도폭' '횡단보도연장' '보행자신호등유무' '보행자작동신호기유무'\n",
      " '음향신호기설치여부' '녹색신호시간' '적색신호시간' '교통섬유무' '보도턱낮춤여부' '점자블록유무' '집중조명시설유무'\n",
      " '관리기관명' '관리기관전화번호' '데이터기준일자' '제공기관코드' '제공기관명\\n']\n",
      "50001\n"
     ]
    }
   ],
   "source": [
    "np_data = np.array(raw_data)\n",
    "\n",
    "print(np_data[0, :])\n",
    "print(len(np_data))"
   ]
  },
  {
   "cell_type": "code",
   "execution_count": 185,
   "id": "31eacf0d",
   "metadata": {},
   "outputs": [
    {
     "name": "stdout",
     "output_type": "stream",
     "text": [
      "['시도명' '시군구명' '도로명' '소재지도로명주소' '소재지지번주소' '횡단보도관리번호' '횡단보도종류' '자전거횡단도겸용여부'\n",
      " '고원식적용여부' '위도' '경도' '차로수' '횡단보도폭' '횡단보도연장' '보행자신호등유무' '보행자작동신호기유무'\n",
      " '음향신호기설치여부' '녹색신호시간' '적색신호시간' '교통섬유무' '보도턱낮춤여부' '점자블록유무' '집중조명시설유무'\n",
      " '관리기관명' '관리기관전화번호' '데이터기준일자' '제공기관코드' '제공기관명\\n']\n"
     ]
    }
   ],
   "source": [
    "print(np_data[0, :])\n",
    "\n",
    "long_data = np_data[1:, 13]"
   ]
  },
  {
   "cell_type": "code",
   "execution_count": 186,
   "id": "13051e43",
   "metadata": {},
   "outputs": [
    {
     "name": "stdout",
     "output_type": "stream",
     "text": [
      "['17' '37' '37' ... '' '' '']\n"
     ]
    },
    {
     "data": {
      "text/plain": [
       "array(['보행자신호등유무', 'Y', 'Y', ..., 'N', 'N', 'N'], dtype='<U49')"
      ]
     },
     "execution_count": 186,
     "metadata": {},
     "output_type": "execute_result"
    }
   ],
   "source": [
    "np_data[1:, 17]\n",
    "\n",
    "time_data = np_data[1:, 17]\n",
    "\n",
    "\n",
    "print(time_data)\n",
    "\n",
    "np_data[:, 14]"
   ]
  },
  {
   "cell_type": "code",
   "execution_count": 187,
   "id": "bea102c8",
   "metadata": {},
   "outputs": [
    {
     "name": "stdout",
     "output_type": "stream",
     "text": [
      "['N' 'N' 'N' ... 'N' 'N' 'N']\n",
      "3665\n",
      "전체대비 자전거 겸용비율:  7.329853402931942 %\n"
     ]
    }
   ],
   "source": [
    "print(np_data[1:, 8])\n",
    "\n",
    "filter1 = np_data[:, 8] == 'Y'\n",
    "filter2 = np_data[:, 8] == 'N'\n",
    "\n",
    "ride_data = np_data[filter1]\n",
    "ride_data1 = np_data[filter2]\n",
    "\n",
    "r1d = (len(ride_data) + len(ride_data1))\n",
    "\n",
    "\n",
    "print(len(ride_data))\n",
    "\n",
    "print('전체대비 자전거 겸용비율: ', len(ride_data)/len(np_data)*100, '%')"
   ]
  },
  {
   "cell_type": "code",
   "execution_count": 188,
   "id": "b55783c3",
   "metadata": {},
   "outputs": [
    {
     "name": "stdout",
     "output_type": "stream",
     "text": [
      "49878\n",
      "총 차로수:  153397.0\n",
      "자전거횡단도 수:  3665\n",
      "비율?:  32.51562937997484 %\n",
      "['보행자신호등유무' 'Y' 'Y' ... 'N' 'N' 'N']\n"
     ]
    }
   ],
   "source": [
    "car_data = np_data[1:, 11]\n",
    "len(ride_data) #자전거 도로 개수\n",
    "c = car_data.astype(np.float64)\n",
    "cd = np.sum(c)\n",
    "rd = len(ride_data)\n",
    "\n",
    "rrd = len(np_data[1:, 8])\n",
    "print(r1d)\n",
    "\n",
    "print('총 차로수: ',cd)\n",
    "print('자전거횡단도 수: ', rd)\n",
    "print('비율?: ', r1d/cd*100,'%')\n",
    "\n",
    "\n",
    "print(np_data[:, 14])"
   ]
  },
  {
   "cell_type": "code",
   "execution_count": 189,
   "id": "62a326d6",
   "metadata": {},
   "outputs": [
    {
     "name": "stdout",
     "output_type": "stream",
     "text": [
      "(array(['N', 'Y', 'n', 'y'], dtype='<U49'), array([28866, 21029,    94,    11], dtype=int64))\n"
     ]
    }
   ],
   "source": [
    "# print(np_data[1:, 14])\n",
    "\n",
    "filter1 = np_data[:, 14] == 'Y' \n",
    "filter2 = np_data[:, 14] == 'N'\n",
    "filter3 = np_data[:, 14] == 'y'\n",
    "filter4 = np_data[:, 14] == 'n'\n",
    "\n",
    "print(np.unique(np_data[1:, 14], return_counts = True))\n",
    "\n",
    "red_data_y = np_data[filter1]\n",
    "# red_data_n = np_data[filter2]\n",
    "red_data_y1 = np_data[filter3]\n",
    "# red_data_n2 = np_data[filter4]"
   ]
  },
  {
   "cell_type": "code",
   "execution_count": 190,
   "id": "f3e16609",
   "metadata": {},
   "outputs": [
    {
     "name": "stdout",
     "output_type": "stream",
     "text": [
      "21040\n"
     ]
    }
   ],
   "source": [
    "a= (len(red_data_y)+len(red_data_y1))\n",
    "# b = (len(red_data_n)+len(red_data_n2))\n",
    "\n",
    "print(a)"
   ]
  },
  {
   "cell_type": "code",
   "execution_count": 200,
   "id": "2a85ab59",
   "metadata": {},
   "outputs": [
    {
     "name": "stdout",
     "output_type": "stream",
     "text": [
      "차로별 보행자신호 비율:  42.07915841683166\n",
      "횡단보도 유무비율:,  42.07915841683166\n"
     ]
    }
   ],
   "source": [
    "light_data = (a/(len(np_data))*100)\n",
    "print('차로별 보행자신호 비율: ', light_data)\n",
    "print('횡단보도 유무비율:, ', a/len(np_data)*100)"
   ]
  }
 ],
 "metadata": {
  "kernelspec": {
   "display_name": "Python 3 (ipykernel)",
   "language": "python",
   "name": "python3"
  },
  "language_info": {
   "codemirror_mode": {
    "name": "ipython",
    "version": 3
   },
   "file_extension": ".py",
   "mimetype": "text/x-python",
   "name": "python",
   "nbconvert_exporter": "python",
   "pygments_lexer": "ipython3",
   "version": "3.10.9"
  }
 },
 "nbformat": 4,
 "nbformat_minor": 5
}
