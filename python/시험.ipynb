{
 "cells": [
  {
   "cell_type": "code",
   "execution_count": 2,
   "id": "b6580bc4",
   "metadata": {},
   "outputs": [],
   "source": [
    "import numpy as np\n",
    "import pandas as pd\n",
    "import random"
   ]
  },
  {
   "cell_type": "code",
   "execution_count": 74,
   "id": "3cfdaff3",
   "metadata": {},
   "outputs": [],
   "source": [
    "import numpy as np\n",
    "import pandas as pd\n",
    "import random\n",
    "\n",
    "random.seed(123)\n",
    "pd_iris = pd.read_csv('https://archive.ics.uci.edu/ml/machine-learning-databases/iris/iris.data')\n",
    "pd_iris.columns = ['petal_length', 'petal_width', 'sepal_length', 'sepal_width', 'class']\n",
    "rand_axis0 = [random.randint(0,150) for _ in range(5)]\n",
    "rand_axis1 = [random.randint(0, 4) for _ in range(5)]\n",
    "pd_iris.iloc[rand_axis0, rand_axis1] = np.NaN\n",
    "\n",
    "rand_axis0 = [random.randint(0,150) for _ in range(5)]\n",
    "rand_axis1 = [random.randint(0, 4) for _ in range(5)]\n",
    "pd_iris.iloc[rand_axis0, rand_axis1] = 123.4 + random.randint(0,4)/10\n",
    "\n",
    "df1 = pd.DataFrame(np.arange(100, 120).reshape(4,5), dtype='str')"
   ]
  },
  {
   "cell_type": "code",
   "execution_count": 83,
   "id": "9502ae2c",
   "metadata": {},
   "outputs": [
    {
     "data": {
      "text/plain": [
       "False    149\n",
       "Name: petal_length, dtype: int64"
      ]
     },
     "execution_count": 83,
     "metadata": {},
     "output_type": "execute_result"
    }
   ],
   "source": [
    "na_filter = pd_iris['petal_length'].isna()\n",
    "pd_iris.loc[na_filter, 'petal_length'] = pd_iris['petal_length'].mean() \n",
    "pd_iris['petal_length'].isna().value_counts()"
   ]
  },
  {
   "cell_type": "code",
   "execution_count": 82,
   "id": "da3f7160",
   "metadata": {},
   "outputs": [
    {
     "data": {
      "text/plain": [
       "False    145\n",
       "True       4\n",
       "Name: petal_length, dtype: int64"
      ]
     },
     "execution_count": 82,
     "metadata": {},
     "output_type": "execute_result"
    }
   ],
   "source": [
    "pd_iris['petal_length'].isna().value_counts()"
   ]
  },
  {
   "cell_type": "code",
   "execution_count": 84,
   "id": "a39da879",
   "metadata": {},
   "outputs": [
    {
     "name": "stdout",
     "output_type": "stream",
     "text": [
      "3.1499999999999986 8.350000000000001\n",
      "False    149\n",
      "Name: petal_length, dtype: int64\n",
      "False    149\n",
      "Name: petal_length, dtype: int64\n",
      "[4.9        4.7        4.6        5.         5.4        4.4\n",
      " 4.8        4.3        5.84344828 5.7        5.1        5.2\n",
      " 5.5        4.5        5.3        7.         6.4        6.9\n",
      " 6.5        6.3        6.6        5.9        6.         6.1\n",
      " 5.6        6.7        5.8        6.2        6.8        7.1\n",
      " 7.3        7.2        7.7        7.4        7.9       ]\n",
      "False\n"
     ]
    }
   ],
   "source": [
    "#이상치 없음\n",
    "q1, q3 = pd_iris['petal_length'].quantile([0.25, 0.75])\n",
    "iqr = q3 - q1\n",
    "upper = q3 + 1.5 * iqr\n",
    "lower = q1 - 1.5 * iqr\n",
    "print(lower, upper)\n",
    "filter1 = pd_iris['petal_length'] > upper\n",
    "filter2 = pd_iris['petal_length'] < lower\n",
    "print(filter1.value_counts())\n",
    "print(filter2.value_counts())\n",
    "\n",
    "print(pd_iris['petal_length'].unique())"
   ]
  },
  {
   "cell_type": "code",
   "execution_count": 77,
   "id": "16984147",
   "metadata": {},
   "outputs": [
    {
     "data": {
      "text/plain": [
       "5.843448275862069"
      ]
     },
     "execution_count": 77,
     "metadata": {},
     "output_type": "execute_result"
    }
   ],
   "source": [
    "pd_iris['petal_length'].mean() #nan값 평균으로대체"
   ]
  },
  {
   "cell_type": "code",
   "execution_count": 73,
   "id": "0edd0ff7",
   "metadata": {},
   "outputs": [
    {
     "data": {
      "text/plain": [
       "5.686577181208054"
      ]
     },
     "execution_count": 73,
     "metadata": {},
     "output_type": "execute_result"
    }
   ],
   "source": [
    "pd_iris['petal_length'].mean() #nan값 대체X"
   ]
  }
 ],
 "metadata": {
  "kernelspec": {
   "display_name": "Python 3 (ipykernel)",
   "language": "python",
   "name": "python3"
  },
  "language_info": {
   "codemirror_mode": {
    "name": "ipython",
    "version": 3
   },
   "file_extension": ".py",
   "mimetype": "text/x-python",
   "name": "python",
   "nbconvert_exporter": "python",
   "pygments_lexer": "ipython3",
   "version": "3.10.9"
  }
 },
 "nbformat": 4,
 "nbformat_minor": 5
}
