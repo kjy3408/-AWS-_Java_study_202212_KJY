{
 "cells": [
  {
   "cell_type": "code",
   "execution_count": 8,
   "id": "c5192b5d",
   "metadata": {},
   "outputs": [
    {
     "name": "stdout",
     "output_type": "stream",
     "text": [
      "[[ 1  2  3]\n",
      " [10 20 30]]\n",
      "2\n",
      "(2, 3)\n",
      "6\n"
     ]
    }
   ],
   "source": [
    "import numpy as np\n",
    "\n",
    "a1 = np.array([[1,2,3], [10,20,30]])\n",
    "print(a1)#2차원배열\n",
    "print(a1.ndim)#해당 array는 몇차원?\n",
    "print(a1.shape)#각 차원의 원소 개수(2차원의 원소 : 2 / 1차원 원소: 3)\n",
    "print(a1.size)#모든 원소 개수"
   ]
  },
  {
   "cell_type": "markdown",
   "id": "b3b22afa",
   "metadata": {},
   "source": [
    "### reshape \n",
    "* 1차원 배열을 다차원 배열로 만들어줌\n",
    "* 개수가 맞아 떨어져아한다. 아닐 시 ValueError"
   ]
  },
  {
   "cell_type": "code",
   "execution_count": 15,
   "id": "b8bfac42",
   "metadata": {},
   "outputs": [
    {
     "name": "stdout",
     "output_type": "stream",
     "text": [
      "[[ 0  1  2  3  4]\n",
      " [ 5  6  7  8  9]\n",
      " [10 11 12 13 14]\n",
      " [15 16 17 18 19]]\n",
      "(4, 5)\n"
     ]
    }
   ],
   "source": [
    "a2 = np.arange(20).reshape(4,5) #0부터 19까지 원소5개인 배열 4개!\n",
    "print(a2)\n",
    "print(a2.shape)"
   ]
  },
  {
   "cell_type": "markdown",
   "id": "713c1f46",
   "metadata": {},
   "source": [
    "### flatten / ravel\n",
    "* 다차원 배열을 1차원 배열로 만들어줌\n",
    "\n",
    "* flatten => 깊은복사(주소다름)   -   주로사용\n",
    "* ravel => 얕은복사(주소같음)"
   ]
  },
  {
   "cell_type": "code",
   "execution_count": 21,
   "id": "a36adaf4",
   "metadata": {},
   "outputs": [
    {
     "name": "stdout",
     "output_type": "stream",
     "text": [
      "[  0   1   2 100   4   5   6   7   8   9  10  11  12  13  14  15  16  17\n",
      "  18  19]\n",
      "[[  0   1   2 200   4]\n",
      " [  5   6   7   8   9]\n",
      " [ 10  11  12  13  14]\n",
      " [ 15  16  17  18  19]]\n",
      "[  0   1   2 200   4   5   6   7   8   9  10  11  12  13  14  15  16  17\n",
      "  18  19]\n",
      "[[  0   1   2 200   4]\n",
      " [  5   6   7   8   9]\n",
      " [ 10  11  12  13  14]\n",
      " [ 15  16  17  18  19]]\n"
     ]
    }
   ],
   "source": [
    "a3 = a2.flatten() #2차원이든 3차원이든 다시 1차원배열로 만들어줌\n",
    "a3[3] = 100\n",
    "print(a3)\n",
    "print(a2)\n",
    "\n",
    "\n",
    "a4 = a2.ravel()\n",
    "a4[3] = 200\n",
    "print(a4)\n",
    "print(a2)"
   ]
  },
  {
   "cell_type": "markdown",
   "id": "92f1ba60",
   "metadata": {},
   "source": [
    "### 다차원배열 index로 확인\n",
    "* print(a2[:, 1]) : [1차원 배열은 전부!, 원소는 1번index만!]\n",
    "* print(a2[:, 1:4]) : [1차원 배열은 전부!, 1번start : 4번 stop!]\n",
    "* print(a2[:, 1:4:2]) : [1차원 배열은 전부!, 1번start : 4번 stop! : 2개씩 step!]\n",
    "* print(a2[::2, :]) : [start,stop 안줌!(전부다) : 2개씩 stop, 전부다]<br><br>\n",
    "\n",
    "* print(a2[행:열])"
   ]
  },
  {
   "cell_type": "code",
   "execution_count": 43,
   "id": "379badd6",
   "metadata": {},
   "outputs": [
    {
     "name": "stdout",
     "output_type": "stream",
     "text": [
      "[[ 0  1  2  3  4]\n",
      " [ 5  6  7  8  9]\n",
      " [10 11 12 13 14]\n",
      " [15 16 17 18 19]]\n",
      "[[3 4]\n",
      " [8 9]]\n"
     ]
    }
   ],
   "source": [
    "a2 = np.arange(20).reshape(4,5)\n",
    "print(a2)\n",
    "# print(a2[1,2])\n",
    "\n",
    "# print(a2[:, 1])\n",
    "# print(a2[:, 1:4])\n",
    "# print(a2[:, 1:4:2])\n",
    "# print(a2[1:3, :])\n",
    "# print(a2[::2, :])\n",
    "print(a2[::2, 1:4])"
   ]
  },
  {
   "cell_type": "markdown",
   "id": "ccba8820",
   "metadata": {},
   "source": [
    "### axis\n",
    "*axis = 0 은 세로축.<br><br>\n",
    "print(a2.sum(axis=0)) : 세로축으로 다 더해라<br>\n",
    "print(a2.sum(axis=1)) : 가로축으로 다 더해라\n"
   ]
  },
  {
   "cell_type": "code",
   "execution_count": 53,
   "id": "77366529",
   "metadata": {},
   "outputs": [
    {
     "name": "stdout",
     "output_type": "stream",
     "text": [
      "[[ 0  1  2  3  4]\n",
      " [ 5  6  7  8  9]\n",
      " [10 11 12 13 14]\n",
      " [15 16 17 18 19]]\n",
      "(4, 5)\n",
      "190\n",
      "[10 35 60 85]\n"
     ]
    }
   ],
   "source": [
    "print(a2)\n",
    "print(a2.shape)\n",
    "print(a2.sum())\n",
    "# print(a2.sum(axis=0))\n",
    "print(a2.sum(axis=1))"
   ]
  },
  {
   "cell_type": "markdown",
   "id": "39640a46",
   "metadata": {},
   "source": [
    "### T => axis가 2개일때 보통 사용?<br>\n",
    "a3 = a2.T => 가로축과 세로축을 서로 바꿔라"
   ]
  },
  {
   "cell_type": "code",
   "execution_count": 58,
   "id": "ad417255",
   "metadata": {},
   "outputs": [
    {
     "name": "stdout",
     "output_type": "stream",
     "text": [
      "[[ 0  1  2  3  4]\n",
      " [ 5  6  7  8  9]\n",
      " [10 11 12 13 14]\n",
      " [15 16 17 18 19]] (4, 5)\n",
      "\n",
      "[[ 0  5 10 15]\n",
      " [ 1  6 11 16]\n",
      " [ 2  7 12 17]\n",
      " [ 3  8 13 18]\n",
      " [ 4  9 14 19]] (5, 4)\n"
     ]
    }
   ],
   "source": [
    "print(a2, a2.shape)\n",
    "print()\n",
    "a3 = a2.T\n",
    "print(a3, a3.shape)"
   ]
  },
  {
   "cell_type": "markdown",
   "id": "04c2f760",
   "metadata": {},
   "source": [
    "### moveaxis => T와 같음 사용방법 다름"
   ]
  },
  {
   "cell_type": "code",
   "execution_count": 129,
   "id": "c0406f54",
   "metadata": {},
   "outputs": [
    {
     "name": "stdout",
     "output_type": "stream",
     "text": [
      "[[ 0  1  2  3  4]\n",
      " [ 5  6  7  8  9]\n",
      " [10 11 12 13 14]\n",
      " [15 16 17 18 19]] (4, 5)\n",
      "\n",
      "[[ 0  5 10 15]\n",
      " [ 1  6 11 16]\n",
      " [ 2  7 12 17]\n",
      " [ 3  8 13 18]\n",
      " [ 4  9 14 19]] (5, 4)\n"
     ]
    }
   ],
   "source": [
    "print(a2, a2.shape)\n",
    "print()\n",
    "a3 = np.moveaxis(a2, [0], [1])\n",
    "print(a3, a3.shape)"
   ]
  },
  {
   "cell_type": "code",
   "execution_count": 87,
   "id": "45157e2d",
   "metadata": {},
   "outputs": [
    {
     "name": "stdout",
     "output_type": "stream",
     "text": [
      "[[ 5  6  7  8  9]\n",
      " [10 11 12 13 14]\n",
      " [15 16 17 18 19]] (3, 5)\n",
      "\n",
      "[[ 7  8]\n",
      " [12 13]\n",
      " [17 18]]\n",
      "\n",
      "[36 39]\n",
      "[36 39]\n"
     ]
    }
   ],
   "source": [
    "a10 = np.arange(5, 20).reshape(3,5)\n",
    "\n",
    "# a11 = a10.reshape(3,5)\n",
    "print(a10, a10.shape)\n",
    "print()\n",
    "\n",
    "#shape 3,5의 2차원 ndarray로 만들기.\n",
    "print(a10[:, 2:4])\n",
    "\n",
    "print()\n",
    "\n",
    "print(a10[:, 2:4].sum(axis=0))\n",
    "\n",
    "a11 = a10[:, 2:4]\n",
    "print(a11.sum(axis=0))\n"
   ]
  },
  {
   "cell_type": "markdown",
   "id": "309a560a",
   "metadata": {},
   "source": [
    "### np.mean(a, axis=none):axis의 축에 따라 평균이 구해짐\n"
   ]
  },
  {
   "cell_type": "code",
   "execution_count": 88,
   "id": "37769db3",
   "metadata": {},
   "outputs": [
    {
     "name": "stdout",
     "output_type": "stream",
     "text": [
      "12.5\n",
      "[12. 13.]\n"
     ]
    }
   ],
   "source": [
    "print(np.mean(a11)) #전체 숫자의 평균\n",
    "print(np.mean(a11, axis=0)) #axis=?의 축의 평균"
   ]
  },
  {
   "cell_type": "markdown",
   "id": "528b4417",
   "metadata": {},
   "source": [
    "### np.concatenate((a,b)) : ndarray합치기\n",
    "* axis에따라 어떤방향으로 붙일지 정할 수 있음. (1 : 가로/ 2 : 세로)"
   ]
  },
  {
   "cell_type": "code",
   "execution_count": 101,
   "id": "0943ce19",
   "metadata": {},
   "outputs": [
    {
     "name": "stdout",
     "output_type": "stream",
     "text": [
      "[[0 1 2 3 4]\n",
      " [5 6 7 8 9]]\n",
      "[[100 101 102 103 104]\n",
      " [105 106 107 108 109]]\n",
      "\n",
      "[[  0   1   2   3   4 100 101 102 103 104]\n",
      " [  5   6   7   8   9 105 106 107 108 109]]\n"
     ]
    }
   ],
   "source": [
    "a1 = np.arange(0,10).reshape(2,5)\n",
    "a2 = np.arange(100,110).reshape(2,5)\n",
    "print(a1)\n",
    "print(a2)\n",
    "print()\n",
    "a3 = np.concatenate((a1,a2), axis=1) #tuple로 감싸야됨\n",
    "print(a3)"
   ]
  },
  {
   "cell_type": "markdown",
   "id": "47ec8c5a",
   "metadata": {},
   "source": [
    "### np.hstack((a,b)) : 가로로 붙이기/ axis = 1\n",
    "### np.vstack((a,b)) : 세로로 붙이기/axis=0\n"
   ]
  },
  {
   "cell_type": "code",
   "execution_count": 108,
   "id": "855585f6",
   "metadata": {},
   "outputs": [
    {
     "name": "stdout",
     "output_type": "stream",
     "text": [
      "[[  0   1   2   3   4 100 101 102 103 104]\n",
      " [  5   6   7   8   9 105 106 107 108 109]]\n",
      "[[  0   1   2   3   4 100 101 102 103 104]\n",
      " [  5   6   7   8   9 105 106 107 108 109]]\n"
     ]
    }
   ],
   "source": [
    "a4 = np.hstack((a1,a2))\n",
    "print(a4)\n",
    "a5 = np.vstack((a1,a2))\n",
    "print(a4)"
   ]
  },
  {
   "cell_type": "markdown",
   "id": "032b7723",
   "metadata": {},
   "source": [
    "### np.hsplit(a, 조각개수) : 가로로 조각 개수만큼 잘라라"
   ]
  },
  {
   "cell_type": "code",
   "execution_count": 113,
   "id": "099690bb",
   "metadata": {},
   "outputs": [
    {
     "name": "stdout",
     "output_type": "stream",
     "text": [
      "[[  0   1   2   3   4 100 101 102 103 104]\n",
      " [  5   6   7   8   9 105 106 107 108 109]]\n",
      "\n",
      "[array([[0, 1],\n",
      "       [5, 6]]), array([[2, 3],\n",
      "       [7, 8]]), array([[  4, 100],\n",
      "       [  9, 105]]), array([[101, 102],\n",
      "       [106, 107]]), array([[103, 104],\n",
      "       [108, 109]])]\n"
     ]
    }
   ],
   "source": [
    "print(a4)\n",
    "a6 = np.hsplit(a4, 5) \n",
    "print()\n",
    "print(a6)"
   ]
  },
  {
   "cell_type": "markdown",
   "id": "c5334993",
   "metadata": {},
   "source": [
    "### np.vsplit(a, 조각개수):세로로 조각 개수만큼 잘라라\n"
   ]
  },
  {
   "cell_type": "code",
   "execution_count": 128,
   "id": "bb6c73bc",
   "metadata": {},
   "outputs": [
    {
     "name": "stdout",
     "output_type": "stream",
     "text": [
      "[[  0   5]\n",
      " [  1   6]\n",
      " [  2   7]\n",
      " [  3   8]\n",
      " [  4   9]\n",
      " [100 105]\n",
      " [101 106]\n",
      " [102 107]\n",
      " [103 108]\n",
      " [104 109]]\n",
      "[array([[0, 5],\n",
      "       [1, 6]]), array([[2, 7],\n",
      "       [3, 8]]), array([[  4,   9],\n",
      "       [100, 105]]), array([[101, 106],\n",
      "       [102, 107]]), array([[103, 108],\n",
      "       [104, 109]])]\n"
     ]
    }
   ],
   "source": [
    "a7 = a4.T\n",
    "print(a7)\n",
    "a8 = np.vsplit(a7, 5)\n",
    "print(a8)"
   ]
  },
  {
   "cell_type": "markdown",
   "id": "ba665603",
   "metadata": {},
   "source": [
    "### bool list : 필터적용.\n",
    "* a2[:, 0]%10==5 : a2에 나머지가 5인 배열을 필터링 해서 가져와라"
   ]
  },
  {
   "cell_type": "code",
   "execution_count": 127,
   "id": "f33e9b89",
   "metadata": {},
   "outputs": [
    {
     "name": "stdout",
     "output_type": "stream",
     "text": [
      "[[ 0  1  2  3  4]\n",
      " [ 5  6  7  8  9]\n",
      " [10 11 12 13 14]\n",
      " [15 16 17 18 19]]\n",
      "[[ 5  6  7  8  9]\n",
      " [15 16 17 18 19]]\n"
     ]
    }
   ],
   "source": [
    "a2 = np.arange(20).reshape(4,5)\n",
    "print(a2)\n",
    "# myfilter1 = a2[a2%10==5]\n",
    "filter1 = a2[:, 0]%10==5\n",
    "print(a2[filter1])"
   ]
  }
 ],
 "metadata": {
  "kernelspec": {
   "display_name": "Python 3 (ipykernel)",
   "language": "python",
   "name": "python3"
  },
  "language_info": {
   "codemirror_mode": {
    "name": "ipython",
    "version": 3
   },
   "file_extension": ".py",
   "mimetype": "text/x-python",
   "name": "python",
   "nbconvert_exporter": "python",
   "pygments_lexer": "ipython3",
   "version": "3.10.9"
  }
 },
 "nbformat": 4,
 "nbformat_minor": 5
}
