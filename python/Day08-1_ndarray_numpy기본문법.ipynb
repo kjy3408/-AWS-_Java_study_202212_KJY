{
 "cells": [
  {
   "cell_type": "code",
   "execution_count": 9,
   "id": "259aabad",
   "metadata": {},
   "outputs": [],
   "source": [
    "import numpy as np #numpy = np\n",
    "\n",
    "def my_split(s):\n",
    "    block_start = False\n",
    "    start_index = 0\n",
    "    ret_list=[]\n",
    "    for i, c in enumerate(s):\n",
    "        if block_start==False:\n",
    "            if c==',':\n",
    "                ret_list.append(s[start_index:i])\n",
    "                start_index=i+1\n",
    "            elif c=='\"':\n",
    "                block_start=True\n",
    "                start_index = i\n",
    "        else:\n",
    "            if c=='\"':\n",
    "                block_start=False\n",
    "    if s[-1]!=',':\n",
    "        ret_list.append(s[start_index:])\n",
    "    return ret_list\n",
    "\n",
    "def split_len(data_list):\n",
    "    len_list=[]\n",
    "    for e in data_list:\n",
    "        len_list.append(len(e))\n",
    "    print(set(len_list))\n",
    "    if len(set(len_list))>1:\n",
    "        for i in set(len_list):\n",
    "            print(i, len_list.count(i))\n",
    "\n",
    "def dist_np(p1, p2): #  [3,10]  [5,25]\n",
    "    return math.sqrt(sum((p2-p1)**2))"
   ]
  },
  {
   "cell_type": "markdown",
   "id": "a6f8c625",
   "metadata": {},
   "source": [
    "### 들어가있는 숫자에 \" . \" 닷이 없으면 정수/ 있으면 실수"
   ]
  },
  {
   "cell_type": "code",
   "execution_count": 18,
   "id": "f8ba4390",
   "metadata": {},
   "outputs": [
    {
     "name": "stdout",
     "output_type": "stream",
     "text": [
      "list:  [1, 2, 3, 4, 5]\n",
      "ndarray : [1 2 3 4 5]\n",
      "<class 'numpy.ndarray'>\n"
     ]
    }
   ],
   "source": [
    "a1 = np.array([1,2,3,4,5]);\n",
    "print('list: ',[1,2,3,4,5])\n",
    "print('ndarray :', a1)\n",
    "print(type(a1))"
   ]
  },
  {
   "cell_type": "markdown",
   "id": "c6c7f62e",
   "metadata": {},
   "source": [
    "### np.arange ★ \n",
    "\n",
    "#### np.arange(start, stop, step) "
   ]
  },
  {
   "cell_type": "code",
   "execution_count": 32,
   "id": "fb47e4c7",
   "metadata": {},
   "outputs": [
    {
     "name": "stdout",
     "output_type": "stream",
     "text": [
      "[0 1 2 3 4 5 6 7 8 9]\n",
      "[ 3  6  9 12 15 18 21 24 27 30 33 36 39 42 45 48 51 54 57 60 63 66 69 72\n",
      " 75 78 81 84 87 90 93 96 99]\n",
      "[1.3 1.8 2.3 2.8 3.3 3.8 4.3 4.8 5.3 5.8 6.3 6.8 7.3 7.8 8.3 8.8 9.3 9.8]\n"
     ]
    }
   ],
   "source": [
    "a2 = np.arange(10)\n",
    "print(a2)\n",
    "\n",
    "#100아래의 3의 배수\n",
    "a3 = np.arange(3, 100, 3) #0부터 100까지 3씩 건너뜀(3의배수)\n",
    "print(a3)    \n",
    "\n",
    "# 1에서부터 10아래 0.5씩 증가하는 숫자 ( 실수 사용 가능)\n",
    "a4 = np.arange(1.3, 10, 0.5) #np.arange(start, stop, step) \n",
    "print(a4)\n",
    "\n",
    "# lista = [i for i in range(1.3, 10, 0.5)] 얘는 안됨"
   ]
  },
  {
   "cell_type": "code",
   "execution_count": 45,
   "id": "94989ed2",
   "metadata": {},
   "outputs": [
    {
     "name": "stdout",
     "output_type": "stream",
     "text": [
      "[ 0.  5. 10.]\n"
     ]
    }
   ],
   "source": [
    "#0부터 10사이 숫자를 3개의 숫자로 나눠서 출력!\n",
    "a4 = np.linspace(0, 10, 3)\n",
    "print(a4)\n"
   ]
  },
  {
   "cell_type": "markdown",
   "id": "26730836",
   "metadata": {},
   "source": [
    "### np.원하는숫자s(숫자의 개수)\n",
    "\n",
    "* np.zeros(5)\n",
    "\n",
    "* np.ones(5)"
   ]
  },
  {
   "cell_type": "code",
   "execution_count": 54,
   "id": "44e0ae3f",
   "metadata": {},
   "outputs": [
    {
     "name": "stdout",
     "output_type": "stream",
     "text": [
      "[0. 0. 0. 0. 0.]\n",
      "[1 1 1 1 1]\n",
      "[1. 1. 1. 1. 1.]\n"
     ]
    }
   ],
   "source": [
    "a5 = np.zeros(5)\n",
    "print(a5)\n",
    "\n",
    "a6 = np.ones(5, dtype=np.int64) # ddatatype=np.int64beat\n",
    "print(a6)\n",
    "\n",
    "print(a6.astype(np.float64))\n"
   ]
  },
  {
   "cell_type": "markdown",
   "id": "3195d1be",
   "metadata": {},
   "source": [
    "### type 통일"
   ]
  },
  {
   "cell_type": "code",
   "execution_count": 80,
   "id": "42b6f94d",
   "metadata": {},
   "outputs": [
    {
     "name": "stdout",
     "output_type": "stream",
     "text": [
      "[1.  2.  3.5 4.2]\n",
      "['1' '2' 'abc' 'def']\n"
     ]
    }
   ],
   "source": [
    "#알아서 실수로 통일시켜버림\n",
    "lista = [1, 2, 3.5, 4.2]\n",
    "a7 = np.array(lista)\n",
    "print(a7)\n",
    "\n",
    "#알아서 문자열로 통일시켜버림\n",
    "listb = [1,2,'abc','def']\n",
    "a8 = np.array(listb)\n",
    "print(a8)\n",
    "# a8.astype(np.int64)   Value Error"
   ]
  },
  {
   "cell_type": "code",
   "execution_count": 61,
   "id": "8667e06b",
   "metadata": {},
   "outputs": [
    {
     "name": "stdout",
     "output_type": "stream",
     "text": [
      "<U11\n",
      "float64\n",
      "1\n",
      "(4,)\n",
      "4\n",
      "8\n",
      "<memory at 0x000001D3A11BC880>\n"
     ]
    }
   ],
   "source": [
    "print(a8.dtype) #unicode라는뜻\n",
    "print(a7.dtype) \n",
    "print(a7.ndim) #해당 arrry는 몇 차원 array냐?\n",
    "print(a7.shape) #모양..이 array의 모양은? -> 1차원엔 숫자가 4개! 2차원은 0개 => tuple로 나옴.\n",
    "print(a7.size) #size => 모든 원소의 개수\n",
    "\n",
    "print(a7.itemsize) # a7의 byte size -> 8byte\n",
    "print(a7.data) #주소"
   ]
  },
  {
   "cell_type": "markdown",
   "id": "099cefb1",
   "metadata": {},
   "source": [
    "### 인덱스 슬라이싱"
   ]
  },
  {
   "cell_type": "code",
   "execution_count": 67,
   "id": "d889a950",
   "metadata": {},
   "outputs": [
    {
     "name": "stdout",
     "output_type": "stream",
     "text": [
      "[10 15 20 25 30 35 40 45 50 55 60 65 70 75 80 85 90 95]\n",
      "10 95\n",
      "[25 30 35 40]\n",
      "[20 30 40 50]\n"
     ]
    }
   ],
   "source": [
    "a10 = np.arange(10,100,5)\n",
    "print(a10)\n",
    "# 특정 index\n",
    "print(a10[0],a10[-1])\n",
    "\n",
    "# start ,stop\n",
    "print(a10[3:7])\n",
    "\n",
    "# start, stop, step\n",
    "print(a10[2:9:2])"
   ]
  },
  {
   "cell_type": "markdown",
   "id": "fc786150",
   "metadata": {},
   "source": [
    "### 원하는 index 가져오기"
   ]
  },
  {
   "cell_type": "code",
   "execution_count": 75,
   "id": "7f900d01",
   "metadata": {},
   "outputs": [
    {
     "name": "stdout",
     "output_type": "stream",
     "text": [
      "[10 15 20 25 30 35 40 45 50 55 60 65 70 75 80 85 90 95]\n",
      "[15 25 45]\n",
      "[10, 15, 20, 25, 30, 35, 40, 45, 50, 55, 60, 65, 70, 75, 80, 85, 90, 95]\n"
     ]
    }
   ],
   "source": [
    "a10 = np.arange(10,100,5)\n",
    "print(a10)\n",
    "print(a10[[1,3,7]]) \n",
    "\n",
    "list10 = [x for x in range(10, 100, 5)]\n",
    "print(list10)\n",
    "# print(list10[[1,3,7]]) 안됨"
   ]
  },
  {
   "cell_type": "markdown",
   "id": "ae435530",
   "metadata": {},
   "source": [
    "### 변수명[조건] => 조건식 사용 가능"
   ]
  },
  {
   "cell_type": "code",
   "execution_count": 84,
   "id": "577baddd",
   "metadata": {},
   "outputs": [
    {
     "name": "stdout",
     "output_type": "stream",
     "text": [
      "[10 15 20 25 30 35 40 45 50 55 60 65 70 75 80 85 90 95]\n",
      "[15 25 35 45 55 65 75 85 95]\n",
      "[False  True False  True False  True False  True False  True False  True\n",
      " False  True False  True False  True]\n",
      "(18,)\n",
      "(18,)\n",
      "[15 25 35 45 55 65 75 85 95]\n"
     ]
    }
   ],
   "source": [
    "a10 = np.arange(10,100,5)\n",
    "print(a10)\n",
    "print(a10[a10%10==5])\n",
    "\n",
    "x = (a10%10==5)\n",
    "print(x)\n",
    "print(x.shape) # 결과를 bool type으로 출력함.\n",
    "print(a10.shape)\n",
    "print(a10[x]) #bool list가 들어갈 수 있음."
   ]
  },
  {
   "cell_type": "markdown",
   "id": "8c7cad6b",
   "metadata": {},
   "source": [
    "### python list와 ndarray의 더하기의 결과<br>\n",
    "* list + list = list가 합쳐짐<br>\n",
    "* ndarray + ndarray = 같은 index끼리 더해짐 (같은 index끼리 연산함)<br> \n",
    "* np.concatenate((ndarray1, ndarray2)) = array가 합쳐짐"
   ]
  },
  {
   "cell_type": "code",
   "execution_count": 104,
   "id": "ee4ebc6d",
   "metadata": {},
   "outputs": [
    {
     "name": "stdout",
     "output_type": "stream",
     "text": [
      "[0, 1, 2, 3, 4]\n",
      "[10, 11, 12, 13, 14]\n",
      "[0, 1, 2, 3, 4, 10, 11, 12, 13, 14]\n",
      "\n",
      "[0 1 2 3 4]\n",
      "[10 11 12 13 14]\n",
      "[ 0  1  2  3  4 10 11 12 13 14]\n",
      "add: [10 12 14 16 18]\n",
      "sub: [-10 -10 -10 -10 -10]\n",
      "mul: [ 0 11 24 39 56]\n",
      "div: [0.         0.09090909 0.16666667 0.23076923 0.28571429]\n"
     ]
    }
   ],
   "source": [
    "lista = [x for x in range(5)]\n",
    "listb = [x for x in range(10,15)]\n",
    "print(lista)\n",
    "print(listb)\n",
    "print(lista + listb) # python list에선 list끼리 더하면 list가 합쳐짐\n",
    "\n",
    "print()\n",
    "\n",
    "a1 = np.arange(5)\n",
    "a2 = np.arange(10,15)\n",
    "print(a1)\n",
    "print(a2)\n",
    "print(   np.concatenate((a1,a2))     )#tuple로 감싸줘야함.\n",
    "print('add:', a1 + a2) # 같은 index끼리 더해줌\n",
    "# print(lista - listb)\n",
    "print('sub:', a1 - a2)\n",
    "print('mul:', a1 * a2)\n",
    "print('div:', a1 / a2)"
   ]
  },
  {
   "cell_type": "markdown",
   "id": "67d33a91",
   "metadata": {},
   "source": [
    "### size가 다를경우 연산 안됨"
   ]
  },
  {
   "cell_type": "code",
   "execution_count": 105,
   "id": "36a2dc5e",
   "metadata": {},
   "outputs": [
    {
     "ename": "ValueError",
     "evalue": "operands could not be broadcast together with shapes (7,) (5,) ",
     "output_type": "error",
     "traceback": [
      "\u001b[1;31m---------------------------------------------------------------------------\u001b[0m",
      "\u001b[1;31mValueError\u001b[0m                                Traceback (most recent call last)",
      "Cell \u001b[1;32mIn[105], line 3\u001b[0m\n\u001b[0;32m      1\u001b[0m a1 \u001b[38;5;241m=\u001b[39m np\u001b[38;5;241m.\u001b[39marange(\u001b[38;5;241m7\u001b[39m)\n\u001b[0;32m      2\u001b[0m a2 \u001b[38;5;241m=\u001b[39m np\u001b[38;5;241m.\u001b[39marange(\u001b[38;5;241m10\u001b[39m,\u001b[38;5;241m15\u001b[39m)\n\u001b[1;32m----> 3\u001b[0m \u001b[38;5;28mprint\u001b[39m(\u001b[43ma1\u001b[49m\u001b[43m \u001b[49m\u001b[38;5;241;43m+\u001b[39;49m\u001b[43m \u001b[49m\u001b[43ma2\u001b[49m)\n",
      "\u001b[1;31mValueError\u001b[0m: operands could not be broadcast together with shapes (7,) (5,) "
     ]
    }
   ],
   "source": [
    "a1 = np.arange(7)\n",
    "a2 = np.arange(10,15)\n",
    "print(a1 + a2) #index가 맞지않으면 에러남"
   ]
  }
 ],
 "metadata": {
  "kernelspec": {
   "display_name": "Python 3 (ipykernel)",
   "language": "python",
   "name": "python3"
  },
  "language_info": {
   "codemirror_mode": {
    "name": "ipython",
    "version": 3
   },
   "file_extension": ".py",
   "mimetype": "text/x-python",
   "name": "python",
   "nbconvert_exporter": "python",
   "pygments_lexer": "ipython3",
   "version": "3.10.9"
  }
 },
 "nbformat": 4,
 "nbformat_minor": 5
}
