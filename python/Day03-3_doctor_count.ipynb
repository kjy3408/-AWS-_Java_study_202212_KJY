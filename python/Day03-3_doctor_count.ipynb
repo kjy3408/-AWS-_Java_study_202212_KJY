{
 "cells": [
  {
   "cell_type": "code",
   "execution_count": 1,
   "id": "dc4e6b78",
   "metadata": {},
   "outputs": [
    {
     "name": "stdout",
     "output_type": "stream",
     "text": [
      "[['건강증진센터명', '건강증진센터구분', '소재지도로명주소', '소재지지번주소', '위도', '경도', '건강증진업무내용', '운영시작시각', '운영종료시각', '휴무일정보', '건물면적', '의사수', '간호사수', '사회복지사수', '영양사수', '기타인력현황', '기타이용안내', '운영기관전화번호', '운영기관명', '관리기관전화번호', '관리기관명', '데이터기준일자', '제공기관코드', '제공기관명\\n'], ['맞춤형건강클리닉', '건강증진', '인천광역시 연수구 함박뫼로 13', '인천광역시 연수구 청학동 465-4', '37.41913159', '126.6711606', '치매검진+ 당뇨.고혈압 상담 및 검사+ 뇌경색.심뇌혈관질환+ 정신건강 상담', '9:00', '18:00', '일요일+ 공휴일', '30', '0', '5', '0', '0', '0', '검사전날 오후8시 전까지 식사마치고 검사당일 아침 금식', '032-749-8104', '맞춤형건강클리닉', '032-749-8122', '인천광역시 연수구 보건소', '2021-10-25', '3520000', '인천광역시 연수구\\n'], ['정신건강복지센터', '정신보건', '경상북도 청송군 청송읍 의료원길 19', '경상북도 청송군 청송읍 금곡리 1056-54', '36.431132', '129.051804', '중증정신질환자 관리+정신건강증진사업+아동청소년 정신건강증진사업+자살예방사업', '9:00', '17:00', '토+일+공휴일', '413.87', '0', '4', '1', '0', '0', '', '054-870-7362', '경상북도 청송군 보건의료원', '054-870-7361', '경상북도 청송군 보건의료원', '2022-12-09', '5160000', '경상북도 청송군\\n']]\n"
     ]
    }
   ],
   "source": [
    "csv_data = []\n",
    "with open('전국건강증진센터표준데이터2.csv', encoding = 'cp949') as f:\n",
    "    for line in f:\n",
    "#         print(line) \n",
    "        csv_data.append(line.split(','))\n",
    "        \n",
    "print(csv_data[:3]) "
   ]
  },
  {
   "cell_type": "code",
   "execution_count": 61,
   "id": "3b669ae3",
   "metadata": {},
   "outputs": [
    {
     "name": "stdout",
     "output_type": "stream",
     "text": [
      "291\n",
      "166\n",
      "156\n"
     ]
    }
   ],
   "source": [
    "center_all_list = []\n",
    "nodoctor_center_list = [] #센터 291개\n",
    "doctor_list = []\n",
    "for e in csv_data[1:]:\n",
    "    center_all_list.append(e[0].split()[0])\n",
    "    \n",
    "    \n",
    "for e in csv_data[1:]:\n",
    "    if e[-13] == '0':\n",
    "        nodoctor_center_list.append(e[0])\n",
    "    else:\n",
    "        doctor_list.append(int(e[-13]))\n",
    "    \n",
    "print(len(center_all_list)) #총 센터 수\n",
    "print(len(nodoctor_center_list)) #의사없는 센터 수\n",
    "print(sum(doctor_list)) #총 의사 수\n",
    "\n",
    "# print(len(center_list)) #center 개수"
   ]
  }
 ],
 "metadata": {
  "kernelspec": {
   "display_name": "Python 3 (ipykernel)",
   "language": "python",
   "name": "python3"
  },
  "language_info": {
   "codemirror_mode": {
    "name": "ipython",
    "version": 3
   },
   "file_extension": ".py",
   "mimetype": "text/x-python",
   "name": "python",
   "nbconvert_exporter": "python",
   "pygments_lexer": "ipython3",
   "version": "3.10.9"
  }
 },
 "nbformat": 4,
 "nbformat_minor": 5
}
