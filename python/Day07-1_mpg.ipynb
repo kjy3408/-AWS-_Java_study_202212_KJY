{
 "cells": [
  {
   "cell_type": "markdown",
   "id": "f652ee59",
   "metadata": {},
   "source": [
    "### 자동차 연비 데이터 정제 \n",
    "\n",
    "uci repo\n",
    "url: https://archive.ics.uci.edu/ml/machine-learning-databases/auto-mpg/auto-mpg.data\n",
    "\n",
    "* requests 패키지 이용 데이터 로딩. (pip install reauests)\n",
    "* 최대한 많이 정제\n",
    "* 배기량, 연비"
   ]
  },
  {
   "cell_type": "markdown",
   "id": "f7905255",
   "metadata": {},
   "source": [
    "* adult data set\n",
    "\n",
    "-age/capital gain 상관도<br>\n",
    "-hours-per-week / capital gain 상관도"
   ]
  },
  {
   "cell_type": "code",
   "execution_count": 86,
   "id": "34337227",
   "metadata": {},
   "outputs": [],
   "source": [
    "import math\n",
    "\n",
    "def mean(xs):#평균\n",
    "    return sum(xs)/len(xs)\n",
    "\n",
    "def dev(xs): #편차\n",
    "    m = mean(xs)\n",
    "    return [x-m for x in xs]\n",
    "\n",
    "def var (xs): #분산\n",
    "    n = len(xs)\n",
    "    d = dev(xs)\n",
    "    return sum(x*x for x in d)/(n-1)\n",
    "\n",
    "def stdev(xs):#표준편차\n",
    "    return math.sqrt(var(xs))\n",
    "\n",
    "\n",
    "def covar(list_1, list_2): #공분산\n",
    "    n = len(list_1)\n",
    "    list_1_dev = dev(list_1)\n",
    "    list_2_dev = dev(list_2)\n",
    "    return sum(x * y for x, y in zip(list_1_dev, list_2_dev))/(n - 1)\n",
    "\n",
    "\n",
    "def corel(list_1, list_2): #상관도 (-1 ~ 1)\n",
    "    return covar(list_1, list_2)/(stdev(list_1) * stdev(list_2))"
   ]
  },
  {
   "cell_type": "code",
   "execution_count": 2,
   "id": "bae3e288",
   "metadata": {},
   "outputs": [],
   "source": [
    "import requests\n",
    "\n",
    "x = requests.get('https://archive.ics.uci.edu/ml/machine-learning-databases/auto-mpg/auto-mpg.data')"
   ]
  },
  {
   "cell_type": "code",
   "execution_count": 3,
   "id": "2ccfeec6",
   "metadata": {
    "scrolled": true
   },
   "outputs": [
    {
     "name": "stdout",
     "output_type": "stream",
     "text": [
      "<class 'list'>\n"
     ]
    }
   ],
   "source": [
    "pass1 = x.text.split('\\n')     # by - line\n",
    "# print(len(pass1))\n",
    "\n",
    "pass2 = []        # 각 샘플(줄)별 숫자부분, 차 명 부분 분리\n",
    "for line in pass1:\n",
    "    pass2.append(line.split('\\t')) #split(뭘 기준으로 자를거?)  #split하면 하나의 list가됨\n",
    "    \n",
    "# print(pass2)  \n",
    "\n",
    "pass3 = []        # 숫자 부분 분리. .split()\n",
    "for e in pass2:\n",
    "    try:\n",
    "        y = e[0].split()\n",
    "        y.append(e[1])\n",
    "        pass3.append(y)\n",
    "    except:\n",
    "        pass\n",
    "    #pass3.append(y)\n",
    "print(type(e))\n",
    "# print(pass3)"
   ]
  },
  {
   "cell_type": "code",
   "execution_count": 94,
   "id": "16e20f16",
   "metadata": {},
   "outputs": [
    {
     "name": "stdout",
     "output_type": "stream",
     "text": [
      "?\n",
      "?\n",
      "?\n",
      "?\n",
      "?\n",
      "?\n"
     ]
    }
   ],
   "source": [
    "#float으로 형변환, 차명 \" 제거\n",
    "for e in pass3:\n",
    "    for i, n in enumerate(e[:-1]):\n",
    "        try:\n",
    "            e[i] = float(n)\n",
    "        except:\n",
    "            print(n)\n",
    "            e[i] = 0.0\n",
    "            \n",
    "    e[-1] = e[-1].strip('\"') \n",
    "    \n",
    "    \n",
    "# for n in pass3[0][:-1]:        #한줄만 처리함(예시)\n",
    "#     print(float(n))"
   ]
  },
  {
   "cell_type": "code",
   "execution_count": 95,
   "id": "653c678c",
   "metadata": {},
   "outputs": [
    {
     "name": "stdout",
     "output_type": "stream",
     "text": [
      "[18.0, 15.0, 18.0, 16.0, 17.0, 15.0, 14.0, 14.0, 14.0, 15.0, 15.0, 14.0, 15.0, 14.0, 24.0, 22.0, 18.0, 21.0, 27.0, 26.0, 25.0, 24.0, 25.0, 26.0, 21.0, 10.0, 10.0, 11.0, 9.0, 27.0, 28.0, 25.0, 25.0, 19.0, 16.0, 17.0, 19.0, 18.0, 14.0, 14.0, 14.0, 14.0, 12.0, 13.0, 13.0, 18.0, 22.0, 19.0, 18.0, 23.0, 28.0, 30.0, 30.0, 31.0, 35.0, 27.0, 26.0, 24.0, 25.0, 23.0, 20.0, 21.0, 13.0, 14.0, 15.0, 14.0, 17.0, 11.0, 13.0, 12.0, 13.0, 19.0, 15.0, 13.0, 13.0, 14.0, 18.0, 22.0, 21.0, 26.0, 22.0, 28.0, 23.0, 28.0, 27.0, 13.0, 14.0, 13.0, 14.0, 15.0, 12.0, 13.0, 13.0, 14.0, 13.0, 12.0, 13.0, 18.0, 16.0, 18.0, 18.0, 23.0, 26.0, 11.0, 12.0, 13.0, 12.0, 18.0, 20.0, 21.0, 22.0, 18.0, 19.0, 21.0, 26.0, 15.0, 16.0, 29.0, 24.0, 20.0, 19.0, 15.0, 24.0, 20.0, 11.0, 20.0, 21.0, 19.0, 15.0, 31.0, 26.0, 32.0, 25.0, 16.0, 16.0, 18.0, 16.0, 13.0, 14.0, 14.0, 14.0, 29.0, 26.0, 26.0, 31.0, 32.0, 28.0, 24.0, 26.0, 24.0, 26.0, 31.0, 19.0, 18.0, 15.0, 15.0, 16.0, 15.0, 16.0, 14.0, 17.0, 16.0, 15.0, 18.0, 21.0, 20.0, 13.0, 29.0, 23.0, 20.0, 23.0, 24.0, 25.0, 24.0, 18.0, 29.0, 19.0, 23.0, 23.0, 22.0, 25.0, 33.0, 28.0, 25.0, 25.0, 26.0, 27.0, 17.5, 16.0, 15.5, 14.5, 22.0, 22.0, 24.0, 22.5, 29.0, 24.5, 29.0, 33.0, 20.0, 18.0, 18.5, 17.5, 29.5, 32.0, 28.0, 26.5, 20.0, 13.0, 19.0, 19.0, 16.5, 16.5, 13.0, 13.0, 13.0, 31.5, 30.0, 36.0, 25.5, 33.5, 17.5, 17.0, 15.5, 15.0, 17.5, 20.5, 19.0, 18.5, 16.0, 15.5, 15.5, 16.0, 29.0, 24.5, 26.0, 25.5, 30.5, 33.5, 30.0, 30.5, 22.0, 21.5, 21.5, 43.1, 36.1, 32.8, 39.4, 36.1, 19.9, 19.4, 20.2, 19.2, 20.5, 20.2, 25.1, 20.5, 19.4, 20.6, 20.8, 18.6, 18.1, 19.2, 17.7, 18.1, 17.5, 30.0, 27.5, 27.2, 30.9, 21.1, 23.2, 23.8, 23.9, 20.3, 17.0, 21.6, 16.2, 31.5, 29.5, 21.5, 19.8, 22.3, 20.2, 20.6, 17.0, 17.6, 16.5, 18.2, 16.9, 15.5, 19.2, 18.5, 31.9, 34.1, 35.7, 27.4, 25.4, 23.0, 27.2, 23.9, 34.2, 34.5, 31.8, 37.3, 28.4, 28.8, 26.8, 33.5, 41.5, 38.1, 32.1, 37.2, 28.0, 26.4, 24.3, 19.1, 34.3, 29.8, 31.3, 37.0, 32.2, 46.6, 27.9, 40.8, 44.3, 43.4, 36.4, 30.0, 44.6, 40.9, 33.8, 29.8, 32.7, 23.7, 35.0, 23.6, 32.4, 27.2, 26.6, 25.8, 23.5, 30.0, 39.1, 39.0, 35.1, 32.3, 37.0, 37.7, 34.1, 34.7, 34.4, 29.9, 33.0, 34.5, 33.7, 32.4, 32.9, 31.6, 28.1, 30.7, 25.4, 24.2, 22.4, 26.6, 20.2, 17.6, 28.0, 27.0, 34.0, 31.0, 29.0, 27.0, 24.0, 23.0, 36.0, 37.0, 31.0, 38.0, 36.0, 36.0, 36.0, 34.0, 38.0, 32.0, 38.0, 25.0, 38.0, 26.0, 22.0, 32.0, 36.0, 27.0, 27.0, 44.0, 32.0, 28.0, 31.0]\n"
     ]
    }
   ],
   "source": [
    "# print(pass3) #연비[0] 배기량[2]\n",
    "\n",
    "mpg_list = []      #연비\n",
    "disp_list = []     #배기량\n",
    "\n",
    "for e in pass3:\n",
    "    mpg_list.append(e[0])\n",
    "    disp_list.append(e[2])\n",
    "    \n",
    "print(mpg_list)"
   ]
  },
  {
   "cell_type": "code",
   "execution_count": 96,
   "id": "9ec7f301",
   "metadata": {},
   "outputs": [
    {
     "name": "stdout",
     "output_type": "stream",
     "text": [
      "평균연비:\t 23.514572864321615\n",
      "연비 표준편차:   7.815984312565782\n",
      "평균배기량:\t 193.42587939698493\n",
      "배기량 표준편차: 104.26983817119581\n"
     ]
    }
   ],
   "source": [
    "# 연비: 평균, 표준편차\n",
    "# 배기량: 평균, 표준편차\n",
    "\n",
    "mpg_mean = mean(mpg_list)\n",
    "mpg_stdev = stdev(mpg_list)\n",
    "\n",
    "print('평균연비:\\t', mpg_mean)\n",
    "print('연비 표준편차:  ', mpg_stdev)\n",
    "\n",
    "disp_mean = mean(disp_list)\n",
    "disp_stdev = stdev(disp_list)\n",
    "\n",
    "print('평균배기량:\\t', disp_mean)\n",
    "print('배기량 표준편차:' ,disp_stdev)\n"
   ]
  },
  {
   "cell_type": "code",
   "execution_count": 101,
   "id": "09649b03",
   "metadata": {},
   "outputs": [
    {
     "name": "stdout",
     "output_type": "stream",
     "text": [
      "상관도: -0.8042028248058988\n"
     ]
    }
   ],
   "source": [
    "print('상관도:', corel(mpg_list, disp_list))"
   ]
  },
  {
   "cell_type": "code",
   "execution_count": 100,
   "id": "3ad18f44",
   "metadata": {},
   "outputs": [
    {
     "name": "stdout",
     "output_type": "stream",
     "text": [
      "상관도: -0.8317409332443351\n"
     ]
    }
   ],
   "source": [
    "#차체중량(index 4) vs 연비\n",
    "weight_list = [e[4] for e in pass3]   #한줄 반복\n",
    "# for e in pass3:\n",
    "#     weight_list.append(e[4])\n",
    "\n",
    "\n",
    "print('상관도:', corel(weight_list, mpg_list))"
   ]
  }
 ],
 "metadata": {
  "kernelspec": {
   "display_name": "Python 3 (ipykernel)",
   "language": "python",
   "name": "python3"
  },
  "language_info": {
   "codemirror_mode": {
    "name": "ipython",
    "version": 3
   },
   "file_extension": ".py",
   "mimetype": "text/x-python",
   "name": "python",
   "nbconvert_exporter": "python",
   "pygments_lexer": "ipython3",
   "version": "3.10.9"
  }
 },
 "nbformat": 4,
 "nbformat_minor": 5
}
