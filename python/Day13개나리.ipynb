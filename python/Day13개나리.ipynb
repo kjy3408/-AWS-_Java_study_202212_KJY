{
 "cells": [
  {
   "cell_type": "code",
   "execution_count": 1,
   "id": "0c9415f6",
   "metadata": {},
   "outputs": [],
   "source": [
    "# 최종안전점검일자 조사 후 6개월 이상 점검하지 않은 육교 조사\n",
    "# -> 위치, 안전등급"
   ]
  },
  {
   "cell_type": "markdown",
   "id": "40b43e2a",
   "metadata": {},
   "source": [
    "* 제각각 계산시 결측치 있는 샘플은 버림\n",
    "\n",
    "- 내진설계 된 육교 퍼센트\n",
    "- 안전등급별 육교 개수, 비율\n",
    "- 육교가 만들어진 연도 vs 장애인편의시설 간 상관관계\n",
    "    연도, 장애인편의시설 갖춘 육교의 개수/ 해당연도 건설 육교 개수\n",
    "    \n",
    "- 육교연장, 허용통행하중, 통행제한 높이에 대해\n",
    "    최대, 최소값, 평균, 표준편차\n",
    "    \n",
    "        - 길이가 가장 긴 육교(육교연장)\n",
    "        - 가장 튼튼한 육교(허용통행하중)\n",
    "        - 가장 높은 육교(통행제한 높이)"
   ]
  },
  {
   "cell_type": "code",
   "execution_count": 38,
   "id": "e75c0219",
   "metadata": {},
   "outputs": [],
   "source": [
    "import numpy as np\n",
    "import math\n",
    "\n",
    "def process_product_names(s):\n",
    "    r = []\n",
    "    remove_after = ['(', '외']\n",
    "    split_at = ['+', ',', ' ']\n",
    "    for c in remove_after: #'(' , '외'일 경우 뒤의 문자열은 다 삭제\n",
    "        if c in s:\n",
    "            s = s[:s.index(c)]\n",
    "    for c in split_at:\n",
    "        if c in s:\n",
    "            r = r + s.split(c)\n",
    "    \n",
    "    if len(r) == 0:\n",
    "        r.append(s)\n",
    "        \n",
    "    return r\n",
    "\n",
    "def my_split(s):\n",
    "    block_start = False\n",
    "    start_index = 0\n",
    "    ret_list=[]\n",
    "    for i, c in enumerate(s):\n",
    "        if block_start==False:\n",
    "            if c==',':\n",
    "                ret_list.append(s[start_index:i])\n",
    "                start_index=i+1\n",
    "            elif c=='\"':\n",
    "                block_start=True\n",
    "                start_index = i\n",
    "        else:\n",
    "            if c=='\"':\n",
    "                block_start=False\n",
    "    if s[-1]!=',':\n",
    "        ret_list.append(s[start_index:])\n",
    "    return ret_list\n"
   ]
  },
  {
   "cell_type": "code",
   "execution_count": 39,
   "id": "5b5a61fa",
   "metadata": {},
   "outputs": [
    {
     "name": "stdout",
     "output_type": "stream",
     "text": [
      "[['육교명', '도로종류', '도로노선번호', '도로노선명', '소재지도로명주소', '위도', '경도', '육교연장', '육교높이', '허용통행하중', '통행제한높이', '육교폭', '난간높이', '조명개수', '장애인편의시설설치여부', '장애인편의시설종류', '장애인편의시설수량', '부대시설종류', '부대시설수량', '육교준공일자', '내진설계적용여부', '안전등급', '사용제한구분', '육교보수보강내역', '최종안전점검유형', '최종안전점검일자', '관리기관명', '데이터기준일자', '제공기관코드', '제공기관명'], ['우신초교 앞 보도육교', '시도', '147', '신길로', '서울특별시 영등포구 신길로 190', '37.509263', '126.910801', '23', '4.7', '', '4.5', '3.4', '1', '8', 'Y', '점자블록+핸드레일 촉지판', '24', '', '', '1980-09-18', ' ', '보통', '제한없음', '', '정기점검', '2022-04-16', '서울특별시 영등포구청', '2022-07-04', '3180000', '서울특별시 영등포구'], ['영등포역 횡단 보도육교', '기타', '없음', '경인선', '서울특별시 영등포구 경인로94길 7', '37.513895', '126.903695', '83', '', '0.5', '5.6', '3.2', '1.8', '14', 'Y', '엘리베이터', '', '', '', '1974-12-01', ' ', '보통', '제한없음', '', '정기점검', '2022-04-16', '서울특별시 영등포구청', '2022-07-04', '3180000', '서울특별시 영등포구']]\n"
     ]
    }
   ],
   "source": [
    "csv_data = []\n",
    "cut_data = []\n",
    "with open('전국육교정보표준데이터.csv') as f:\n",
    "    for line in f:\n",
    "        csv_data.append(line)\n",
    "        \n",
    "# print(csv_data[:3])\n",
    "\n",
    "for i in csv_data:\n",
    "    cut_data.append(my_split(i[:-1]))\n",
    "\n",
    "print(cut_data[:3])\n",
    "\n",
    "np_data = np.array(cut_data)"
   ]
  },
  {
   "cell_type": "code",
   "execution_count": 50,
   "id": "e8fb33af",
   "metadata": {},
   "outputs": [
    {
     "ename": "ValueError",
     "evalue": "could not convert string to float: ''",
     "output_type": "error",
     "traceback": [
      "\u001b[1;31m---------------------------------------------------------------------------\u001b[0m",
      "\u001b[1;31mValueError\u001b[0m                                Traceback (most recent call last)",
      "Cell \u001b[1;32mIn[50], line 9\u001b[0m\n\u001b[0;32m      7\u001b[0m x_array, a \u001b[38;5;241m=\u001b[39m np\u001b[38;5;241m.\u001b[39munique(long_np, return_counts \u001b[38;5;241m=\u001b[39m \u001b[38;5;28;01mTrue\u001b[39;00m)\n\u001b[0;32m      8\u001b[0m \u001b[38;5;66;03m# print(x_array)\u001b[39;00m\n\u001b[1;32m----> 9\u001b[0m xx_array \u001b[38;5;241m=\u001b[39m \u001b[43mx_array\u001b[49m\u001b[38;5;241;43m.\u001b[39;49m\u001b[43mastype\u001b[49m\u001b[43m(\u001b[49m\u001b[38;5;28;43mfloat\u001b[39;49m\u001b[43m)\u001b[49m\n\u001b[0;32m     10\u001b[0m \u001b[38;5;66;03m# xx_array = float(x_array[::-1])\u001b[39;00m\n\u001b[0;32m     11\u001b[0m \n\u001b[0;32m     12\u001b[0m \u001b[38;5;66;03m# print(np_long[:10])\u001b[39;00m\n\u001b[0;32m     13\u001b[0m \u001b[38;5;66;03m# print(np.sort(x_array)[::-1])\u001b[39;00m\n",
      "\u001b[1;31mValueError\u001b[0m: could not convert string to float: ''"
     ]
    }
   ],
   "source": [
    "# print(np_data)\n",
    "a = []\n",
    "np_data[:, 7:8]\n",
    "long_np = np_data[:, 7:8]\n",
    "\n",
    "# print(long_np[:100])\n",
    "x_array, a = np.unique(long_np, return_counts = True)\n",
    "# print(x_array)\n",
    "xx_array = x_array.astype(float)\n",
    "# xx_array = float(x_array[::-1])\n",
    "\n",
    "# print(np_long[:10])\n",
    "# print(np.sort(x_array)[::-1])"
   ]
  },
  {
   "cell_type": "code",
   "execution_count": null,
   "id": "2654a28e",
   "metadata": {},
   "outputs": [],
   "source": [
    ":"
   ]
  }
 ],
 "metadata": {
  "kernelspec": {
   "display_name": "Python 3 (ipykernel)",
   "language": "python",
   "name": "python3"
  },
  "language_info": {
   "codemirror_mode": {
    "name": "ipython",
    "version": 3
   },
   "file_extension": ".py",
   "mimetype": "text/x-python",
   "name": "python",
   "nbconvert_exporter": "python",
   "pygments_lexer": "ipython3",
   "version": "3.10.9"
  }
 },
 "nbformat": 4,
 "nbformat_minor": 5
}
