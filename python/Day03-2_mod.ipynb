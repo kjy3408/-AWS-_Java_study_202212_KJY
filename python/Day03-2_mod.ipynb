{
 "cells": [
  {
   "cell_type": "code",
   "execution_count": 56,
   "id": "a4982b94",
   "metadata": {},
   "outputs": [
    {
     "data": {
      "text/plain": [
       "70"
      ]
     },
     "execution_count": 56,
     "metadata": {},
     "output_type": "execute_result"
    }
   ],
   "source": [
    "import random  #random모듈 가져옴\n",
    "\n",
    "random.randrange(0, 100, 2) #랜덤한 숫자가 0~100까지 나옴"
   ]
  },
  {
   "cell_type": "code",
   "execution_count": 32,
   "id": "8c254585",
   "metadata": {},
   "outputs": [
    {
     "data": {
      "text/plain": [
       "6"
      ]
     },
     "execution_count": 32,
     "metadata": {},
     "output_type": "execute_result"
    }
   ],
   "source": [
    "# from random import randrange #이렇게도 import 쓸 수 있음.(randrange만 가져옴)\n",
    "from random import randrange as rr\n",
    "# random.randrange(0, 100, 2) #이렇게 사용하면 에러남 \n",
    "rr(0, 100, 2)"
   ]
  },
  {
   "cell_type": "code",
   "execution_count": 34,
   "id": "250c7781",
   "metadata": {},
   "outputs": [
    {
     "data": {
      "text/plain": [
       "60"
      ]
     },
     "execution_count": 34,
     "metadata": {},
     "output_type": "execute_result"
    }
   ],
   "source": [
    "import random as rand\n",
    "\n",
    "rand.randrange(0, 100, 2)"
   ]
  },
  {
   "cell_type": "code",
   "execution_count": 3,
   "id": "065d3682",
   "metadata": {},
   "outputs": [
    {
     "name": "stdout",
     "output_type": "stream",
     "text": [
      "mymodule.py\n"
     ]
    }
   ],
   "source": [
    "import mymodule as md\n",
    "\n",
    "md.myfn1('mymodule.py')"
   ]
  }
 ],
 "metadata": {
  "kernelspec": {
   "display_name": "Python 3 (ipykernel)",
   "language": "python",
   "name": "python3"
  },
  "language_info": {
   "codemirror_mode": {
    "name": "ipython",
    "version": 3
   },
   "file_extension": ".py",
   "mimetype": "text/x-python",
   "name": "python",
   "nbconvert_exporter": "python",
   "pygments_lexer": "ipython3",
   "version": "3.10.9"
  }
 },
 "nbformat": 4,
 "nbformat_minor": 5
}
