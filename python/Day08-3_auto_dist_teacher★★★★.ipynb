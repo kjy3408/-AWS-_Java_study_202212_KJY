{
 "cells": [
  {
   "cell_type": "code",
   "execution_count": 7,
   "id": "35e6224c",
   "metadata": {},
   "outputs": [],
   "source": [
    "import numpy as np\n",
    "import math\n",
    "\n",
    "def my_split(s):\n",
    "    block_start = False\n",
    "    start_index = 0\n",
    "    ret_list=[]\n",
    "    for i, c in enumerate(s):\n",
    "        if block_start==False:\n",
    "            if c==',':\n",
    "                ret_list.append(s[start_index:i])\n",
    "                start_index=i+1\n",
    "            elif c=='\"':\n",
    "                block_start=True\n",
    "                start_index = i\n",
    "        else:\n",
    "            if c=='\"':\n",
    "                block_start=False\n",
    "    if s[-1]!=',':\n",
    "        ret_list.append(s[start_index:])\n",
    "    return ret_list\n",
    "\n",
    "def split_len(data_list):\n",
    "    len_list=[]\n",
    "    for e in data_list:\n",
    "        len_list.append(len(e))\n",
    "    print(set(len_list))\n",
    "    if len(set(len_list))>1:\n",
    "        for i in set(len_list):\n",
    "            print(i, len_list.count(i))\n",
    "\n",
    "def dist_np(p1, p2): #  [3,10]  [5,25]\n",
    "    return math.sqrt(sum((p2-p1)**2))"
   ]
  },
  {
   "cell_type": "code",
   "execution_count": 1,
   "id": "43fccdbe",
   "metadata": {},
   "outputs": [
    {
     "name": "stdout",
     "output_type": "stream",
     "text": [
      "[['자동차정비업체명', '자동차정비업체종류', '소재지도로명주소', '소재지지번주소', '위도', '경도', '사업등록일자', '면적', '영업상태', '폐업일자', '휴업시작일자', '휴업종료일자', '운영시작시각', '운영종료시각', '전화번호', '관리기관명', '관리기관전화번호', '데이터기준일자', '제공기관코드', '제공기관명\\n'], ['서면카센타', '3', '경상북도 울진군 금강송면 불영계곡로 1684', '', '36.93385095', '129.2462157', '2006-11-27', '650', '1', '', '', '', '09:00', '18:00', '054-781-0744', '경상북도 울진군', '054-789-6636', '2021-10-22', '1613000', '국토교통부\\n'], ['주식회사 이에스티', '1', '충청북도 진천군 이월면 이덕로 267', '', '36.9337494', '127.4605018', '2016-02-17', '8821.34', '1', '', '', '', '09:00', '18:00', '043-532-8228', '충청북도 진천군', '043-539-3073', '2021-10-22', '1613000', '국토교통부\\n']]\n"
     ]
    }
   ],
   "source": [
    "csv_data=[]\n",
    "with open('전국자동차정비업체표준데이터.csv') as f:\n",
    "    for line in f:\n",
    "        csv_data.append(line.split(','))\n",
    "\n",
    "print(csv_data[:3])"
   ]
  },
  {
   "cell_type": "code",
   "execution_count": 3,
   "id": "066ea10c",
   "metadata": {},
   "outputs": [
    {
     "name": "stdout",
     "output_type": "stream",
     "text": [
      "4\n",
      "5\n"
     ]
    }
   ],
   "source": [
    "print(csv_data[0].index('위도'))\n",
    "print(csv_data[0].index('경도'))"
   ]
  },
  {
   "cell_type": "code",
   "execution_count": 12,
   "id": "5a89bda8",
   "metadata": {},
   "outputs": [
    {
     "name": "stdout",
     "output_type": "stream",
     "text": [
      "[[36.93385095, 129.2462157], [36.9337494, 127.4605018], [36.93372085, 127.8917746]]\n"
     ]
    }
   ],
   "source": [
    "loc_list = []\n",
    "for e in csv_data[1:]:\n",
    "    loc_list.append(e[4:6])\n",
    "    \n",
    "for e in loc_list:\n",
    "    for i, v in enumerate(e):\n",
    "        try:\n",
    "            e[i] = float(v)\n",
    "        except:\n",
    "            e[i] = 0.0\n",
    "\n",
    "print(loc_list[:3])"
   ]
  },
  {
   "cell_type": "code",
   "execution_count": 16,
   "id": "4d2dac21",
   "metadata": {},
   "outputs": [
    {
     "name": "stdout",
     "output_type": "stream",
     "text": [
      "[[0, 1.7905025454917363], [1, 2.393287976605315], [2, 2.129419351921983]]\n"
     ]
    }
   ],
   "source": [
    "target_p = np.array([35.1531, 129.0596])\n",
    "dist_list = []\n",
    "for i, p2 in enumerate(loc_list):\n",
    "    try:\n",
    "        dist_list.append([i, dist_np(target_p, np.array(p2))])\n",
    "    except:\n",
    "        print(p2)\n",
    "        dist_list.append([i, 100.0])\n",
    "\n",
    "print(dist_list[:3])"
   ]
  },
  {
   "cell_type": "code",
   "execution_count": 20,
   "id": "67816c2e",
   "metadata": {},
   "outputs": [
    {
     "name": "stdout",
     "output_type": "stream",
     "text": [
      "[[42789, 0.00422751591405875], [42736, 0.004664402222051449], [42809, 0.005492081395315601], [42717, 0.005953129867528799], [42731, 0.006143105629974679]]\n"
     ]
    }
   ],
   "source": [
    "r = sorted(dist_list, key = lambda x: x[1])\n",
    "print(r[:5])"
   ]
  },
  {
   "cell_type": "code",
   "execution_count": 21,
   "id": "0f052522",
   "metadata": {},
   "outputs": [
    {
     "name": "stdout",
     "output_type": "stream",
     "text": [
      "['르노코리아자동차서비스코너양정점', '03', '부산광역시 부산진구 동평로 327', '부산광역시 부산진구 양정동 477-7', '35.17430279', '129.0609654', '1999-08-25', '1000', '1', '', '', '', '09:00', '18:00', '', '부산광역시 부산진구청', '051-605-4657', '2022-11-17', '3290000', '부산광역시 부산진구\\n']\n",
      "['케이오토미션', '3', '전라남도 목포시 용당로77번길 8 (산정동)', '전라남도 목포시 산정동 1287-3', '34.794587479', '126.401374392', '2022-01-03', '154', '1', '', '', '', '09:00', '18:00', '061-272-7507', '전라남도 목포시청', '061-270-8241', '2022-11-25', '4800000', '전라남도 목포시\\n']\n",
      "['프로디테일(카쎈팩토리)', '03', '부산광역시 부산진구 거제대로 14', '부산광역시 부산진구 양정동 402-15', '35.16970197', '129.0677114', '1997-11-27', '1000', '1', '', '', '', '09:00', '18:00', '', '부산광역시 부산진구청', '051-605-4657', '2022-11-17', '3290000', '부산광역시 부산진구\\n']\n",
      "['최기사카클리닉', '03', '부산광역시 부산진구 엄광로 511-1', '부산광역시 부산진구 범천동 1521-65', '35.14429293', '129.048844', '2007-09-19', '1000', '1', '', '', '', '09:00', '18:00', '', '부산광역시 부산진구청', '051-605-4657', '2022-11-17', '3290000', '부산광역시 부산진구\\n']\n",
      "['명인모터스', '03', '부산광역시 부산진구 자유평화로37번길 15-10', '부산광역시 부산진구 범천동 839-9', '35.14232963', '129.0631067', '2014-07-31', '1000', '1', '', '', '', '09:00', '18:00', '', '부산광역시 부산진구청', '051-605-4657', '2022-11-17', '3290000', '부산광역시 부산진구\\n']\n"
     ]
    }
   ],
   "source": [
    "for x in r[:5]:\n",
    "    print(csv_data[x[0]])"
   ]
  }
 ],
 "metadata": {
  "kernelspec": {
   "display_name": "Python 3 (ipykernel)",
   "language": "python",
   "name": "python3"
  },
  "language_info": {
   "codemirror_mode": {
    "name": "ipython",
    "version": 3
   },
   "file_extension": ".py",
   "mimetype": "text/x-python",
   "name": "python",
   "nbconvert_exporter": "python",
   "pygments_lexer": "ipython3",
   "version": "3.10.9"
  }
 },
 "nbformat": 4,
 "nbformat_minor": 5
}
