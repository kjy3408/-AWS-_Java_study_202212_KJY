{
 "cells": [
  {
   "cell_type": "code",
   "execution_count": null,
   "id": "54a9abde",
   "metadata": {},
   "outputs": [],
   "source": [
    "#함수\n",
    "#define => 함수선언한다는 키워드\n",
    "def function_name():\n",
    "    print('myfunction')\n",
    "    \n",
    "function_name() #함수호출"
   ]
  },
  {
   "cell_type": "code",
   "execution_count": 61,
   "id": "66d3667e",
   "metadata": {},
   "outputs": [
    {
     "name": "stdout",
     "output_type": "stream",
     "text": [
      "a b c\n"
     ]
    }
   ],
   "source": [
    "# function argument\n",
    "def myfn1():\n",
    "    print('myfn1')\n",
    "\n",
    "def myfn2(arg1):\n",
    "    print(arg1)\n",
    "    \n",
    "def myfn3(arg1 = 'a', arg2 = 'b'):\n",
    "    print(arg1, arg2)\n",
    "    \n",
    "def myfn4(*arg1): #매개변수의 개수가 불분명할때 \"*\"를 넣음(tuple로받음)\n",
    "    for i in arg1: #tuple을 순환. (그냥 출력하면 튜플형식으로 나옴)\n",
    "        print(i)\n",
    "    \n",
    "def myfn5(arg1, *, arg2, arg3): #\"*\"이후엔 무조건 키워드arg로 쓰겠다라는 뜻.\n",
    "    print(arg1, arg2, arg3)\n",
    "    \n",
    "def myfn6(arg1, /, arg2, arg3): #\"/\"앞으론 무조건 포지셔널arg로 쓰겠다라는 뜻.\n",
    "    print(arg1, arg2, arg3)\n",
    "    \n",
    "#myfn2('abc')\n",
    "#myfn3(10, 20)\n",
    "#myfn3(arg2=10, arg1=20)\n",
    "#myfn3()\n",
    "#myfn4(1,2,3,4)\n",
    "#myfn2([1,2,3,4]) #매개변수에 list를 넣음\n",
    "#myfn5('a',arg2 = 'b',arg3 = 'c') #키워드를 넣은 arg2와 arg3\n",
    "#myfn5(arg1 = 'a', arg2 = 'b', arg3 = 'c')\n",
    "#myfn6('a','b','c')\n",
    "#myfn6('a',arg2 = 'b',arg3 = 'c')\n",
    "\n"
   ]
  },
  {
   "cell_type": "code",
   "execution_count": 3,
   "id": "57764102",
   "metadata": {},
   "outputs": [
    {
     "name": "stdout",
     "output_type": "stream",
     "text": [
      "(10, 20)\n"
     ]
    }
   ],
   "source": [
    "# function return\n",
    "def myfn8():\n",
    "    print('myfn8')\n",
    "    \n",
    "def myfn9():\n",
    "    return 10\n",
    "\n",
    "def myfn10(): #튜플로 반환\n",
    "    return 10,20\n",
    "\n",
    "#ret_value = myfn8()\n",
    "ret_value = myfn10()\n",
    "print(ret_value)\n",
    "\n"
   ]
  }
 ],
 "metadata": {
  "kernelspec": {
   "display_name": "Python 3 (ipykernel)",
   "language": "python",
   "name": "python3"
  },
  "language_info": {
   "codemirror_mode": {
    "name": "ipython",
    "version": 3
   },
   "file_extension": ".py",
   "mimetype": "text/x-python",
   "name": "python",
   "nbconvert_exporter": "python",
   "pygments_lexer": "ipython3",
   "version": "3.10.9"
  }
 },
 "nbformat": 4,
 "nbformat_minor": 5
}
