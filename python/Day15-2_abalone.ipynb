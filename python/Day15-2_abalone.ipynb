{
 "cells": [
  {
   "cell_type": "markdown",
   "id": "40b4b8d8",
   "metadata": {},
   "source": [
    "#### 전복\n",
    "\n",
    "1. [함수]requests 패키지를 이용해서 데이터 가져와서 ndarray로 변환.\n",
    "\n",
    "2. [함수]성별이 'M'인 데이터만 필터, Length 와 Diameter 간 상관도를 최종 반환\n",
    "\n",
    "3. __name__ 값이 __main__ 이면, 1,2 함수를 실행, 2번함수의 반환값을 프린트"
   ]
  },
  {
   "cell_type": "code",
   "execution_count": 59,
   "id": "32c663e2",
   "metadata": {},
   "outputs": [],
   "source": [
    "def split_len(data_list):\n",
    "    len_list=[]\n",
    "    for e in data_list:\n",
    "        len_list.append(len(e))\n",
    "    print(set(len_list))\n",
    "    if len(set(len_list))>1:\n",
    "        for i in set(len_list):\n",
    "            print(i, len_list.count(i))"
   ]
  },
  {
   "cell_type": "code",
   "execution_count": 63,
   "id": "846c6181",
   "metadata": {},
   "outputs": [],
   "source": [
    "import requests\n",
    "import numpy as np\n",
    "import matplotlib.pyplot as plt\n",
    "from scipy import stats\n",
    "\n",
    "\n",
    "x = requests.get('https://archive.ics.uci.edu/ml/machine-learning-databases/abalone/abalone.data')"
   ]
  },
  {
   "cell_type": "code",
   "execution_count": 117,
   "id": "9eadab51",
   "metadata": {
    "scrolled": true
   },
   "outputs": [
    {
     "name": "stdout",
     "output_type": "stream",
     "text": [
      "[['M' '0.455' '0.365' '0.095' '0.514' '0.2245' '0.101' '0.15' '15']\n",
      " ['M' '0.35' '0.265' '0.09' '0.2255' '0.0995' '0.0485' '0.07' '7']\n",
      " ['F' '0.53' '0.42' '0.135' '0.677' '0.2565' '0.1415' '0.21' '9']]\n"
     ]
    }
   ],
   "source": [
    "csv_data=[]\n",
    "for line in x.text.split('\\n'):\n",
    "    csv_data.append(line.split(','))\n",
    "    \n",
    "\n",
    "    \n",
    "# print(csv_data)\n",
    "\n",
    "\n",
    "np_data = np.array(csv_data[:-1])\n",
    "print(np_data[:3])"
   ]
  },
  {
   "cell_type": "code",
   "execution_count": 77,
   "id": "e1f68618",
   "metadata": {},
   "outputs": [
    {
     "name": "stdout",
     "output_type": "stream",
     "text": [
      "[['M' '0.455' '0.365' ... '0.101' '0.15' '15']\n",
      " ['M' '0.35' '0.265' ... '0.0485' '0.07' '7']\n",
      " ['M' '0.44' '0.365' ... '0.114' '0.155' '10']\n",
      " ...\n",
      " ['M' '0.59' '0.44' ... '0.2145' '0.2605' '10']\n",
      " ['M' '0.6' '0.475' ... '0.2875' '0.308' '9']\n",
      " ['M' '0.71' '0.555' ... '0.3765' '0.495' '12']]\n"
     ]
    }
   ],
   "source": [
    "filter1 = np_data[:, 0] == 'M'\n",
    "s_data = np_data[filter1]\n",
    "\n",
    "print(s_data)"
   ]
  },
  {
   "cell_type": "code",
   "execution_count": 109,
   "id": "1696e675",
   "metadata": {},
   "outputs": [
    {
     "name": "stdout",
     "output_type": "stream",
     "text": [
      "M인 Length 전체 더하기 671.23\n"
     ]
    }
   ],
   "source": [
    "leng_data = s_data[:, 1:].astype(np.float64)\n",
    "all_leng = np.sum(leng_data[:, 1:2])\n",
    "\n",
    "leng = (leng_data[:, 1:2])\n",
    "print('M인 Length 전체 더하기', all_leng)"
   ]
  },
  {
   "cell_type": "code",
   "execution_count": 107,
   "id": "41ebb7bd",
   "metadata": {},
   "outputs": [
    {
     "name": "stdout",
     "output_type": "stream",
     "text": [
      "M인 Diameter 전체 더하기 231.31\n"
     ]
    }
   ],
   "source": [
    "dia_data = s_data[:, 1:].astype(np.float64)\n",
    "all_dia = np.sum(dia_data[:, 2:3])\n",
    "\n",
    "dia = (dia_data[:, 2:3])\n",
    "print('M인 Diameter 전체 더하기', all_dia)"
   ]
  },
  {
   "cell_type": "code",
   "execution_count": 116,
   "id": "5e6b9f33",
   "metadata": {},
   "outputs": [
    {
     "name": "stdout",
     "output_type": "stream",
     "text": [
      "[[0.095]\n",
      " [0.09 ]\n",
      " [0.125]\n",
      " ...\n",
      " [0.135]\n",
      " [0.205]\n",
      " [0.195]]\n",
      "[[0.365]\n",
      " [0.265]\n",
      " [0.365]\n",
      " ...\n",
      " [0.44 ]\n",
      " [0.475]\n",
      " [0.555]]\n"
     ]
    },
    {
     "data": {
      "text/plain": [
       "[<matplotlib.lines.Line2D at 0x26329939c60>]"
      ]
     },
     "execution_count": 116,
     "metadata": {},
     "output_type": "execute_result"
    },
    {
     "data": {
      "image/png": "[encoded data removed]",
      "text/plain": [
       "<Figure size 640x480 with 1 Axes>"
      ]
     },
     "metadata": {},
     "output_type": "display_data"
    }
   ],
   "source": [
    "print(dia)\n",
    "print(leng)\n",
    "\n",
    "_, axe = plt.subplots()\n",
    "axe.plot(leng[:3, :], dia[:3, :])\n",
    "# axe.plot(all_leng[0], all_dia[0])\n",
    "\n",
    "# axe.plot(pass3[:,0], pass3[:, 1])"
   ]
  }
 ],
 "metadata": {
  "kernelspec": {
   "display_name": "Python 3 (ipykernel)",
   "language": "python",
   "name": "python3"
  },
  "language_info": {
   "codemirror_mode": {
    "name": "ipython",
    "version": 3
   },
   "file_extension": ".py",
   "mimetype": "text/x-python",
   "name": "python",
   "nbconvert_exporter": "python",
   "pygments_lexer": "ipython3",
   "version": "3.10.9"
  }
 },
 "nbformat": 4,
 "nbformat_minor": 5
}
