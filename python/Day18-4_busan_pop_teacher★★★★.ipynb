{
 "cells": [
  {
   "cell_type": "markdown",
   "id": "1e1f119d",
   "metadata": {},
   "source": [
    "### 주제\n",
    "- 년도별 남/여 인구비율 - 인구_남, 인구_여 column 다음에 위치\n",
    "- 한국인/외국인 비율 - 인구밀도 앞에 위치\n",
    "\n",
    "한/외\n",
    "남/여"
   ]
  },
  {
   "cell_type": "code",
   "execution_count": 277,
   "id": "521b211e",
   "metadata": {},
   "outputs": [
    {
     "data": {
      "text/html": [
       "<div>\n",
       "<style scoped>\n",
       "    .dataframe tbody tr th:only-of-type {\n",
       "        vertical-align: middle;\n",
       "    }\n",
       "\n",
       "    .dataframe tbody tr th {\n",
       "        vertical-align: top;\n",
       "    }\n",
       "\n",
       "    .dataframe thead th {\n",
       "        text-align: right;\n",
       "    }\n",
       "</style>\n",
       "<table border=\"1\" class=\"dataframe\">\n",
       "  <thead>\n",
       "    <tr style=\"text-align: right;\">\n",
       "      <th></th>\n",
       "      <th>시점</th>\n",
       "      <th>세대수</th>\n",
       "      <th>인구_남</th>\n",
       "      <th>인구_여</th>\n",
       "      <th>한국인(명)</th>\n",
       "      <th>외국인(명)</th>\n",
       "      <th>인구밀도</th>\n",
       "    </tr>\n",
       "  </thead>\n",
       "  <tbody>\n",
       "    <tr>\n",
       "      <th>1</th>\n",
       "      <td>2018</td>\n",
       "      <td>1480468</td>\n",
       "      <td>1721327</td>\n",
       "      <td>1772692</td>\n",
       "      <td>3441453</td>\n",
       "      <td>52566</td>\n",
       "      <td>769.94</td>\n",
       "    </tr>\n",
       "    <tr>\n",
       "      <th>2</th>\n",
       "      <td>2019</td>\n",
       "      <td>1497908</td>\n",
       "      <td>1704098</td>\n",
       "      <td>1762465</td>\n",
       "      <td>3413841</td>\n",
       "      <td>52722</td>\n",
       "      <td>770.07</td>\n",
       "    </tr>\n",
       "    <tr>\n",
       "      <th>3</th>\n",
       "      <td>2020</td>\n",
       "      <td>1530431</td>\n",
       "      <td>1686412</td>\n",
       "      <td>1752298</td>\n",
       "      <td>3391946</td>\n",
       "      <td>46764</td>\n",
       "      <td>770.07</td>\n",
       "    </tr>\n",
       "  </tbody>\n",
       "</table>\n",
       "</div>"
      ],
      "text/plain": [
       "     시점      세대수     인구_남     인구_여   한국인(명) 외국인(명)    인구밀도\n",
       "1  2018  1480468  1721327  1772692  3441453  52566  769.94\n",
       "2  2019  1497908  1704098  1762465  3413841  52722  770.07\n",
       "3  2020  1530431  1686412  1752298  3391946  46764  770.07"
      ]
     },
     "execution_count": 277,
     "metadata": {},
     "output_type": "execute_result"
    }
   ],
   "source": [
    "import numpy as np\n",
    "import pandas as pd\n",
    "import matplotlib.pyplot as plt\n",
    "\n",
    "pop_df = pd.read_csv('등록인구추이_20230223163324.csv', encoding = 'cp949')\n",
    "pop_df.drop(0, axis=0, inplace=True)\n",
    "pop_df.columns = ['시점','세대수', '인구_남', '인구_여', '한국인(명)', '외국인(명)', '인구밀도']\n",
    "\n",
    "pop_df.head()"
   ]
  },
  {
   "cell_type": "markdown",
   "id": "146c8ad8",
   "metadata": {},
   "source": [
    "##  해당 calumn => pd명['calumn명'] / pd명[:, 'calumn명']"
   ]
  },
  {
   "cell_type": "code",
   "execution_count": 278,
   "id": "58761c29",
   "metadata": {},
   "outputs": [],
   "source": [
    "df_mg = pop_df['인구_남'].astype(np.float64)/pop_df['인구_여'].astype(np.float64)  "
   ]
  },
  {
   "cell_type": "code",
   "execution_count": 279,
   "id": "97546a0b",
   "metadata": {},
   "outputs": [],
   "source": [
    "pop_df.insert(4, '인구_남/여', df_mg)"
   ]
  },
  {
   "cell_type": "code",
   "execution_count": 280,
   "id": "1d7ab59b",
   "metadata": {},
   "outputs": [
    {
     "data": {
      "text/html": [
       "<div>\n",
       "<style scoped>\n",
       "    .dataframe tbody tr th:only-of-type {\n",
       "        vertical-align: middle;\n",
       "    }\n",
       "\n",
       "    .dataframe tbody tr th {\n",
       "        vertical-align: top;\n",
       "    }\n",
       "\n",
       "    .dataframe thead th {\n",
       "        text-align: right;\n",
       "    }\n",
       "</style>\n",
       "<table border=\"1\" class=\"dataframe\">\n",
       "  <thead>\n",
       "    <tr style=\"text-align: right;\">\n",
       "      <th></th>\n",
       "      <th>시점</th>\n",
       "      <th>세대수</th>\n",
       "      <th>인구_남</th>\n",
       "      <th>인구_여</th>\n",
       "      <th>인구_남/여</th>\n",
       "      <th>한국인(명)</th>\n",
       "      <th>외국인(명)</th>\n",
       "      <th>인구밀도</th>\n",
       "    </tr>\n",
       "  </thead>\n",
       "  <tbody>\n",
       "    <tr>\n",
       "      <th>1</th>\n",
       "      <td>2018</td>\n",
       "      <td>1480468</td>\n",
       "      <td>1721327</td>\n",
       "      <td>1772692</td>\n",
       "      <td>0.971024</td>\n",
       "      <td>3441453</td>\n",
       "      <td>52566</td>\n",
       "      <td>769.94</td>\n",
       "    </tr>\n",
       "    <tr>\n",
       "      <th>2</th>\n",
       "      <td>2019</td>\n",
       "      <td>1497908</td>\n",
       "      <td>1704098</td>\n",
       "      <td>1762465</td>\n",
       "      <td>0.966883</td>\n",
       "      <td>3413841</td>\n",
       "      <td>52722</td>\n",
       "      <td>770.07</td>\n",
       "    </tr>\n",
       "    <tr>\n",
       "      <th>3</th>\n",
       "      <td>2020</td>\n",
       "      <td>1530431</td>\n",
       "      <td>1686412</td>\n",
       "      <td>1752298</td>\n",
       "      <td>0.962400</td>\n",
       "      <td>3391946</td>\n",
       "      <td>46764</td>\n",
       "      <td>770.07</td>\n",
       "    </tr>\n",
       "  </tbody>\n",
       "</table>\n",
       "</div>"
      ],
      "text/plain": [
       "     시점      세대수     인구_남     인구_여    인구_남/여   한국인(명) 외국인(명)    인구밀도\n",
       "1  2018  1480468  1721327  1772692  0.971024  3441453  52566  769.94\n",
       "2  2019  1497908  1704098  1762465  0.966883  3413841  52722  770.07\n",
       "3  2020  1530431  1686412  1752298  0.962400  3391946  46764  770.07"
      ]
     },
     "execution_count": 280,
     "metadata": {},
     "output_type": "execute_result"
    }
   ],
   "source": [
    "pop_df"
   ]
  },
  {
   "cell_type": "code",
   "execution_count": 281,
   "id": "94651613",
   "metadata": {},
   "outputs": [],
   "source": [
    "df_ky = pop_df['한국인(명)'].astype(np.float64)/pop_df['외국인(명)'].astype(np.float64)"
   ]
  },
  {
   "cell_type": "code",
   "execution_count": 282,
   "id": "30ed49af",
   "metadata": {},
   "outputs": [],
   "source": [
    "pop_df.insert(7, '국적_한/외', df_ky)"
   ]
  },
  {
   "cell_type": "code",
   "execution_count": 283,
   "id": "dbaa8c4e",
   "metadata": {},
   "outputs": [
    {
     "data": {
      "text/html": [
       "<div>\n",
       "<style scoped>\n",
       "    .dataframe tbody tr th:only-of-type {\n",
       "        vertical-align: middle;\n",
       "    }\n",
       "\n",
       "    .dataframe tbody tr th {\n",
       "        vertical-align: top;\n",
       "    }\n",
       "\n",
       "    .dataframe thead th {\n",
       "        text-align: right;\n",
       "    }\n",
       "</style>\n",
       "<table border=\"1\" class=\"dataframe\">\n",
       "  <thead>\n",
       "    <tr style=\"text-align: right;\">\n",
       "      <th></th>\n",
       "      <th>시점</th>\n",
       "      <th>세대수</th>\n",
       "      <th>인구_남</th>\n",
       "      <th>인구_여</th>\n",
       "      <th>인구_남/여</th>\n",
       "      <th>한국인(명)</th>\n",
       "      <th>외국인(명)</th>\n",
       "      <th>국적_한/외</th>\n",
       "      <th>인구밀도</th>\n",
       "    </tr>\n",
       "  </thead>\n",
       "  <tbody>\n",
       "    <tr>\n",
       "      <th>1</th>\n",
       "      <td>2018</td>\n",
       "      <td>1480468</td>\n",
       "      <td>1721327</td>\n",
       "      <td>1772692</td>\n",
       "      <td>0.971024</td>\n",
       "      <td>3441453</td>\n",
       "      <td>52566</td>\n",
       "      <td>65.469182</td>\n",
       "      <td>769.94</td>\n",
       "    </tr>\n",
       "    <tr>\n",
       "      <th>2</th>\n",
       "      <td>2019</td>\n",
       "      <td>1497908</td>\n",
       "      <td>1704098</td>\n",
       "      <td>1762465</td>\n",
       "      <td>0.966883</td>\n",
       "      <td>3413841</td>\n",
       "      <td>52722</td>\n",
       "      <td>64.751736</td>\n",
       "      <td>770.07</td>\n",
       "    </tr>\n",
       "    <tr>\n",
       "      <th>3</th>\n",
       "      <td>2020</td>\n",
       "      <td>1530431</td>\n",
       "      <td>1686412</td>\n",
       "      <td>1752298</td>\n",
       "      <td>0.962400</td>\n",
       "      <td>3391946</td>\n",
       "      <td>46764</td>\n",
       "      <td>72.533273</td>\n",
       "      <td>770.07</td>\n",
       "    </tr>\n",
       "  </tbody>\n",
       "</table>\n",
       "</div>"
      ],
      "text/plain": [
       "     시점      세대수     인구_남     인구_여    인구_남/여   한국인(명) 외국인(명)     국적_한/외  \\\n",
       "1  2018  1480468  1721327  1772692  0.971024  3441453  52566  65.469182   \n",
       "2  2019  1497908  1704098  1762465  0.966883  3413841  52722  64.751736   \n",
       "3  2020  1530431  1686412  1752298  0.962400  3391946  46764  72.533273   \n",
       "\n",
       "     인구밀도  \n",
       "1  769.94  \n",
       "2  770.07  \n",
       "3  770.07  "
      ]
     },
     "execution_count": 283,
     "metadata": {},
     "output_type": "execute_result"
    }
   ],
   "source": [
    "pop_df"
   ]
  }
 ],
 "metadata": {
  "kernelspec": {
   "display_name": "Python 3 (ipykernel)",
   "language": "python",
   "name": "python3"
  },
  "language_info": {
   "codemirror_mode": {
    "name": "ipython",
    "version": 3
   },
   "file_extension": ".py",
   "mimetype": "text/x-python",
   "name": "python",
   "nbconvert_exporter": "python",
   "pygments_lexer": "ipython3",
   "version": "3.10.9"
  }
 },
 "nbformat": 4,
 "nbformat_minor": 5
}
