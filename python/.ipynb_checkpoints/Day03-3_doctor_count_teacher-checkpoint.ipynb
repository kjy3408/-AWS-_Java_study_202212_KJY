{
 "cells": [
  {
   "cell_type": "code",
   "execution_count": 1,
   "id": "d78a86ea",
   "metadata": {},
   "outputs": [
    {
     "name": "stdout",
     "output_type": "stream",
     "text": [
      "[['건강증진센터명', '건강증진센터구분', '소재지도로명주소', '소재지지번주소', '위도', '경도', '건강증진업무내용', '운영시작시각', '운영종료시각', '휴무일정보', '건물면적', '의사수', '간호사수', '사회복지사수', '영양사수', '기타인력현황', '기타이용안내', '운영기관전화번호', '운영기관명', '관리기관전화번호', '관리기관명', '데이터기준일자', '제공기관코드', '제공기관명\\n'], ['맞춤형건강클리닉', '건강증진', '인천광역시 연수구 함박뫼로 13', '인천광역시 연수구 청학동 465-4', '37.41913159', '126.6711606', '치매검진+ 당뇨.고혈압 상담 및 검사+ 뇌경색.심뇌혈관질환+ 정신건강 상담', '9:00', '18:00', '일요일+ 공휴일', '30', '0', '5', '0', '0', '0', '검사전날 오후8시 전까지 식사마치고 검사당일 아침 금식', '032-749-8104', '맞춤형건강클리닉', '032-749-8122', '인천광역시 연수구 보건소', '2021-10-25', '3520000', '인천광역시 연수구\\n'], ['정신건강복지센터', '정신보건', '경상북도 청송군 청송읍 의료원길 19', '경상북도 청송군 청송읍 금곡리 1056-54', '36.431132', '129.051804', '중증정신질환자 관리+정신건강증진사업+아동청소년 정신건강증진사업+자살예방사업', '9:00', '17:00', '토+일+공휴일', '413.87', '0', '4', '1', '0', '0', '', '054-870-7362', '경상북도 청송군 보건의료원', '054-870-7361', '경상북도 청송군 보건의료원', '2022-12-09', '5160000', '경상북도 청송군\\n']]\n"
     ]
    }
   ],
   "source": [
    "csv_data = []\n",
    "with open('전국건강증진센터표준데이터2.csv', encoding = 'cp949') as f:\n",
    "    for line in f:\n",
    "#         print(line) \n",
    "        csv_data.append(line.split(','))\n",
    "        \n",
    "print(csv_data[:3]) "
   ]
  },
  {
   "cell_type": "code",
   "execution_count": 4,
   "id": "88d0fc86",
   "metadata": {},
   "outputs": [
    {
     "name": "stdout",
     "output_type": "stream",
     "text": [
      "{24}\n"
     ]
    }
   ],
   "source": [
    "len_list=[]\n",
    "for e in csv_data:\n",
    "    len_list.append(len(e))\n",
    "print(set(len_list))"
   ]
  },
  {
   "cell_type": "code",
   "execution_count": 10,
   "id": "0fb855c3",
   "metadata": {},
   "outputs": [],
   "source": [
    "doctor_index = csv_data[0].index(\"의사수\") #의사수가 몇번 index인지 물어봄.\n",
    "#csv_data[0] => 위 list의 0번 index니까 '구분'란!"
   ]
  },
  {
   "cell_type": "code",
   "execution_count": 26,
   "id": "c347d46d",
   "metadata": {},
   "outputs": [
    {
     "name": "stdout",
     "output_type": "stream",
     "text": [
      "0 건강증진센터명\n",
      "1 건강증진센터구분\n",
      "2 소재지도로명주소\n",
      "3 소재지지번주소\n",
      "4 위도\n",
      "5 경도\n",
      "6 건강증진업무내용\n",
      "7 운영시작시각\n",
      "8 운영종료시각\n",
      "9 휴무일정보\n",
      "10 건물면적\n",
      "11 의사수\n",
      "12 간호사수\n",
      "13 사회복지사수\n",
      "14 영양사수\n",
      "15 기타인력현황\n",
      "16 기타이용안내\n",
      "17 운영기관전화번호\n",
      "18 운영기관명\n",
      "19 관리기관전화번호\n",
      "20 관리기관명\n",
      "21 데이터기준일자\n",
      "22 제공기관코드\n",
      "23 제공기관명\n",
      "\n"
     ]
    }
   ],
   "source": [
    "for i, e in enumerate(csv_data[0]): #구분 란 index 나옴.\n",
    "    print(i, e)"
   ]
  },
  {
   "cell_type": "code",
   "execution_count": 16,
   "id": "bcbc57eb",
   "metadata": {},
   "outputs": [
    {
     "name": "stdout",
     "output_type": "stream",
     "text": [
      "center count:  291\n",
      "center with no doctor:  166\n"
     ]
    }
   ],
   "source": [
    "doctor_count = [] #그냥 list\n",
    "for e in csv_data[1:]: #index 1번부터 돔. (헤더 날리려고)\n",
    "    doctor_count.append(e[doctor_index])\n",
    "# print(doctor_count)\n",
    "print('center count: ', len(doctor_count)) #총 센터 개수\n",
    "print('center with no doctor: ', doctor_count.count('0'))  #0으로된 문자열 개수"
   ]
  },
  {
   "cell_type": "code",
   "execution_count": 20,
   "id": "a6c19a97",
   "metadata": {},
   "outputs": [
    {
     "name": "stdout",
     "output_type": "stream",
     "text": [
      "doctor count: 156\n"
     ]
    }
   ],
   "source": [
    "# print(doctor_count)\n",
    "for i, c in enumerate(doctor_count): #enumerate 변수 2개가능\n",
    "    doctor_count[i] = int(c)  #문자열을 숫자로 바꿈.\n",
    "print('doctor count:', sum(doctor_count))"
   ]
  }
 ],
 "metadata": {
  "kernelspec": {
   "display_name": "Python 3 (ipykernel)",
   "language": "python",
   "name": "python3"
  },
  "language_info": {
   "codemirror_mode": {
    "name": "ipython",
    "version": 3
   },
   "file_extension": ".py",
   "mimetype": "text/x-python",
   "name": "python",
   "nbconvert_exporter": "python",
   "pygments_lexer": "ipython3",
   "version": "3.10.9"
  }
 },
 "nbformat": 4,
 "nbformat_minor": 5
}
