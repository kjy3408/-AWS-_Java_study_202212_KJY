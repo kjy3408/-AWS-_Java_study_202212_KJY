{
 "cells": [
  {
   "cell_type": "code",
   "execution_count": 2,
   "id": "0ce8030c",
   "metadata": {},
   "outputs": [],
   "source": [
    "import numpy as np\n",
    "import pandas as pd"
   ]
  },
  {
   "cell_type": "code",
   "execution_count": 3,
   "id": "9a191bef",
   "metadata": {},
   "outputs": [
    {
     "name": "stdout",
     "output_type": "stream",
     "text": [
      "         B\n",
      "Key A     \n",
      "K0  A0  B0\n",
      "K1  A1  B1\n",
      "K2  A2  B2\n",
      "K3  A3  B3\n",
      "     B\n",
      "A     \n",
      "A0  B0\n"
     ]
    }
   ],
   "source": [
    "# index\n",
    "df1 = pd.DataFrame({\n",
    "    'Key' : ['K0', 'K1', 'K2', 'K3'],\n",
    "    'A' : ['A0', 'A1', 'A2', 'A3'],\n",
    "    'B' : ['B0', 'B1', 'B2', 'B3']\n",
    "}, index=[5,6,7,8]) #index 지정해줌\n",
    "\n",
    "# print(df1)\n",
    "# print(df1.index)\n",
    "\n",
    "# df1.index = [0,1,2,3] #index 덮어씌움\n",
    "# print(df1)\n",
    "\n",
    "# df1.index = df1['Key'] #Key Calumn의 값으로 index를 줄수도있음.(key calumn사라지지않음)\n",
    "# print(df1)\n",
    "\n",
    "# df1.drop('Key', axis=1, inplace=True) # Key calumn 없애줌.\n",
    "# print(df1)\n",
    "\n",
    "# df1.set_index('Key', inplace=True)\n",
    "# print(df1)\n",
    "\n",
    "# df1.reset_index(inplace=True) #원상복구\n",
    "# print(df1)\n",
    "\n",
    "df1.set_index(['Key', 'A'], inplace = True) #멀티 index\n",
    "print(df1)\n",
    "# print(df1.loc[('K0', 'A0'),:])\n",
    "print(df1.loc['K0',:])\n",
    "\n",
    "# df1.reset_index(level=1, inplace=True) #가장 왼쪽 index부터 level = 0,1,2...\n",
    "# print(df1)"
   ]
  },
  {
   "cell_type": "code",
   "execution_count": 10,
   "id": "ba86b04d",
   "metadata": {},
   "outputs": [
    {
     "name": "stdout",
     "output_type": "stream",
     "text": [
      "      A    B    C    D    A    B    C    D    A    B    C    D\n",
      "0    A0   B0   C0   D0  NaN  NaN  NaN  NaN  NaN  NaN  NaN  NaN\n",
      "1    A1   B1   C1   D1  NaN  NaN  NaN  NaN  NaN  NaN  NaN  NaN\n",
      "2    A2   B2   C2   D2  NaN  NaN  NaN  NaN  NaN  NaN  NaN  NaN\n",
      "3    A3   B3   C3   D3  NaN  NaN  NaN  NaN  NaN  NaN  NaN  NaN\n",
      "4   NaN  NaN  NaN  NaN   A4   B4   C4   D4  NaN  NaN  NaN  NaN\n",
      "5   NaN  NaN  NaN  NaN   A5   B5   C5   D5  NaN  NaN  NaN  NaN\n",
      "6   NaN  NaN  NaN  NaN   A6   B6   C6   D6  NaN  NaN  NaN  NaN\n",
      "7   NaN  NaN  NaN  NaN   A7   B7   C7   D7  NaN  NaN  NaN  NaN\n",
      "8   NaN  NaN  NaN  NaN  NaN  NaN  NaN  NaN   A8   B8   C8   D8\n",
      "9   NaN  NaN  NaN  NaN  NaN  NaN  NaN  NaN   A9   B9   C9   D9\n",
      "10  NaN  NaN  NaN  NaN  NaN  NaN  NaN  NaN  A10  B10  C10  D10\n",
      "11  NaN  NaN  NaN  NaN  NaN  NaN  NaN  NaN  A11  B11  C11  D11\n",
      "Empty DataFrame\n",
      "Columns: [A, B, C, D, A, B, C, D, A, B, C, D]\n",
      "Index: []\n"
     ]
    }
   ],
   "source": [
    "df1 = pd.DataFrame(\n",
    "    {\n",
    "        \"A\": [\"A0\", \"A1\", \"A2\", \"A3\"],\n",
    "        \"B\": [\"B0\", \"B1\", \"B2\", \"B3\"],\n",
    "        \"C\": [\"C0\", \"C1\", \"C2\", \"C3\"],\n",
    "        \"D\": [\"D0\", \"D1\", \"D2\", \"D3\"],\n",
    "    },\n",
    "    index=[0, 1, 2, 3],\n",
    ")\n",
    "\n",
    "\n",
    "df2 = pd.DataFrame(\n",
    "    {\n",
    "        \"A\": [\"A4\", \"A5\", \"A6\", \"A7\"],\n",
    "        \"B\": [\"B4\", \"B5\", \"B6\", \"B7\"],\n",
    "        \"C\": [\"C4\", \"C5\", \"C6\", \"C7\"],\n",
    "        \"D\": [\"D4\", \"D5\", \"D6\", \"D7\"],\n",
    "    },\n",
    "    index=[4, 5, 6, 7],\n",
    ")\n",
    "\n",
    "\n",
    "df3 = pd.DataFrame(\n",
    "    {\n",
    "        \"A\": [\"A8\", \"A9\", \"A10\", \"A11\"],\n",
    "        \"B\": [\"B8\", \"B9\", \"B10\", \"B11\"],\n",
    "        \"C\": [\"C8\", \"C9\", \"C10\", \"C11\"],\n",
    "        \"D\": [\"D8\", \"D9\", \"D10\", \"D11\"],\n",
    "    },\n",
    "    index=[8, 9, 10, 11],\n",
    ")\n",
    "\n",
    "\n",
    "frames = [df1, df2, df3]\n",
    "\n",
    "result = pd.concat(frames, axis=1, join='outer')\n",
    "print(result)"
   ]
  }
 ],
 "metadata": {
  "kernelspec": {
   "display_name": "Python 3 (ipykernel)",
   "language": "python",
   "name": "python3"
  },
  "language_info": {
   "codemirror_mode": {
    "name": "ipython",
    "version": 3
   },
   "file_extension": ".py",
   "mimetype": "text/x-python",
   "name": "python",
   "nbconvert_exporter": "python",
   "pygments_lexer": "ipython3",
   "version": "3.10.9"
  }
 },
 "nbformat": 4,
 "nbformat_minor": 5
}
