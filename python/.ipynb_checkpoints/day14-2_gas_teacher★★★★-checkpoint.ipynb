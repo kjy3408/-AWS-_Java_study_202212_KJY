{
 "cells": [
  {
   "cell_type": "code",
   "execution_count": 1,
   "id": "e3f4e6c6",
   "metadata": {},
   "outputs": [],
   "source": [
    "import numpy as np\n",
    "import matplotlib.pyplot as plt\n",
    "\n",
    "def my_split(s):\n",
    "    block_start = False\n",
    "    start_index = 0\n",
    "    ret_list=[]\n",
    "    for i, c in enumerate(s):\n",
    "        if block_start==False:\n",
    "            if c==',':\n",
    "                ret_list.append(s[start_index:i])\n",
    "                start_index=i+1\n",
    "            elif c=='\"':\n",
    "                block_start=True\n",
    "                start_index = i\n",
    "        else:\n",
    "            if c=='\"':\n",
    "                block_start=False\n",
    "    if s[-1]!=',':\n",
    "        ret_list.append(s[start_index:])\n",
    "    return ret_list\n",
    "\n",
    "def split_len(data_list):\n",
    "    len_list=[]\n",
    "    for e in data_list:\n",
    "        len_list.append(len(e))\n",
    "    print(set(len_list))\n",
    "    if len(set(len_list))>1:\n",
    "        for i in set(len_list):\n",
    "            print(i, len_list.count(i))\n",
    "    return set(len_list)"
   ]
  },
  {
   "cell_type": "code",
   "execution_count": 2,
   "id": "abcac42d",
   "metadata": {},
   "outputs": [
    {
     "name": "stdout",
     "output_type": "stream",
     "text": [
      "[['\"시점\"', '\"월별(1)\"', '도시가스 (천㎥)', '도시가스 (천㎥)', '프로판 (ton)', '프로판 (ton)', '부탄 (ton)', '부탄 (ton)'], ['\"시점\"', '\"월별(1)\"', '판매소수 (개)', '판매량', '판매소수 (개)', '판매량', '판매소수 (개)', '판매량'], ['\"2010\"', '\"1월\"', '1', '179086', '311', '8775', '64', '26227'], ['\"2010\"', '\"2월\"', '1', '139496', '311', '8745', '64', '23518'], ['\"2010\"', '\"3월\"', '1', '143581', '311', '8092', '64', '23959']]\n",
      "{8}\n",
      "(0, '\"시점\"')\n",
      "(1, '\"월별(1)\"')\n",
      "(2, '도시가스 (천㎥)')\n",
      "(3, '도시가스 (천㎥)')\n",
      "(4, '프로판 (ton)')\n",
      "(5, '프로판 (ton)')\n",
      "(6, '부탄 (ton)')\n",
      "(7, '부탄 (ton)')\n"
     ]
    }
   ],
   "source": [
    "csv_data = []\n",
    "with open('가스공급량_20230217170916.csv') as f:\n",
    "    for line in f:\n",
    "        csv_data.append(my_split(line[:-1]))\n",
    "        \n",
    "print(csv_data[:5])\n",
    "split_len(csv_data)\n",
    "\n",
    "for e in enumerate(csv_data[0]):\n",
    "    print(e)\n",
    "    \n",
    "#도시가스 3\n",
    "#프로판 5\n",
    "#시점 0\n",
    "#월별 1\n",
    "np_data = np.array(csv_data)"
   ]
  }
 ],
 "metadata": {
  "kernelspec": {
   "display_name": "Python 3 (ipykernel)",
   "language": "python",
   "name": "python3"
  },
  "language_info": {
   "codemirror_mode": {
    "name": "ipython",
    "version": 3
   },
   "file_extension": ".py",
   "mimetype": "text/x-python",
   "name": "python",
   "nbconvert_exporter": "python",
   "pygments_lexer": "ipython3",
   "version": "3.10.9"
  }
 },
 "nbformat": 4,
 "nbformat_minor": 5
}
