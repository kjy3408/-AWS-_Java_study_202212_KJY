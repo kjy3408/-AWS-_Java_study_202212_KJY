{
 "cells": [
  {
   "cell_type": "code",
   "execution_count": 2,
   "id": "ecb429e3",
   "metadata": {},
   "outputs": [
    {
     "name": "stdout",
     "output_type": "stream",
     "text": [
      "None\n",
      "[5, 3, 1, 6, 2, 4]\n"
     ]
    }
   ],
   "source": [
    "import random\n",
    "\n",
    "lista = [1,2,3,4,5,6]\n",
    "print(random.shuffle(lista))\n",
    "print(lista)"
   ]
  },
  {
   "cell_type": "code",
   "execution_count": 3,
   "id": "8b89f541",
   "metadata": {},
   "outputs": [
    {
     "name": "stdout",
     "output_type": "stream",
     "text": [
      "['Clover', 'Diamond', 'Heart', 'Spade']\n",
      "['Ace', '2', '3', '4', '5', '6', '7', '8', '9', '10', 'Jack', 'Queen', 'King']\n"
     ]
    }
   ],
   "source": [
    "suits = ['Clover', 'Diamond', 'Heart', 'Spade']\n",
    "\n",
    "rank = [str(i) for i in range(2, 11)]\n",
    "rank = ['Ace'] + rank + ['Jack', 'Queen', 'King']\n",
    "print(suits)\n",
    "print(rank)\n"
   ]
  },
  {
   "cell_type": "code",
   "execution_count": 4,
   "id": "f18cada6",
   "metadata": {},
   "outputs": [
    {
     "name": "stdout",
     "output_type": "stream",
     "text": [
      "{'Clover-Ace': 1, 'Clover-2': 2, 'Clover-3': 3, 'Clover-4': 4, 'Clover-5': 5, 'Clover-6': 6, 'Clover-7': 7, 'Clover-8': 8, 'Clover-9': 9, 'Clover-10': 10, 'Clover-Jack': 10, 'Clover-Queen': 10, 'Clover-King': 10, 'Diamond-Ace': 1, 'Diamond-2': 2, 'Diamond-3': 3, 'Diamond-4': 4, 'Diamond-5': 5, 'Diamond-6': 6, 'Diamond-7': 7, 'Diamond-8': 8, 'Diamond-9': 9, 'Diamond-10': 10, 'Diamond-Jack': 10, 'Diamond-Queen': 10, 'Diamond-King': 10, 'Heart-Ace': 1, 'Heart-2': 2, 'Heart-3': 3, 'Heart-4': 4, 'Heart-5': 5, 'Heart-6': 6, 'Heart-7': 7, 'Heart-8': 8, 'Heart-9': 9, 'Heart-10': 10, 'Heart-Jack': 10, 'Heart-Queen': 10, 'Heart-King': 10, 'Spade-Ace': 1, 'Spade-2': 2, 'Spade-3': 3, 'Spade-4': 4, 'Spade-5': 5, 'Spade-6': 6, 'Spade-7': 7, 'Spade-8': 8, 'Spade-9': 9, 'Spade-10': 10, 'Spade-Jack': 10, 'Spade-Queen': 10, 'Spade-King': 10}\n"
     ]
    }
   ],
   "source": [
    "Deck = []      # 'Clover - Ace', 'Clover - 2'\n",
    "\n",
    "for i in suits:\n",
    "    for e in rank:\n",
    "        Deck.append(i + '-' + e)\n",
    "\n",
    "\n",
    "score_list = [i+1 for i in range(10)]\n",
    "score_list = (score_list + [10]*3)*4\n",
    "score_dict = dict(zip(Deck, score_list))\n",
    "print(score_dict)\n",
    "# print(Deck)\n",
    "# print(score_list)\n",
    "\n",
    "def score_hand(hand):\n",
    "    score = 0\n",
    "    for card in hand:\n",
    "        score = score_dict[card]\n",
    "    return score"
   ]
  },
  {
   "cell_type": "code",
   "execution_count": 5,
   "id": "15e71f77",
   "metadata": {},
   "outputs": [
    {
     "name": "stdout",
     "output_type": "stream",
     "text": [
      "['Heart-2', 'Clover-3', 'Clover-Jack', 'Clover-5', 'Clover-Ace', 'Heart-Jack', 'Heart-10', 'Spade-7', 'Diamond-8', 'Diamond-2', 'Heart-King', 'Diamond-10', 'Spade-Jack', 'Diamond-7', 'Spade-Ace', 'Diamond-5', 'Clover-Queen', 'Heart-7', 'Diamond-Ace', 'Diamond-3', 'Heart-5', 'Diamond-4', 'Spade-4', 'Heart-8', 'Spade-King', 'Heart-3', 'Diamond-9', 'Clover-4', 'Heart-Ace', 'Heart-Queen', 'Spade-9', 'Clover-10', 'Clover-2', 'Clover-8', 'Spade-5', 'Spade-8', 'Diamond-Queen', 'Heart-4', 'Diamond-Jack', 'Clover-9', 'Diamond-King', 'Spade-10', 'Spade-2', 'Clover-King', 'Spade-6', 'Spade-Queen', 'Clover-7', 'Diamond-6', 'Heart-9', 'Clover-6', 'Spade-3', 'Heart-6']\n"
     ]
    }
   ],
   "source": [
    "random.shuffle(Deck)\n",
    "print(Deck)"
   ]
  },
  {
   "cell_type": "code",
   "execution_count": 6,
   "id": "8e6de18c",
   "metadata": {},
   "outputs": [
    {
     "data": {
      "text/plain": [
       "'Heart-6'"
      ]
     },
     "execution_count": 6,
     "metadata": {},
     "output_type": "execute_result"
    }
   ],
   "source": [
    "Deck.pop()       #맨 끝에서 부터 하나씩 꺼내옴"
   ]
  },
  {
   "cell_type": "code",
   "execution_count": 14,
   "id": "16ab5092",
   "metadata": {},
   "outputs": [
    {
     "name": "stdout",
     "output_type": "stream",
     "text": [
      "\n",
      "======Dealer Hands======\n",
      "['Spade-4', 'Heart-2'] 2\n",
      "\n",
      "\n",
      "======Player hands======\n",
      "['Heart-Jack', 'Clover-King'] 10\n",
      "Deal(1) or Stop(0):3\n",
      "재입력 바람\n",
      "Deal(1) or Stop(0):g\n",
      "재입력 바람\n",
      "Deal(1) or Stop(0):h\n",
      "재입력 바람\n",
      "Deal(1) or Stop(0):w\n",
      "재입력 바람\n",
      "Deal(1) or Stop(0):ㅀ\n",
      "재입력 바람\n",
      "Deal(1) or Stop(0):ㅎ\n",
      "재입력 바람\n",
      "Deal(1) or Stop(0):ㅁㄴ\n",
      "재입력 바람\n",
      "Deal(1) or Stop(0):ㄹ\n",
      "재입력 바람\n",
      "Deal(1) or Stop(0):ㄷ\n",
      "재입력 바람\n",
      "Deal(1) or Stop(0):2\n",
      "재입력 바람\n",
      "Deal(1) or Stop(0):0\n"
     ]
    }
   ],
   "source": [
    "##### print('Game Start')\n",
    "random.shuffle(Deck)\n",
    "print('\\n======Dealer Hands======')\n",
    "dealer_hand = [Deck.pop() for _ in range(2)]\n",
    "print(dealer_hand, score_hand(dealer_hand))\n",
    "\n",
    "#딜러도 카드를 받을 수 있음.    \n",
    "\n",
    "\n",
    "print('\\n\\n======Player hands======')\n",
    "player_hand = [Deck.pop() for _ in range(2)]\n",
    "print(player_hand, score_hand(player_hand))\n",
    "\n",
    "if score_hand(player_hand) < 21:\n",
    "    flag = True\n",
    "    while(flag):\n",
    "        ans = str(input('Deal(1) or Stop(0):'))\n",
    "        if ans == '1':\n",
    "            player_hand.append(Deck.pop())\n",
    "            print(player_hand, score_hand(player_hand))\n",
    "            score_hand(player_hand)\n",
    "            flag = False\n",
    "        elif ans == '0':\n",
    "            print('카드를 받지 않습니다.')\n",
    "            flag = False\n",
    "        else:\n",
    "            print('재입력 바람')\n",
    "            flag = True\n",
    "        \n",
    "       "
   ]
  }
 ],
 "metadata": {
  "kernelspec": {
   "display_name": "Python 3 (ipykernel)",
   "language": "python",
   "name": "python3"
  },
  "language_info": {
   "codemirror_mode": {
    "name": "ipython",
    "version": 3
   },
   "file_extension": ".py",
   "mimetype": "text/x-python",
   "name": "python",
   "nbconvert_exporter": "python",
   "pygments_lexer": "ipython3",
   "version": "3.10.9"
  }
 },
 "nbformat": 4,
 "nbformat_minor": 5
}
