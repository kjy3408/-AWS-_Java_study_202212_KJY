{
 "cells": [
  {
   "cell_type": "code",
   "execution_count": 75,
   "id": "2d2aea03",
   "metadata": {},
   "outputs": [],
   "source": [
    "import math\n",
    "\n",
    "def mean(xs):#평균\n",
    "    return sum(xs)/len(xs)\n",
    "\n",
    "def dev(xs): #편차\n",
    "    m = mean(xs)\n",
    "    return [x-m for x in xs]\n",
    "\n",
    "def var (xs): #분산\n",
    "    n = len(xs)\n",
    "    d = dev(xs)\n",
    "    return sum(x*x for x in d)/(n-1)\n",
    "\n",
    "def stdev(xs):#표준편차\n",
    "    return math.sqrt(var(xs))\n",
    "\n",
    "\n",
    "def covar(list_1, list_2): #공분산\n",
    "    n = len(list_1)\n",
    "    list_1_dev = dev(list_1)\n",
    "    list_2_dev = dev(list_2)\n",
    "    return sum(x * y for x, y in zip(list_1_dev, list_2_dev))/(n - 1)\n",
    "\n",
    "\n",
    "def corel(list_1, list_2): #상관도 (-1 ~ 1)\n",
    "    return covar(list_1, list_2)/(stdev(list_1) * stdev(list_2))"
   ]
  },
  {
   "cell_type": "code",
   "execution_count": 61,
   "id": "ae23d7da",
   "metadata": {},
   "outputs": [],
   "source": [
    "import requests\n",
    "import numpy as np\n",
    "\n",
    "x= requests.get('https://archive.ics.uci.edu/ml/machine-learning-databases/iris/iris.data')"
   ]
  },
  {
   "cell_type": "code",
   "execution_count": 62,
   "id": "5c0732f8",
   "metadata": {},
   "outputs": [],
   "source": [
    "raw_data = []\n",
    "for line in x.text.split('\\n'):\n",
    "    raw_data.append(line.split(','))\n",
    "for sample in raw_data:\n",
    "    if len(sample) < 1:\n",
    "        continue\n",
    "    for i, value in enumerate(sample[:4]):\n",
    "        try:\n",
    "            sample[i] = float(value)\n",
    "        except:\n",
    "            sample[i] = 0.0"
   ]
  },
  {
   "cell_type": "code",
   "execution_count": 63,
   "id": "800c7846",
   "metadata": {
    "scrolled": true
   },
   "outputs": [
    {
     "name": "stdout",
     "output_type": "stream",
     "text": [
      "[[5.1, 3.5, 1.4, 0.2, 'Iris-setosa'], [4.9, 3.0, 1.4, 0.2, 'Iris-setosa'], [4.7, 3.2, 1.3, 0.2, 'Iris-setosa']]\n"
     ]
    }
   ],
   "source": [
    "print(raw_data[:3])"
   ]
  },
  {
   "cell_type": "markdown",
   "id": "c2522217",
   "metadata": {},
   "source": [
    "* setosa = 0\n",
    "\n",
    "* versicolor = 1\n",
    "\n",
    "* virginica = 2"
   ]
  },
  {
   "cell_type": "code",
   "execution_count": 64,
   "id": "6c450fae",
   "metadata": {},
   "outputs": [],
   "source": [
    "# for e in raw_data:\n",
    "#     for i, v in enumerate(e):\n",
    "#         if v == 'Iris-setosa':\n",
    "#             e[i] = 0.0\n",
    "#         elif v == 'Iris-versicolor':\n",
    "#             e[i] = 1.0\n",
    "#         elif v == 'Iris-virginica':\n",
    "#             e[i] = 2.0\n",
    "\n",
    "for sample in raw_data:\n",
    "    if len(sample)<2:\n",
    "        continue\n",
    "    if 'Iris-setosa' in sample[-1]:\n",
    "        sample[-1] = 0.0\n",
    "    elif 'Iris-versicolor' in sample[-1]:\n",
    "        sample[-1] = 1.0\n",
    "    elif 'Iris-virginica' in sample[-1]:\n",
    "        sample[-1] = 2.0"
   ]
  },
  {
   "cell_type": "code",
   "execution_count": 66,
   "id": "b29fff64",
   "metadata": {},
   "outputs": [
    {
     "name": "stdout",
     "output_type": "stream",
     "text": [
      "[5.1, 3.5, 1.4, 0.2, 0.0]\n",
      "[6.4, 3.2, 4.5, 1.5, 1.0]\n",
      "[5.8, 2.7, 5.1, 1.9, 2.0]\n"
     ]
    }
   ],
   "source": [
    "print(raw_data[0])\n",
    "print(raw_data[51])\n",
    "print(raw_data[101])"
   ]
  },
  {
   "cell_type": "code",
   "execution_count": 69,
   "id": "bbbfd69c",
   "metadata": {},
   "outputs": [
    {
     "name": "stdout",
     "output_type": "stream",
     "text": [
      "[[6.5, 3.0, 5.2, 2.0, 2.0], [6.2, 3.4, 5.4, 2.3, 2.0], [5.9, 3.0, 5.1, 1.8, 2.0]]\n",
      "150\n"
     ]
    }
   ],
   "source": [
    "print(raw_data[-3:])\n",
    "print(len(raw_data))\n",
    "raw_data = raw_data[:150] #150개 까지 잘라버림. 마지막 2개는 버림"
   ]
  },
  {
   "cell_type": "code",
   "execution_count": 74,
   "id": "32a22298",
   "metadata": {},
   "outputs": [
    {
     "data": {
      "text/plain": [
       "array([[5.1, 3.5, 1.4, 0.2, 0. ],\n",
       "       [4.9, 3. , 1.4, 0.2, 0. ],\n",
       "       [4.7, 3.2, 1.3, 0.2, 0. ]])"
      ]
     },
     "execution_count": 74,
     "metadata": {},
     "output_type": "execute_result"
    }
   ],
   "source": [
    "np_data = np.array(raw_data)\n",
    "np_data.shape\n",
    "np_data[:3]"
   ]
  },
  {
   "cell_type": "markdown",
   "id": "cbf4b6f9",
   "metadata": {},
   "source": [
    "###  기본 통계값\n",
    "* 전체(150샘플) 평균, 표준편차 - sepal length, sepal width, petal length, petal width\n",
    "* 품종별(50개씩) 평균, 표준편차<br>\n",
    "<br>\n",
    "* 평균 np.mean()\n",
    "* 표준편차 np.std()"
   ]
  },
  {
   "cell_type": "code",
   "execution_count": 93,
   "id": "f761d32f",
   "metadata": {},
   "outputs": [
    {
     "name": "stdout",
     "output_type": "stream",
     "text": [
      "전체 평균\n",
      "[5.84333333 3.054      3.75866667 1.19866667]\n",
      "전체 표준편차\n",
      "[0.82530129 0.43214658 1.75852918 0.76061262]\n"
     ]
    }
   ],
   "source": [
    "print('전체 평균')\n",
    "print(np.mean(np_data[:, :4], axis=0)) #전체 평균\n",
    "\n",
    "print('전체 표준편차')\n",
    "print(np.std(np_data[:, :4], axis=0))"
   ]
  },
  {
   "cell_type": "code",
   "execution_count": 100,
   "id": "4199c8a2",
   "metadata": {},
   "outputs": [
    {
     "name": "stdout",
     "output_type": "stream",
     "text": [
      "Iris-setosa 평균\n",
      "[5.006 3.418 1.464 0.244]\n",
      "Iris-setosa 표준편차\n",
      "[0.34894699 0.37719491 0.17176728 0.10613199]\n",
      "\n",
      "Iris-versicolor 평균\n",
      "[5.936 2.77  4.26  1.326]\n",
      "Iris-versicolor 표준편차\n",
      "[0.51098337 0.31064449 0.46518813 0.19576517]\n",
      "\n",
      "Iris-virginica 표준편차\n",
      "[0.62948868 0.31925538 0.54634787 0.27188968]\n",
      "Iris-virginica 평균\n",
      "[6.588 2.974 5.552 2.026]\n",
      "\n",
      "상관도\n",
      "[[ 1.         -0.10936925  0.87175416  0.81795363  0.78256123]\n",
      " [-0.10936925  1.         -0.4205161  -0.35654409 -0.4194462 ]\n",
      " [ 0.87175416 -0.4205161   1.          0.9627571   0.94904254]\n",
      " [ 0.81795363 -0.35654409  0.9627571   1.          0.95646382]\n",
      " [ 0.78256123 -0.4194462   0.94904254  0.95646382  1.        ]]\n"
     ]
    }
   ],
   "source": [
    "print('Iris-setosa 평균')\n",
    "print(np.mean(np_data[:50, :4], axis=0))\n",
    "print('Iris-setosa 표준편차')\n",
    "print(np.std(np_data[:50, :4], axis=0))\n",
    "print()\n",
    "print('Iris-versicolor 평균')\n",
    "print(np.mean(np_data[50:100, :4], axis=0))\n",
    "print('Iris-versicolor 표준편차')\n",
    "print(np.std(np_data[50:100, :4], axis=0))\n",
    "print()\n",
    "print('Iris-virginica 표준편차')\n",
    "print(np.std(np_data[100:150, :4], axis=0))\n",
    "print('Iris-virginica 평균')\n",
    "print(np.mean(np_data[100:150, :4], axis=0))\n",
    "print()\n",
    "print('상관도')\n",
    "print(np.corrcoef(np_data.T)) #상관도"
   ]
  },
  {
   "cell_type": "code",
   "execution_count": 105,
   "id": "b6e70d04",
   "metadata": {},
   "outputs": [
    {
     "name": "stdout",
     "output_type": "stream",
     "text": [
      "[5.006 3.418 1.464 0.244 0.   ]\n",
      "[0.34894699 0.37719491 0.17176728 0.10613199 0.        ]\n",
      "\n",
      "[5.936 2.77  4.26  1.326 1.   ]\n",
      "[0.51098337 0.31064449 0.46518813 0.19576517 0.        ]\n",
      "\n",
      "[6.588 2.974 5.552 2.026 2.   ]\n",
      "[0.62948868 0.31925538 0.54634787 0.27188968 0.        ]\n"
     ]
    }
   ],
   "source": [
    "filter_setosa = np_data[:, -1] == 0.0\n",
    "filter_versicolor = np_data[:, -1] == 1.0\n",
    "filter_verginica = np_data[:, -1] == 2.0\n",
    "\n",
    "print(np.mean(np_data[filter_setosa], axis=0))\n",
    "print(np.std(np_data[filter_setosa], axis=0))\n",
    "print()\n",
    "print(np.mean(np_data[filter_versicolor], axis=0))\n",
    "print(np.std(np_data[filter_versicolor], axis=0))\n",
    "print()\n",
    "print(np.mean(np_data[filter_verginica], axis=0))\n",
    "print(np.std(np_data[filter_verginica], axis=0))"
   ]
  }
 ],
 "metadata": {
  "kernelspec": {
   "display_name": "Python 3 (ipykernel)",
   "language": "python",
   "name": "python3"
  },
  "language_info": {
   "codemirror_mode": {
    "name": "ipython",
    "version": 3
   },
   "file_extension": ".py",
   "mimetype": "text/x-python",
   "name": "python",
   "nbconvert_exporter": "python",
   "pygments_lexer": "ipython3",
   "version": "3.10.9"
  }
 },
 "nbformat": 4,
 "nbformat_minor": 5
}
