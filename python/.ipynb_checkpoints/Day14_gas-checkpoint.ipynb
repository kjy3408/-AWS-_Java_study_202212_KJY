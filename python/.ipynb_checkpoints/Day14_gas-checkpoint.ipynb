{
 "cells": [
  {
   "cell_type": "code",
   "execution_count": 2,
   "id": "a638d8ca",
   "metadata": {},
   "outputs": [],
   "source": [
    "import numpy as np\n",
    "import matplotlib.pyplot as plt\n",
    "\n",
    "def my_split(s):\n",
    "    block_start = False\n",
    "    start_index = 0\n",
    "    ret_list=[]\n",
    "    for i, c in enumerate(s):\n",
    "        if block_start==False:\n",
    "            if c==',':\n",
    "                ret_list.append(s[start_index:i])\n",
    "                start_index=i+1\n",
    "            elif c=='\"':\n",
    "                block_start=True\n",
    "                start_index = i\n",
    "        else:\n",
    "            if c=='\"':\n",
    "                block_start=False\n",
    "    if s[-1]!=',':\n",
    "        ret_list.append(s[start_index:])\n",
    "    return ret_list\n",
    "\n",
    "def split_len(data_list):\n",
    "    len_list=[]\n",
    "    for e in data_list:\n",
    "        len_list.append(len(e))\n",
    "    print(set(len_list))\n",
    "    if len(set(len_list))>1:\n",
    "        for i in set(len_list):\n",
    "            print(i, len_list.count(i))\n",
    "    return set(len_list)"
   ]
  },
  {
   "cell_type": "markdown",
   "id": "9d00db71",
   "metadata": {},
   "source": [
    "### 년도별도시가스/ 프로판 판매량 비율\n",
    "- 프로판 가스보다도시가스 사용량이 점점 늘어나는가?\n",
    "### 년도별 도시가스/ 년도별 프로판 사용량 상관도\n",
    "- 도시가스 사용량이 점점 많아지고 있는가\n",
    "- 프로판 가스 사용량은 점점 줄어들고 있는가\n",
    "### 도시가스\n",
    "- 년도별 겨울(10,11,12,1,2,3) 평균 사용량/ 비겨울(4,5,6,7,8,9) 평균 사용량\n",
    "- --> ttest( 평균 사용량에 차이가 있는가.)\n",
    "\n",
    "- --> 같은 분석을, 프로판/부탄 가스를 대상으로도 실행"
   ]
  },
  {
   "cell_type": "code",
   "execution_count": 12,
   "id": "bf27bd51",
   "metadata": {},
   "outputs": [
    {
     "name": "stdout",
     "output_type": "stream",
     "text": [
      "[['\"시점\"', '\"월별(1)\"', '도시가스 (천㎥)', '도시가스 (천㎥)', '프로판 (ton)', '프로판 (ton)', '부탄 (ton)', '부탄 (ton)'], ['\"시점\"', '\"월별(1)\"', '판매소수 (개)', '판매량', '판매소수 (개)', '판매량', '판매소수 (개)', '판매량'], ['\"2010\"', '\"1월\"', '1', '179086', '311', '8775', '64', '26227'], ['\"2010\"', '\"2월\"', '1', '139496', '311', '8745', '64', '23518'], ['\"2010\"', '\"3월\"', '1', '143581', '311', '8092', '64', '23959']]\n",
      "{8}\n",
      "(0, '\"시점\"')\n",
      "(1, '\"월별(1)\"')\n",
      "(2, '도시가스 (천㎥)')\n",
      "(3, '도시가스 (천㎥)')\n",
      "(4, '프로판 (ton)')\n",
      "(5, '프로판 (ton)')\n",
      "(6, '부탄 (ton)')\n",
      "(7, '부탄 (ton)')\n"
     ]
    }
   ],
   "source": [
    "csv_data = []\n",
    "with open('가스공급량_20230217170916.csv') as f:\n",
    "    for line in f:\n",
    "        csv_data.append(my_split(line[:-1]))\n",
    "        \n",
    "print(csv_data[:5])\n",
    "split_len(csv_data)\n",
    "\n",
    "for e in enumerate(csv_data[0]):\n",
    "    print(e)\n",
    "    \n",
    "#도시가스 3\n",
    "#프로판 5\n",
    "#시점 0\n",
    "#월별 1\n",
    "np_data = np.array(csv_data)"
   ]
  },
  {
   "cell_type": "code",
   "execution_count": 134,
   "id": "5e06b842",
   "metadata": {},
   "outputs": [
    {
     "name": "stdout",
     "output_type": "stream",
     "text": [
      "2010년 도시가스 판매량:  1447821 천m3\n",
      "2010년 프로판 판매량:  109363 ton\n",
      "2011년 도시가스 판매량:  1406696 천m3\n",
      "2011년 프로판 판매량:  114344 ton\n"
     ]
    }
   ],
   "source": [
    "all_data = np_data[2:, [3, 5]]\n",
    "y_data = np_data[2:, [0]]\n",
    "\n",
    "all_data_f = all_data.astype(np.int64)\n",
    "# print(all_data_f)\n",
    "\n",
    "ga_data_10 = np.sum(all_data_f[2:15, [0]])\n",
    "pr_data_10 = np.sum(all_data_f[2:15, [1]])\n",
    "\n",
    "print('2010년 도시가스 판매량: ',ga_data_10, '천m3')\n",
    "print('2010년 프로판 판매량: ',pr_data_10, 'ton')\n",
    "\n",
    "ga_data_11 = np.sum(all_data_f[15:28, [0]])\n",
    "pr_data_11 = np.sum(all_data_f[15:28, [1]])\n",
    "\n",
    "print('2011년 도시가스 판매량: ',ga_data_11, '천m3')\n",
    "print('2011년 프로판 판매량: ',pr_data_11, 'ton')\n",
    "\n",
    "\n",
    "        \n",
    "# yall_data = np.concatenate((y_data, all_data), axis=1) #합침\n",
    "\n",
    "# print(yall_data)\n",
    "\n",
    "\n",
    "# gas_data = np_data[2:, 3]\n",
    "# pro_data = np_data[2:, 5]\n",
    "\n",
    "# print(gas_data)\n",
    "\n",
    "# print(pro_data)\n",
    "\n",
    "# y_data = np_data[2:, 0]\n",
    "\n",
    "# print(y_data)\n",
    "\n",
    "# gas_array = gas_data[:, np.newaxis]\n",
    "# pro_array = pro_data[:, np.newaxis] "
   ]
  },
  {
   "cell_type": "markdown",
   "id": "cbed8c4c",
   "metadata": {},
   "source": [
    "### 도시가스\n",
    "년도별 겨울(10,11,12,1,2,3) 평균 사용량/ 비겨울(4,5,6,7,8,9) 평균 사용량\n",
    "\n",
    "--> ttest( 평균 사용량에 차이가 있는가.)\n",
    "\n",
    "--> 같은 분석을, 프로판/부탄 가스를 대상으로도 실행### "
   ]
  },
  {
   "cell_type": "code",
   "execution_count": 133,
   "id": "01a784ac",
   "metadata": {},
   "outputs": [
    {
     "ename": "SyntaxError",
     "evalue": "invalid syntax (3468969602.py, line 17)",
     "output_type": "error",
     "traceback": [
      "\u001b[1;36m  Cell \u001b[1;32mIn[133], line 17\u001b[1;36m\u001b[0m\n\u001b[1;33m    print(m_data[:, [3:9]])\u001b[0m\n\u001b[1;37m                      ^\u001b[0m\n\u001b[1;31mSyntaxError\u001b[0m\u001b[1;31m:\u001b[0m invalid syntax\n"
     ]
    }
   ],
   "source": [
    "# print(np_data[:, [1, 3]])\n",
    "\n",
    "gas_data_m = np_data[2:,[3]]\n",
    "# print(gas_data_m)\n",
    "\n",
    "m_data = np_data[2:,[1]]\n",
    "\n",
    "# print(m_data)\n",
    "# gas_data_m = gas_data_m.astype(np.float64)\n",
    "\n",
    "# print(gas_data_m)\n",
    "# 0,1,2,9,10,11\n",
    "\n",
    "# 3,4,5,6,7,8\n",
    "m_data = m_data[:, np.newaxis]\n",
    "\n"
   ]
  }
 ],
 "metadata": {
  "kernelspec": {
   "display_name": "Python 3 (ipykernel)",
   "language": "python",
   "name": "python3"
  },
  "language_info": {
   "codemirror_mode": {
    "name": "ipython",
    "version": 3
   },
   "file_extension": ".py",
   "mimetype": "text/x-python",
   "name": "python",
   "nbconvert_exporter": "python",
   "pygments_lexer": "ipython3",
   "version": "3.10.9"
  }
 },
 "nbformat": 4,
 "nbformat_minor": 5
}
