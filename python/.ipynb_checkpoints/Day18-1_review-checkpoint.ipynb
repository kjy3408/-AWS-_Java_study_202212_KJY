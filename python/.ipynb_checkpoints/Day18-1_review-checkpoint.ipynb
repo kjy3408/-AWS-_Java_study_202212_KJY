{
 "cells": [
  {
   "cell_type": "code",
   "execution_count": 15,
   "id": "1844ff95",
   "metadata": {},
   "outputs": [
    {
     "name": "stdout",
     "output_type": "stream",
     "text": [
      "[]\n",
      "['a']\n"
     ]
    }
   ],
   "source": [
    "#python list\n",
    "\n",
    "lista = []\n",
    "print(lista)\n",
    "\n",
    "lista.append('a')\n",
    "print(lista)"
   ]
  },
  {
   "cell_type": "code",
   "execution_count": 18,
   "id": "f9fdf7bc",
   "metadata": {},
   "outputs": [
    {
     "name": "stdout",
     "output_type": "stream",
     "text": [
      "['a'] <class 'numpy.ndarray'>\n",
      "[0 1 2 3 4]\n",
      "[1 4]\n",
      "[0 2 4]\n"
     ]
    }
   ],
   "source": [
    "#numpy ndarray\n",
    "import numpy as np #import해줘야함\n",
    "\n",
    "array1 = np.array(lista)\n",
    "array2 = np.array([1,2,3,4])#새 리스트를 만들어서 넣어줌\n",
    "array3 = np.array([x for x in range(5)])#반복을 통한 리스트(0~4까지)\n",
    "\n",
    "print(array1, type(array1))\n",
    "print(array3)\n",
    "\n",
    "# array1.append('c') #ndarray는 append가 없다.\n",
    "# print(array1)\n",
    "\n",
    "#bool\n",
    "print(array3[[1,4]]) #index 1,4만 뽑음.\n",
    "print(array3[array3%2==0])#2의 배수(짝수)만 뽑음.\n",
    "print(array3[array3>2])#2보다 큰것만 뽑음."
   ]
  },
  {
   "cell_type": "code",
   "execution_count": 24,
   "id": "1efa7fd9",
   "metadata": {},
   "outputs": [
    {
     "name": "stdout",
     "output_type": "stream",
     "text": [
      "3\n",
      "4\n",
      "[3 4]\n"
     ]
    }
   ],
   "source": [
    "#for, it\n",
    "# for i in array3:\n",
    "#     print(i)\n",
    "\n",
    "for i in range(5): #np.arange(5)\n",
    "    if i > 2:\n",
    "        print(i)\n",
    "        \n",
    "# bool\n",
    "print(array3[array3>2])"
   ]
  },
  {
   "cell_type": "code",
   "execution_count": 39,
   "id": "09f5d234",
   "metadata": {},
   "outputs": [
    {
     "name": "stdout",
     "output_type": "stream",
     "text": [
      "return_value: 20\n"
     ]
    }
   ],
   "source": [
    "# function\n",
    "\n",
    "def function_name(n):\n",
    "    return n*10 #값 return  없을땐 print\n",
    "    \n",
    "return_value = function_name(2)\n",
    "print('return_value:',return_value)\n",
    "      \n",
    "assert function_name(100) == 1000; #값이 아닐때 AssertionError 맞을땐 아무일없음"
   ]
  },
  {
   "cell_type": "code",
   "execution_count": 175,
   "id": "476fb139",
   "metadata": {},
   "outputs": [
    {
     "name": "stdout",
     "output_type": "stream",
     "text": [
      "[6, 34, 11, 98, 52, 34, 13, 4, 48, 68]\n",
      "[71, 42, 43, 6, 20, 17, 43, 71, 42, 89]\n",
      "listb에서 50보다 큰것: [98 52 68]\n",
      "listb에서 50보다 큰것 개수: 3\n",
      "listb에서 50보다 큰것 개수: 3\n"
     ]
    }
   ],
   "source": [
    "import random #random값을 쓰기위해 import\n",
    "listb = []\n",
    "random.seed(123)  #seed값을 정해놓으면 해당 시드값으로 랜덤값이 고정됨\n",
    "\n",
    "for i in range(10):\n",
    "    listb.append(random.randint(0, 100))\n",
    "print(listb)\n",
    "\n",
    "listc = [random.randint(0,100) for _ in range(10)]\n",
    "print(listc)\n",
    "\n",
    "#listb 에서 50보다 큰것.\n",
    "\n",
    "np_listb = np.array(listb)\n",
    "\n",
    "print('listb에서 50보다 큰것:',np_listb[np_listb>50])\n",
    "print('listb에서 50보다 큰것 개수:',len(np_listb[np_listb > 50]))"
   ]
  }
 ],
 "metadata": {
  "kernelspec": {
   "display_name": "Python 3 (ipykernel)",
   "language": "python",
   "name": "python3"
  },
  "language_info": {
   "codemirror_mode": {
    "name": "ipython",
    "version": 3
   },
   "file_extension": ".py",
   "mimetype": "text/x-python",
   "name": "python",
   "nbconvert_exporter": "python",
   "pygments_lexer": "ipython3",
   "version": "3.10.9"
  }
 },
 "nbformat": 4,
 "nbformat_minor": 5
}
