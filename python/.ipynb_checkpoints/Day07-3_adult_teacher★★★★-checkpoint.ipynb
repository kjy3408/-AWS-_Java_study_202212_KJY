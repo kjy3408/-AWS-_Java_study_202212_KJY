{
 "cells": [
  {
   "cell_type": "markdown",
   "id": "1fd510f5",
   "metadata": {},
   "source": [
    "### 상관도 분석: UCI Repo Adult 데이터\n",
    "\n",
    "* url https://archive.ics.uci.edu/ml/machine-learning-databases/adult/adult.data\n",
    "\n",
    "* age 0 / capital gain 상관도\n",
    "\n",
    "* hours-per-week 12 / capital gain 10 상관도"
   ]
  },
  {
   "cell_type": "code",
   "execution_count": 14,
   "id": "3e00cf2e",
   "metadata": {},
   "outputs": [],
   "source": [
    "import math\n",
    "\n",
    "def mean(xs):#평균\n",
    "    return sum(xs)/len(xs)\n",
    "\n",
    "def dev(xs): #편차\n",
    "    m = mean(xs)\n",
    "    return [x-m for x in xs]\n",
    "\n",
    "def var (xs): #분산\n",
    "    n = len(xs)\n",
    "    d = dev(xs)\n",
    "    return sum(x*x for x in d)/(n-1)\n",
    "\n",
    "def stdev(xs):#표준편차\n",
    "    return math.sqrt(var(xs))\n",
    "\n",
    "\n",
    "def covar(list_1, list_2): #공분산\n",
    "    n = len(list_1)\n",
    "    list_1_dev = dev(list_1)\n",
    "    list_2_dev = dev(list_2)\n",
    "    return sum(x * y for x, y in zip(list_1_dev, list_2_dev))/(n - 1)\n",
    "\n",
    "\n",
    "def corel(list_1, list_2): #상관도 (-1 ~ 1)\n",
    "    return covar(list_1, list_2)/(stdev(list_1) * stdev(list_2))"
   ]
  },
  {
   "cell_type": "code",
   "execution_count": 1,
   "id": "7ca6322d",
   "metadata": {},
   "outputs": [],
   "source": [
    "import requests\n",
    "\n",
    "x = requests.get('https://archive.ics.uci.edu/ml/machine-learning-databases/adult/adult.data')"
   ]
  },
  {
   "cell_type": "code",
   "execution_count": 8,
   "id": "d491ec65",
   "metadata": {},
   "outputs": [
    {
     "name": "stdout",
     "output_type": "stream",
     "text": [
      "39\n",
      " 2174\n",
      " 40\n"
     ]
    }
   ],
   "source": [
    "pass1 = x.text.split('\\n')\n",
    "print(pass1[0].split(',')[0])    #age\n",
    "print(pass1[0].split(',')[10])   #capital_gain\n",
    "print(pass1[0].split(',')[12])   # hours_per_week\n",
    "age_list = []\n",
    "cap_gain_list=[]\n",
    "hours_per_week_list=[]\n",
    "\n",
    "for e in pass1:\n",
    "    try:\n",
    "        t = e.split(',')\n",
    "        if len(t) < 5:\n",
    "            continue\n",
    "        age_list.append(t[0])\n",
    "        cap_gain_list.append(t[10])\n",
    "        hours_per_week_list.append(t[12])\n",
    "    except:\n",
    "        print(e, type(e))\n",
    "    \n"
   ]
  },
  {
   "cell_type": "code",
   "execution_count": 9,
   "id": "b4706ce1",
   "metadata": {},
   "outputs": [
    {
     "name": "stdout",
     "output_type": "stream",
     "text": [
      "32561\n",
      "32561\n",
      "32561\n"
     ]
    }
   ],
   "source": [
    "print(len(age_list))\n",
    "print(len(cap_gain_list))\n",
    "print(len(hours_per_week_list))"
   ]
  },
  {
   "cell_type": "code",
   "execution_count": 13,
   "id": "e8584d0d",
   "metadata": {},
   "outputs": [
    {
     "name": "stdout",
     "output_type": "stream",
     "text": [
      "['39', '50', '38', '53', '28', '37', '49', '52', '31', '42']\n",
      "[' 2174', ' 0', ' 0', ' 0', ' 0', ' 0', ' 0', ' 0', ' 14084', ' 5178']\n",
      "[' 40', ' 13', ' 40', ' 40', ' 40', ' 40', ' 16', ' 45', ' 50', ' 40']\n"
     ]
    }
   ],
   "source": [
    "print(age_list[:10])\n",
    "print(cap_gain_list[:10])\n",
    "print(hours_per_week_list[:10])\n",
    "age_list = [int(i) for i in age_list]\n",
    "cap_gain_list = [int(i) for i in cap_gain_list]\n",
    "hours_per_week_list = [int(i) for i in hours_per_week_list]"
   ]
  },
  {
   "cell_type": "code",
   "execution_count": 21,
   "id": "d0d42996",
   "metadata": {},
   "outputs": [
    {
     "name": "stdout",
     "output_type": "stream",
     "text": [
      "age vs. cap gain:  0.077674498166006\n",
      "hours per week vs. cap gain:  0.07840861539012314\n",
      "age vs hours per week:  0.06875570750956339\n"
     ]
    }
   ],
   "source": [
    "print('age vs. cap gain: ', corel(age_list, cap_gain_list))\n",
    "print('hours per week vs. cap gain: ', corel(hours_per_week_list, cap_gain_list))\n",
    "print('age vs hours per week: ',corel(age_list, hours_per_week_list))"
   ]
  }
 ],
 "metadata": {
  "kernelspec": {
   "display_name": "Python 3 (ipykernel)",
   "language": "python",
   "name": "python3"
  },
  "language_info": {
   "codemirror_mode": {
    "name": "ipython",
    "version": 3
   },
   "file_extension": ".py",
   "mimetype": "text/x-python",
   "name": "python",
   "nbconvert_exporter": "python",
   "pygments_lexer": "ipython3",
   "version": "3.10.9"
  }
 },
 "nbformat": 4,
 "nbformat_minor": 5
}
