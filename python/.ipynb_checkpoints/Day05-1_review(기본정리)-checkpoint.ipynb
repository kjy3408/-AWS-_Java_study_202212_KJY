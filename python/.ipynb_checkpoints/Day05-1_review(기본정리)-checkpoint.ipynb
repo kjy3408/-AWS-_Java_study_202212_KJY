{
 "cells": [
  {
   "cell_type": "code",
   "execution_count": 12,
   "id": "83e49d1c",
   "metadata": {},
   "outputs": [
    {
     "name": "stdout",
     "output_type": "stream",
     "text": [
      "10.5\n",
      "datatype:str\n"
     ]
    }
   ],
   "source": [
    "# int(), float(), bool(), str() => 형변환\n",
    "#형변환 되지 않은 녀석이 print됨. 굳이 스크롤 해보지 않아도 알 수 있음.\n",
    "try:\n",
    "    a = [20.5, '10.5']\n",
    "    for i in a:\n",
    "        int(i)\n",
    "except:\n",
    "    print(i)\n",
    "    \n",
    "#datatype 확인\n",
    "# a = [20.5, '10.5']\n",
    "a = 'string'\n",
    "if isinstance(a, type([])):\n",
    "    print('list datatypue:list')\n",
    "elif isinstance(a, type('')):\n",
    "    print('datatype:str')\n",
    "    \n",
    "# list, tuple, set, dictionary"
   ]
  },
  {
   "cell_type": "code",
   "execution_count": 74,
   "id": "1db34066",
   "metadata": {},
   "outputs": [
    {
     "name": "stdout",
     "output_type": "stream",
     "text": [
      "{'x': 10, 'y': 20, 'z': 30}\n",
      "10\n",
      "10\n",
      "{'x': 10, 'y': 50, 'z': 30}\n",
      "{'x': 10, 'y': 50, 'z': 30, 'newkey': 1234}\n",
      "dict_keys(['x', 'y', 'z', 'newkey'])\n",
      "dict_values([10, 50, 30, 1234])\n",
      "dict_items([('x', 10), ('y', 50), ('z', 30), ('newkey', 1234)])\n",
      "x 10\n",
      "y 50\n",
      "z 30\n",
      "newkey 1234\n"
     ]
    }
   ],
   "source": [
    "# dictionary : key - value \n",
    "dict1 = {'a':1, 'b':2, 'c':3}\n",
    "\n",
    "key_list = list('xyz')\n",
    "value_list = [10,20,30]\n",
    "\n",
    "x = zip(key_list, value_list)    #[('x',10),('y',20)('z',30)]\n",
    "dict2 = dict(x)\n",
    "print(dict2)\n",
    "\n",
    "#key값으로 value값 조회\n",
    "print(dict2['x']) #=> 없는 key값일 땐 에러 발생\n",
    "print(dict2.get('x')) # => 없는 key값이면 None 출력.\n",
    "\n",
    "#y의 value값 덮어쓰기.\n",
    "dict2['y'] = 50\n",
    "print(dict2)\n",
    "\n",
    "#dict명['새 키명'] = value => 새 값 추가\n",
    "dict2['newkey'] = 1234\n",
    "print(dict2)\n",
    "\n",
    "#key와 value를 다시 뜯어냄\n",
    "klist = dict2.keys()\n",
    "vlist = dict2.values()\n",
    "print(klist)\n",
    "print(vlist)\n",
    "\n",
    "#zip되어있는 상태까지만 되돌림.\n",
    "print(dict2.items())\n",
    "\n",
    "#key값으로 순환.\n",
    "for e in dict2:\n",
    "    print(e, dict2[e])"
   ]
  },
  {
   "cell_type": "code",
   "execution_count": 22,
   "id": "ea81469b",
   "metadata": {},
   "outputs": [
    {
     "name": "stdout",
     "output_type": "stream",
     "text": [
      "True\n"
     ]
    }
   ],
   "source": [
    "# if: - elif: - else:\n",
    "\n",
    "if 0:\n",
    "    print('True')\n",
    "else:\n",
    "    print('False') # 0, 비어있는 문자열 / list"
   ]
  },
  {
   "cell_type": "code",
   "execution_count": 27,
   "id": "ea6b4617",
   "metadata": {},
   "outputs": [
    {
     "name": "stdout",
     "output_type": "stream",
     "text": [
      "0 a\n",
      "1 b\n",
      "2 c\n",
      "3 d\n",
      "4 e\n",
      "['a', 'b', 'c', 'd']\n",
      "['a', 'b', 'c']\n",
      "['a', 'b']\n",
      "['a']\n"
     ]
    }
   ],
   "source": [
    "# for - range() / list; enumerate() #index에 있는 내용물을 같이 다룰 수 있음.\n",
    "lista = list('abcde')\n",
    "for i, c in enumerate(lista):\n",
    "    print(i, c)     #i 는 index  / c는 list의 내용\n",
    "\n",
    "# while - 조건 => list의 길이가 1보다 클때 lista의 뒤에서부터 하나씩 없애라.\n",
    "while len(lista)>1:\n",
    "    lista.remove(lista[-1])\n",
    "    print(lista)"
   ]
  },
  {
   "cell_type": "code",
   "execution_count": 52,
   "id": "9e5c7956",
   "metadata": {},
   "outputs": [
    {
     "name": "stdout",
     "output_type": "stream",
     "text": [
      "const\n",
      "==========\n",
      "myclass2\n",
      "==========\n",
      "dest\n"
     ]
    }
   ],
   "source": [
    "#함수, 클래스\n",
    "#함수를 선언: def 함수명(매개변수): \n",
    "def myfunction1(n):\n",
    "    print('myfunction1', n)\n",
    "    return n*5\n",
    "\n",
    "class myclass:\n",
    "    def mymethod1(self): #정의할때 매개변수로 self가 항상 붙음.\n",
    "        print('myfunction1')\n",
    "        \n",
    "#상속\n",
    "class myclass2(myclass):\n",
    "    def __init__(self): #생성자\n",
    "        print('const')\n",
    "    def __del__ (self):\n",
    "        print('dest')\n",
    "    def __str__(self):\n",
    "        return 'myclass2'\n",
    "    \n",
    "x = myclass2()      #__init__ constructor\n",
    "print('==========')\n",
    "print(x)            #__str__\n",
    "print('==========')\n",
    "del x               #__del__ dest"
   ]
  },
  {
   "cell_type": "code",
   "execution_count": 58,
   "id": "f198014c",
   "metadata": {},
   "outputs": [],
   "source": [
    "#파일 읽어오기 (한줄씩)\n",
    "with open('lott.csv') as f:\n",
    "    for line in f:\n",
    "        pass\n",
    "#         print(line)\n",
    "\n",
    "#file write (파일 작성)\n",
    "with open('test.txt', 'w') as f:  #'w'; mode : 'w'rite / 'r'ead => default 값이 'r'임 \n",
    "    for i in range(3, 10):\n",
    "        f.write('test string {}\\n'.format(i))"
   ]
  },
  {
   "cell_type": "code",
   "execution_count": 61,
   "id": "eef14671",
   "metadata": {},
   "outputs": [
    {
     "name": "stdout",
     "output_type": "stream",
     "text": [
      "['a', 'b', 'c', 'd']\n"
     ]
    }
   ],
   "source": [
    "import pickle\n",
    "\n",
    "lista = list('abcd')\n",
    "\n",
    "# write\n",
    "with open('pickle_test.pickle', 'wb') as f:\n",
    "    pickle.dump(lista, f)\n",
    "    \n",
    "# read\n",
    "with open('pickle_test.pickle', 'rb') as f:\n",
    "    listb = pickle.load(f)\n",
    "print(listb)"
   ]
  },
  {
   "cell_type": "code",
   "execution_count": null,
   "id": "cd11832d",
   "metadata": {},
   "outputs": [],
   "source": []
  }
 ],
 "metadata": {
  "kernelspec": {
   "display_name": "Python 3 (ipykernel)",
   "language": "python",
   "name": "python3"
  },
  "language_info": {
   "codemirror_mode": {
    "name": "ipython",
    "version": 3
   },
   "file_extension": ".py",
   "mimetype": "text/x-python",
   "name": "python",
   "nbconvert_exporter": "python",
   "pygments_lexer": "ipython3",
   "version": "3.10.9"
  }
 },
 "nbformat": 4,
 "nbformat_minor": 5
}
