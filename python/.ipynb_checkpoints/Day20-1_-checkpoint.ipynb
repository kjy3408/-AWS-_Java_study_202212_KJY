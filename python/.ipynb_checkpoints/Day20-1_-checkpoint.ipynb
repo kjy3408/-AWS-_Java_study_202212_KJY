{
 "cells": [
  {
   "cell_type": "markdown",
   "id": "0e18e2fb",
   "metadata": {},
   "source": [
    "### 전국일방통행도로표준데이터\n",
    "\n",
    " 데이터전처리\n",
    "- 시도명, 지정사유, 지정연도, 도로폭, 도로차로수, 보차분리여부\n",
    "\n",
    "- 결측치 처리 (column 개별 기준)\n",
    "- 오류치 처리 (unit의 차이)\n",
    "- 이상치 처리 (iqr 사용)\n",
    "- 전처리 내용 정리"
   ]
  },
  {
   "cell_type": "code",
   "execution_count": 6,
   "id": "7d8ba604",
   "metadata": {},
   "outputs": [
    {
     "data": {
      "text/html": [
       "<div>\n",
       "<style scoped>\n",
       "    .dataframe tbody tr th:only-of-type {\n",
       "        vertical-align: middle;\n",
       "    }\n",
       "\n",
       "    .dataframe tbody tr th {\n",
       "        vertical-align: top;\n",
       "    }\n",
       "\n",
       "    .dataframe thead th {\n",
       "        text-align: right;\n",
       "    }\n",
       "</style>\n",
       "<table border=\"1\" class=\"dataframe\">\n",
       "  <thead>\n",
       "    <tr style=\"text-align: right;\">\n",
       "      <th></th>\n",
       "      <th>시도명</th>\n",
       "      <th>지정사유</th>\n",
       "      <th>지정연도</th>\n",
       "      <th>도로폭</th>\n",
       "      <th>도로차로수</th>\n",
       "      <th>보차분리여부</th>\n",
       "    </tr>\n",
       "  </thead>\n",
       "  <tbody>\n",
       "    <tr>\n",
       "      <th>0</th>\n",
       "      <td>경기도</td>\n",
       "      <td>NaN</td>\n",
       "      <td>NaN</td>\n",
       "      <td>5.0</td>\n",
       "      <td>1.0</td>\n",
       "      <td>Y</td>\n",
       "    </tr>\n",
       "    <tr>\n",
       "      <th>1</th>\n",
       "      <td>경기도</td>\n",
       "      <td>NaN</td>\n",
       "      <td>NaN</td>\n",
       "      <td>5.0</td>\n",
       "      <td>1.0</td>\n",
       "      <td>Y</td>\n",
       "    </tr>\n",
       "    <tr>\n",
       "      <th>2</th>\n",
       "      <td>경기도</td>\n",
       "      <td>NaN</td>\n",
       "      <td>NaN</td>\n",
       "      <td>9.0</td>\n",
       "      <td>1.0</td>\n",
       "      <td>Y</td>\n",
       "    </tr>\n",
       "    <tr>\n",
       "      <th>3</th>\n",
       "      <td>경기도</td>\n",
       "      <td>NaN</td>\n",
       "      <td>NaN</td>\n",
       "      <td>4.0</td>\n",
       "      <td>1.0</td>\n",
       "      <td>Y</td>\n",
       "    </tr>\n",
       "    <tr>\n",
       "      <th>4</th>\n",
       "      <td>경기도</td>\n",
       "      <td>NaN</td>\n",
       "      <td>NaN</td>\n",
       "      <td>4.0</td>\n",
       "      <td>1.0</td>\n",
       "      <td>Y</td>\n",
       "    </tr>\n",
       "    <tr>\n",
       "      <th>...</th>\n",
       "      <td>...</td>\n",
       "      <td>...</td>\n",
       "      <td>...</td>\n",
       "      <td>...</td>\n",
       "      <td>...</td>\n",
       "      <td>...</td>\n",
       "    </tr>\n",
       "    <tr>\n",
       "      <th>2154</th>\n",
       "      <td>경기도</td>\n",
       "      <td>통행원활</td>\n",
       "      <td>NaN</td>\n",
       "      <td>6.0</td>\n",
       "      <td>1.0</td>\n",
       "      <td>N</td>\n",
       "    </tr>\n",
       "    <tr>\n",
       "      <th>2155</th>\n",
       "      <td>경기도</td>\n",
       "      <td>통행원활</td>\n",
       "      <td>NaN</td>\n",
       "      <td>6.0</td>\n",
       "      <td>1.0</td>\n",
       "      <td>N</td>\n",
       "    </tr>\n",
       "    <tr>\n",
       "      <th>2156</th>\n",
       "      <td>경기도</td>\n",
       "      <td>통행원활</td>\n",
       "      <td>NaN</td>\n",
       "      <td>6.0</td>\n",
       "      <td>1.0</td>\n",
       "      <td>N</td>\n",
       "    </tr>\n",
       "    <tr>\n",
       "      <th>2157</th>\n",
       "      <td>경기도</td>\n",
       "      <td>통행원활</td>\n",
       "      <td>NaN</td>\n",
       "      <td>6.0</td>\n",
       "      <td>1.0</td>\n",
       "      <td>N</td>\n",
       "    </tr>\n",
       "    <tr>\n",
       "      <th>2158</th>\n",
       "      <td>서울특별시</td>\n",
       "      <td>NaN</td>\n",
       "      <td>NaN</td>\n",
       "      <td>9.5</td>\n",
       "      <td>1.0</td>\n",
       "      <td>N</td>\n",
       "    </tr>\n",
       "  </tbody>\n",
       "</table>\n",
       "<p>2159 rows × 6 columns</p>\n",
       "</div>"
      ],
      "text/plain": [
       "        시도명  지정사유  지정연도  도로폭  도로차로수 보차분리여부\n",
       "0       경기도   NaN   NaN  5.0    1.0      Y\n",
       "1       경기도   NaN   NaN  5.0    1.0      Y\n",
       "2       경기도   NaN   NaN  9.0    1.0      Y\n",
       "3       경기도   NaN   NaN  4.0    1.0      Y\n",
       "4       경기도   NaN   NaN  4.0    1.0      Y\n",
       "...     ...   ...   ...  ...    ...    ...\n",
       "2154    경기도  통행원활   NaN  6.0    1.0      N\n",
       "2155    경기도  통행원활   NaN  6.0    1.0      N\n",
       "2156    경기도  통행원활   NaN  6.0    1.0      N\n",
       "2157    경기도  통행원활   NaN  6.0    1.0      N\n",
       "2158  서울특별시   NaN   NaN  9.5    1.0      N\n",
       "\n",
       "[2159 rows x 6 columns]"
      ]
     },
     "execution_count": 6,
     "metadata": {},
     "output_type": "execute_result"
    }
   ],
   "source": [
    "import pandas as pd\n",
    "import numpy as np\n",
    "import matplotlib.pyplot as plt\n",
    "\n",
    "url = 'https://www.data.go.kr/download/15028199/standard.do?dataType=csv'\n",
    "pd_rawdata = pd.read_csv(url, encoding = 'cp949')\n",
    "\n",
    "pd_rawdata[:3]\n",
    "column_selection = ['시도명', '지정사유', '지정연도', '도로폭', '도로차로수', '보차분리여부']\n",
    "pd_data = pd_rawdata[column_selection]\n",
    "\n",
    "pd_data"
   ]
  },
  {
   "cell_type": "markdown",
   "id": "22a5e4a4",
   "metadata": {},
   "source": [
    "NaN\n",
    "- 시도명 : X \n",
    "- 지정사유 : NaN -> '사유없음'\n",
    "- 지정연도 : NaN -> 0\n",
    "- 도로차로수:NaN -> ??\n",
    "- 도로폭 : X\n",
    "- 보차분리여부 : X"
   ]
  },
  {
   "cell_type": "code",
   "execution_count": 28,
   "id": "5d5c4298",
   "metadata": {},
   "outputs": [
    {
     "name": "stdout",
     "output_type": "stream",
     "text": [
      "False    2159\n",
      "Name: 도로폭, dtype: int64\n"
     ]
    }
   ],
   "source": [
    "# print(pd_data.dtypes)\n",
    "print(pd_data['도로폭'].isna().value_counts())"
   ]
  },
  {
   "cell_type": "code",
   "execution_count": 74,
   "id": "e9ba6b0d",
   "metadata": {},
   "outputs": [
    {
     "data": {
      "text/plain": [
       "시도명       0\n",
       "지정사유      0\n",
       "지정연도      0\n",
       "도로폭       0\n",
       "도로차로수     0\n",
       "보차분리여부    0\n",
       "dtype: int64"
      ]
     },
     "execution_count": 74,
     "metadata": {},
     "output_type": "execute_result"
    }
   ],
   "source": [
    "pd_data.isnull().sum()"
   ]
  },
  {
   "cell_type": "code",
   "execution_count": 46,
   "id": "d070355d",
   "metadata": {},
   "outputs": [
    {
     "name": "stdout",
     "output_type": "stream",
     "text": [
      "False    2159\n",
      "Name: 지정사유, dtype: int64\n",
      "False    2159\n",
      "Name: 지정연도, dtype: int64\n",
      "False    2159\n",
      "Name: 도로차로수, dtype: int64\n"
     ]
    },
    {
     "name": "stderr",
     "output_type": "stream",
     "text": [
      "C:\\Users\\ITPS\\AppData\\Local\\Temp\\ipykernel_10644\\3147944898.py:1: SettingWithCopyWarning: \n",
      "A value is trying to be set on a copy of a slice from a DataFrame.\n",
      "Try using .loc[row_indexer,col_indexer] = value instead\n",
      "\n",
      "See the caveats in the documentation: https://pandas.pydata.org/pandas-docs/stable/user_guide/indexing.html#returning-a-view-versus-a-copy\n",
      "  pd_data.replace({'지정사유':np.NaN}, '사유없음', inplace = True)\n",
      "C:\\Users\\ITPS\\AppData\\Local\\Temp\\ipykernel_10644\\3147944898.py:3: SettingWithCopyWarning: \n",
      "A value is trying to be set on a copy of a slice from a DataFrame.\n",
      "Try using .loc[row_indexer,col_indexer] = value instead\n",
      "\n",
      "See the caveats in the documentation: https://pandas.pydata.org/pandas-docs/stable/user_guide/indexing.html#returning-a-view-versus-a-copy\n",
      "  pd_data.replace({'지정연도':np.NaN}, 0, inplace=True)\n",
      "C:\\Users\\ITPS\\AppData\\Local\\Temp\\ipykernel_10644\\3147944898.py:5: SettingWithCopyWarning: \n",
      "A value is trying to be set on a copy of a slice from a DataFrame.\n",
      "Try using .loc[row_indexer,col_indexer] = value instead\n",
      "\n",
      "See the caveats in the documentation: https://pandas.pydata.org/pandas-docs/stable/user_guide/indexing.html#returning-a-view-versus-a-copy\n",
      "  pd_data.replace({'도로차로수' : np.NaN}, 1.0, inplace=True)\n"
     ]
    }
   ],
   "source": [
    "pd_data.replace({'지정사유':np.NaN}, '사유없음', inplace = True)\n",
    "print(pd_data['지정사유'].isna().value_counts())\n",
    "pd_data.replace({'지정연도':np.NaN}, 0, inplace=True)\n",
    "print(pd_data['지정연도'].isna().value_counts())\n",
    "pd_data.replace({'도로차로수' : np.NaN}, 1.0, inplace=True)\n",
    "print(pd_data['도로차로수'].isna().value_counts())"
   ]
  },
  {
   "cell_type": "code",
   "execution_count": 50,
   "id": "7c5b7d24",
   "metadata": {
    "scrolled": true
   },
   "outputs": [
    {
     "name": "stderr",
     "output_type": "stream",
     "text": [
      "C:\\Users\\ITPS\\AppData\\Local\\Temp\\ipykernel_10644\\208482321.py:2: SettingWithCopyWarning: \n",
      "A value is trying to be set on a copy of a slice from a DataFrame.\n",
      "Try using .loc[row_indexer,col_indexer] = value instead\n",
      "\n",
      "See the caveats in the documentation: https://pandas.pydata.org/pandas-docs/stable/user_guide/indexing.html#returning-a-view-versus-a-copy\n",
      "  pd_data.replace({'보차분리여부':' '}, 'N' , inplace=True)\n"
     ]
    }
   ],
   "source": [
    "pd_data['보차분리여부'].value_counts()\n",
    "pd_data.replace({'보차분리여부':' '}, 'N' , inplace=True)"
   ]
  },
  {
   "cell_type": "code",
   "execution_count": 55,
   "id": "fad9c6e2",
   "metadata": {},
   "outputs": [
    {
     "name": "stderr",
     "output_type": "stream",
     "text": [
      "C:\\Users\\ITPS\\AppData\\Local\\Temp\\ipykernel_10644\\1302523330.py:2: SettingWithCopyWarning: \n",
      "A value is trying to be set on a copy of a slice from a DataFrame.\n",
      "Try using .loc[row_indexer,col_indexer] = value instead\n",
      "\n",
      "See the caveats in the documentation: https://pandas.pydata.org/pandas-docs/stable/user_guide/indexing.html#returning-a-view-versus-a-copy\n",
      "  pd_data.replace({'시도명': '10'}, '서울특별시', inplace=True)\n"
     ]
    }
   ],
   "source": [
    "pd_data['시도명'].value_counts()\n",
    "pd_data.replace({'시도명': '10'}, '서울특별시', inplace=True)"
   ]
  },
  {
   "cell_type": "code",
   "execution_count": 56,
   "id": "2172597c",
   "metadata": {},
   "outputs": [
    {
     "data": {
      "text/plain": [
       "서울특별시      765\n",
       "경기도        384\n",
       "경상북도       329\n",
       "경상남도       152\n",
       "전라남도       115\n",
       "충청남도       113\n",
       "강원도         58\n",
       "광주광역시       58\n",
       "제주특별자치도     55\n",
       "인천광역시       51\n",
       "충청북도        42\n",
       "전라북도        37\n",
       "Name: 시도명, dtype: int64"
      ]
     },
     "execution_count": 56,
     "metadata": {},
     "output_type": "execute_result"
    }
   ],
   "source": [
    "pd_data['시도명'].value_counts()"
   ]
  },
  {
   "cell_type": "code",
   "execution_count": 64,
   "id": "626d4ca4",
   "metadata": {},
   "outputs": [
    {
     "name": "stdout",
     "output_type": "stream",
     "text": [
      "시도명       category\n",
      "지정사유      category\n",
      "지정연도       float64\n",
      "도로폭        float64\n",
      "도로차로수      float64\n",
      "보차분리여부    category\n",
      "dtype: object\n"
     ]
    },
    {
     "name": "stderr",
     "output_type": "stream",
     "text": [
      "C:\\Users\\ITPS\\AppData\\Local\\Temp\\ipykernel_10644\\2605561408.py:2: SettingWithCopyWarning: \n",
      "A value is trying to be set on a copy of a slice from a DataFrame.\n",
      "Try using .loc[row_indexer,col_indexer] = value instead\n",
      "\n",
      "See the caveats in the documentation: https://pandas.pydata.org/pandas-docs/stable/user_guide/indexing.html#returning-a-view-versus-a-copy\n",
      "  pd_data['시도명'] = pd_data['시도명'].astype('category')\n",
      "C:\\Users\\ITPS\\AppData\\Local\\Temp\\ipykernel_10644\\2605561408.py:3: SettingWithCopyWarning: \n",
      "A value is trying to be set on a copy of a slice from a DataFrame.\n",
      "Try using .loc[row_indexer,col_indexer] = value instead\n",
      "\n",
      "See the caveats in the documentation: https://pandas.pydata.org/pandas-docs/stable/user_guide/indexing.html#returning-a-view-versus-a-copy\n",
      "  pd_data['지정사유'] = pd_data['지정사유'].astype('category')\n"
     ]
    }
   ],
   "source": [
    "# print(pd_data.dtypes)\n",
    "pd_data['시도명'] = pd_data['시도명'].astype('category')\n",
    "pd_data['지정사유'] = pd_data['지정사유'].astype('category')\n",
    "\n",
    "print(pd_data.dtypes)"
   ]
  },
  {
   "cell_type": "code",
   "execution_count": 65,
   "id": "cd2792d2",
   "metadata": {},
   "outputs": [
    {
     "name": "stderr",
     "output_type": "stream",
     "text": [
      "C:\\Users\\ITPS\\AppData\\Local\\Temp\\ipykernel_10644\\1165673076.py:1: SettingWithCopyWarning: \n",
      "A value is trying to be set on a copy of a slice from a DataFrame.\n",
      "Try using .loc[row_indexer,col_indexer] = value instead\n",
      "\n",
      "See the caveats in the documentation: https://pandas.pydata.org/pandas-docs/stable/user_guide/indexing.html#returning-a-view-versus-a-copy\n",
      "  pd_data.replace({'보차분리여부':'Y'}, 1, inplace=True)\n",
      "C:\\Users\\ITPS\\AppData\\Local\\Temp\\ipykernel_10644\\1165673076.py:2: SettingWithCopyWarning: \n",
      "A value is trying to be set on a copy of a slice from a DataFrame.\n",
      "Try using .loc[row_indexer,col_indexer] = value instead\n",
      "\n",
      "See the caveats in the documentation: https://pandas.pydata.org/pandas-docs/stable/user_guide/indexing.html#returning-a-view-versus-a-copy\n",
      "  pd_data.replace({'보차분리여부':'N'}, 0, inplace=True)\n"
     ]
    }
   ],
   "source": [
    "pd_data.replace({'보차분리여부':'Y'}, 1, inplace=True)\n",
    "pd_data.replace({'보차분리여부':'N'}, 0, inplace=True)"
   ]
  },
  {
   "cell_type": "code",
   "execution_count": 113,
   "id": "23640638",
   "metadata": {},
   "outputs": [
    {
     "data": {
      "text/plain": [
       "0       5.0\n",
       "1       5.0\n",
       "2       9.0\n",
       "3       4.0\n",
       "4       4.0\n",
       "       ... \n",
       "2154    6.0\n",
       "2155    6.0\n",
       "2156    6.0\n",
       "2157    6.0\n",
       "2158    9.5\n",
       "Name: 도로폭, Length: 2159, dtype: float64"
      ]
     },
     "execution_count": 113,
     "metadata": {},
     "output_type": "execute_result"
    }
   ],
   "source": [
    "pd_data['도로폭']"
   ]
  },
  {
   "cell_type": "code",
   "execution_count": 155,
   "id": "022c4dca",
   "metadata": {},
   "outputs": [
    {
     "data": {
      "text/plain": [
       "True    2159\n",
       "Name: 도로폭, dtype: int64"
      ]
     },
     "execution_count": 155,
     "metadata": {},
     "output_type": "execute_result"
    }
   ],
   "source": [
    "q1 = pd_data['도로폭'].quantile(0.25)\n",
    "q3 = pd_data['도로폭'].quantile(0.75)\n",
    "iqr = q3 - q1\n",
    "\n",
    "#df_outlier 이상치\n",
    "df_outlier = pd_data[(pd_data['도로폭'] < (q1 - 1.5 * iqr)) | (pd_data['도로폭'] > (q3 + 1.5 * iqr))]\n",
    "# df_outlier['도로폭'].replace({'도로폭': :}, np.NaN)\n",
    "pd_data.loc[(pd_data['도로폭'] < (q1 - 1.5 * iqr)) | (pd_data['도로폭'] > (q3 + 1.5 * iqr)), '도로폭']  = np.NaN\n",
    "\n",
    "pd_data['도로폭'].isna().value_counts()"
   ]
  },
  {
   "cell_type": "code",
   "execution_count": 152,
   "id": "9792cf40",
   "metadata": {},
   "outputs": [
    {
     "name": "stderr",
     "output_type": "stream",
     "text": [
      "C:\\Users\\ITPS\\AppData\\Local\\Temp\\ipykernel_10644\\3712648457.py:2: UserWarning: Boolean Series key will be reindexed to match DataFrame index.\n",
      "  f = pd_data[f1]\n"
     ]
    },
    {
     "ename": "IndexingError",
     "evalue": "Unalignable boolean Series provided as indexer (index of the boolean Series and of the indexed object do not match).",
     "output_type": "error",
     "traceback": [
      "\u001b[1;31m---------------------------------------------------------------------------\u001b[0m",
      "\u001b[1;31mIndexingError\u001b[0m                             Traceback (most recent call last)",
      "Cell \u001b[1;32mIn[152], line 2\u001b[0m\n\u001b[0;32m      1\u001b[0m f1 \u001b[38;5;241m=\u001b[39m df_outlier[\u001b[38;5;124m'\u001b[39m\u001b[38;5;124m도로폭\u001b[39m\u001b[38;5;124m'\u001b[39m] \u001b[38;5;241m==\u001b[39m np\u001b[38;5;241m.\u001b[39mNaN\n\u001b[1;32m----> 2\u001b[0m f \u001b[38;5;241m=\u001b[39m \u001b[43mpd_data\u001b[49m\u001b[43m[\u001b[49m\u001b[43mf1\u001b[49m\u001b[43m]\u001b[49m\n",
      "File \u001b[1;32m~\\AppData\\Local\\Programs\\Python\\Python310\\lib\\site-packages\\pandas\\core\\frame.py:3798\u001b[0m, in \u001b[0;36mDataFrame.__getitem__\u001b[1;34m(self, key)\u001b[0m\n\u001b[0;32m   3796\u001b[0m \u001b[38;5;66;03m# Do we have a (boolean) 1d indexer?\u001b[39;00m\n\u001b[0;32m   3797\u001b[0m \u001b[38;5;28;01mif\u001b[39;00m com\u001b[38;5;241m.\u001b[39mis_bool_indexer(key):\n\u001b[1;32m-> 3798\u001b[0m     \u001b[38;5;28;01mreturn\u001b[39;00m \u001b[38;5;28;43mself\u001b[39;49m\u001b[38;5;241;43m.\u001b[39;49m\u001b[43m_getitem_bool_array\u001b[49m\u001b[43m(\u001b[49m\u001b[43mkey\u001b[49m\u001b[43m)\u001b[49m\n\u001b[0;32m   3800\u001b[0m \u001b[38;5;66;03m# We are left with two options: a single key, and a collection of keys,\u001b[39;00m\n\u001b[0;32m   3801\u001b[0m \u001b[38;5;66;03m# We interpret tuples as collections only for non-MultiIndex\u001b[39;00m\n\u001b[0;32m   3802\u001b[0m is_single_key \u001b[38;5;241m=\u001b[39m \u001b[38;5;28misinstance\u001b[39m(key, \u001b[38;5;28mtuple\u001b[39m) \u001b[38;5;129;01mor\u001b[39;00m \u001b[38;5;129;01mnot\u001b[39;00m is_list_like(key)\n",
      "File \u001b[1;32m~\\AppData\\Local\\Programs\\Python\\Python310\\lib\\site-packages\\pandas\\core\\frame.py:3851\u001b[0m, in \u001b[0;36mDataFrame._getitem_bool_array\u001b[1;34m(self, key)\u001b[0m\n\u001b[0;32m   3845\u001b[0m     \u001b[38;5;28;01mraise\u001b[39;00m \u001b[38;5;167;01mValueError\u001b[39;00m(\n\u001b[0;32m   3846\u001b[0m         \u001b[38;5;124mf\u001b[39m\u001b[38;5;124m\"\u001b[39m\u001b[38;5;124mItem wrong length \u001b[39m\u001b[38;5;132;01m{\u001b[39;00m\u001b[38;5;28mlen\u001b[39m(key)\u001b[38;5;132;01m}\u001b[39;00m\u001b[38;5;124m instead of \u001b[39m\u001b[38;5;132;01m{\u001b[39;00m\u001b[38;5;28mlen\u001b[39m(\u001b[38;5;28mself\u001b[39m\u001b[38;5;241m.\u001b[39mindex)\u001b[38;5;132;01m}\u001b[39;00m\u001b[38;5;124m.\u001b[39m\u001b[38;5;124m\"\u001b[39m\n\u001b[0;32m   3847\u001b[0m     )\n\u001b[0;32m   3849\u001b[0m \u001b[38;5;66;03m# check_bool_indexer will throw exception if Series key cannot\u001b[39;00m\n\u001b[0;32m   3850\u001b[0m \u001b[38;5;66;03m# be reindexed to match DataFrame rows\u001b[39;00m\n\u001b[1;32m-> 3851\u001b[0m key \u001b[38;5;241m=\u001b[39m \u001b[43mcheck_bool_indexer\u001b[49m\u001b[43m(\u001b[49m\u001b[38;5;28;43mself\u001b[39;49m\u001b[38;5;241;43m.\u001b[39;49m\u001b[43mindex\u001b[49m\u001b[43m,\u001b[49m\u001b[43m \u001b[49m\u001b[43mkey\u001b[49m\u001b[43m)\u001b[49m\n\u001b[0;32m   3852\u001b[0m indexer \u001b[38;5;241m=\u001b[39m key\u001b[38;5;241m.\u001b[39mnonzero()[\u001b[38;5;241m0\u001b[39m]\n\u001b[0;32m   3853\u001b[0m \u001b[38;5;28;01mreturn\u001b[39;00m \u001b[38;5;28mself\u001b[39m\u001b[38;5;241m.\u001b[39m_take_with_is_copy(indexer, axis\u001b[38;5;241m=\u001b[39m\u001b[38;5;241m0\u001b[39m)\n",
      "File \u001b[1;32m~\\AppData\\Local\\Programs\\Python\\Python310\\lib\\site-packages\\pandas\\core\\indexing.py:2552\u001b[0m, in \u001b[0;36mcheck_bool_indexer\u001b[1;34m(index, key)\u001b[0m\n\u001b[0;32m   2550\u001b[0m indexer \u001b[38;5;241m=\u001b[39m result\u001b[38;5;241m.\u001b[39mindex\u001b[38;5;241m.\u001b[39mget_indexer_for(index)\n\u001b[0;32m   2551\u001b[0m \u001b[38;5;28;01mif\u001b[39;00m \u001b[38;5;241m-\u001b[39m\u001b[38;5;241m1\u001b[39m \u001b[38;5;129;01min\u001b[39;00m indexer:\n\u001b[1;32m-> 2552\u001b[0m     \u001b[38;5;28;01mraise\u001b[39;00m IndexingError(\n\u001b[0;32m   2553\u001b[0m         \u001b[38;5;124m\"\u001b[39m\u001b[38;5;124mUnalignable boolean Series provided as \u001b[39m\u001b[38;5;124m\"\u001b[39m\n\u001b[0;32m   2554\u001b[0m         \u001b[38;5;124m\"\u001b[39m\u001b[38;5;124mindexer (index of the boolean Series and of \u001b[39m\u001b[38;5;124m\"\u001b[39m\n\u001b[0;32m   2555\u001b[0m         \u001b[38;5;124m\"\u001b[39m\u001b[38;5;124mthe indexed object do not match).\u001b[39m\u001b[38;5;124m\"\u001b[39m\n\u001b[0;32m   2556\u001b[0m     )\n\u001b[0;32m   2558\u001b[0m result \u001b[38;5;241m=\u001b[39m result\u001b[38;5;241m.\u001b[39mtake(indexer)\n\u001b[0;32m   2560\u001b[0m \u001b[38;5;66;03m# fall through for boolean\u001b[39;00m\n",
      "\u001b[1;31mIndexingError\u001b[0m: Unalignable boolean Series provided as indexer (index of the boolean Series and of the indexed object do not match)."
     ]
    }
   ],
   "source": [
    "\n",
    "\n"
   ]
  },
  {
   "cell_type": "code",
   "execution_count": 147,
   "id": "4e732a5a",
   "metadata": {},
   "outputs": [
    {
     "data": {
      "text/plain": [
       "True    2159\n",
       "Name: 도로폭, dtype: int64"
      ]
     },
     "execution_count": 147,
     "metadata": {},
     "output_type": "execute_result"
    }
   ],
   "source": [
    "pd_data['도로폭'].isna().value_counts()\n",
    "#df_cleaned이상치 정제됨\n",
    "# df_cleaned = pd_data[(pd_data['도로폭'] >= (q1 - 1.5 * iqr)) | (pd_data['도로폭'] <= (q3 + 1.5 * iqr))]"
   ]
  },
  {
   "cell_type": "markdown",
   "id": "8a4c284f",
   "metadata": {},
   "source": [
    "\n",
    "### 시도명\n",
    "- dtype:category\n",
    "- 결측치:없음\n",
    "### 지정사유\n",
    "- dtype:category\n",
    "- 결측치: NaN -> '사유없음'\n",
    "### 지정연도\n",
    "- dtype:float64\n",
    "- 결측치:NaN -> 0\n",
    "### 도로폭\n",
    "- dtype:float64\n",
    "- 이상치: 제거중\n",
    "\n",
    "### 도로차로수\n",
    "- dtype:float64\n",
    "\n",
    "### 보차분리여부\n",
    "- dtype:float64\n",
    "- value: 'Y' -> 1, 'N' - > 0"
   ]
  }
 ],
 "metadata": {
  "kernelspec": {
   "display_name": "Python 3 (ipykernel)",
   "language": "python",
   "name": "python3"
  },
  "language_info": {
   "codemirror_mode": {
    "name": "ipython",
    "version": 3
   },
   "file_extension": ".py",
   "mimetype": "text/x-python",
   "name": "python",
   "nbconvert_exporter": "python",
   "pygments_lexer": "ipython3",
   "version": "3.10.9"
  }
 },
 "nbformat": 4,
 "nbformat_minor": 5
}
