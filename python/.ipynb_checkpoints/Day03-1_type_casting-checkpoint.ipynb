{
 "cells": [
  {
   "cell_type": "code",
   "execution_count": 36,
   "id": "42a6df48",
   "metadata": {},
   "outputs": [
    {
     "name": "stdout",
     "output_type": "stream",
     "text": [
      "asdf\n",
      "<class 'str'>\n",
      "IndexError\n",
      "2.0\n"
     ]
    }
   ],
   "source": [
    "a = 'asdf'\n",
    "# a = '30'\n",
    "print(a)\n",
    "print(type(a))\n",
    " \n",
    "x = []\n",
    "#int float str bool list tuple set dict\n",
    "#예외처리방법\n",
    "try:\n",
    "    b = float(a) \n",
    "#     print(x[0]) \n",
    "except ValueError:\n",
    "    print('ValueError') #에러가 났다는 본인만의 표시\n",
    "except IndexError:\n",
    "    print('IndexError')\n",
    "    \n",
    "# print(b)\n",
    "# print(type(b))"
   ]
  }
 ],
 "metadata": {
  "kernelspec": {
   "display_name": "Python 3 (ipykernel)",
   "language": "python",
   "name": "python3"
  },
  "language_info": {
   "codemirror_mode": {
    "name": "ipython",
    "version": 3
   },
   "file_extension": ".py",
   "mimetype": "text/x-python",
   "name": "python",
   "nbconvert_exporter": "python",
   "pygments_lexer": "ipython3",
   "version": "3.10.9"
  }
 },
 "nbformat": 4,
 "nbformat_minor": 5
}
