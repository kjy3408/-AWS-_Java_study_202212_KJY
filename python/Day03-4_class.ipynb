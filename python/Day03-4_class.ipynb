{
 "cells": [
  {
   "cell_type": "code",
   "execution_count": 5,
   "id": "29e4a784",
   "metadata": {},
   "outputs": [
    {
     "name": "stdout",
     "output_type": "stream",
     "text": [
      "myclass: 100, def\n",
      "<class '__main__.myclass'>\n",
      "500 def\n"
     ]
    }
   ],
   "source": [
    "class myclass:   #함수는 def / class는 class\n",
    "    myvar1 = 10\n",
    "    myvar2 = 'abc'\n",
    "    \n",
    "    def __init__(self, a=0, b='aaa'):  #생성자 -> 변수를 초기화 해주기위해 주로 쓴다고 함\n",
    "#         print('const')\n",
    "        self.myvar1 = a\n",
    "        self.myvar2 = b\n",
    "    \n",
    "    def mymethod1(self, n): #self를 쓰게끔 만들어놓음... 꼭 필요.\n",
    "        print(self.myvar1 * n, self.myvar2) #self를 참조해야함...\n",
    "        \n",
    "    def __str__(self): #내용물이 뭔지(변수가뭔지) 작성해놓으면 class호출 시 출력됨\n",
    "        return 'myclass: {}, {}'.format(self.myvar1, self.myvar2)\n",
    "\n",
    "    \n",
    "    \n",
    "a = myclass(100, 'def') #instance를 만들어주기위해 class를 변수에담아줌. #생성자 호출\n",
    "print(a)\n",
    "print(type(a))\n",
    "\n",
    "a.mymethod1(5)"
   ]
  },
  {
   "cell_type": "code",
   "execution_count": 8,
   "id": "ebeda3b3",
   "metadata": {},
   "outputs": [
    {
     "name": "stdout",
     "output_type": "stream",
     "text": [
      "myclass2 - mymethod 0\n",
      "myclass2 - mymethod2\n"
     ]
    }
   ],
   "source": [
    "#상속\n",
    "class myclass2(myclass): #괄호안에 부모class를 넣어줌\n",
    "    def mymethod1(self, n):\n",
    "        print('myclass2 - mymethod', self.myvar1*n)\n",
    "    def mymethod2(self):\n",
    "        print('myclass2 - mymethod2')\n",
    "    \n",
    "b = myclass2()\n",
    "b.mymethod1(10)\n",
    "b.mymethod2()"
   ]
  },
  {
   "cell_type": "code",
   "execution_count": 21,
   "id": "832ccb7a",
   "metadata": {
    "scrolled": true
   },
   "outputs": [
    {
     "name": "stdout",
     "output_type": "stream",
     "text": [
      "remove 전:  ['a', 'b', 'c', 'd', 'e', 'c', 'f', 'g', 'h', 'i']\n",
      "remove 후:  ['a', 'b', 'd', 'e', 'c', 'f', 'g', 'h', 'i']\n"
     ]
    }
   ],
   "source": [
    "list_1 = list('abcdecfghi') #df사이에 e\n",
    "print('remove 전: ',list_1)\n",
    "\n",
    "list_1.remove('c')\n",
    "print('remove 후: ' ,list_1)\n"
   ]
  },
  {
   "cell_type": "code",
   "execution_count": 40,
   "id": "f9b67292",
   "metadata": {},
   "outputs": [
    {
     "name": "stdout",
     "output_type": "stream",
     "text": [
      "['a', 'b', 'd', 'e', 'f', 'g', 'h', 'i']\n",
      "['a', 'b', 'd', 'e', 'f', 'g', 'h', 'i']\n"
     ]
    }
   ],
   "source": [
    "def list_remove_all(target_list, target_value):\n",
    "    while target_value in target_list:\n",
    "        target_list.remove(target_value)\n",
    "    return target_list\n",
    "        \n",
    "def list_remove_all_v2(target_list, target_value):\n",
    "    while True: #무한반복하다가 더이상 지울게 없으면 ValueError 뱉어내기에 예외처리 해줌.\n",
    "        try:\n",
    "            target_list.remove(target_value)\n",
    "        except:\n",
    "            return target_list\n",
    "        \n",
    "ret_list = list_remove_all(list('abcdefcghi'), 'c')\n",
    "print(ret_list)\n",
    "\n",
    "ret_list1 = list_remove_all_v2(list('abcdefcghi'), 'c')\n",
    "print(ret_list1)\n"
   ]
  },
  {
   "cell_type": "code",
   "execution_count": 48,
   "id": "9bcccabb",
   "metadata": {},
   "outputs": [
    {
     "name": "stdout",
     "output_type": "stream",
     "text": [
      "['a', 'b', 'c', 'c', 'd', 'c', 1, 2]\n",
      "['a', 'b', 'd', 1, 2]\n"
     ]
    },
    {
     "data": {
      "text/plain": [
       "['a', 'b', 'd', 1, 2]"
      ]
     },
     "execution_count": 48,
     "metadata": {},
     "output_type": "execute_result"
    }
   ],
   "source": [
    "class mylist(list):\n",
    "    def remove_all(self, target_value):\n",
    "        while target_value in self:\n",
    "            self.remove(target_value)\n",
    "        return self\n",
    "\n",
    "mylist_1 = mylist(list('abccdc'))\n",
    "mylist_1.append(1)\n",
    "mylist_1.append(2)\n",
    "print(mylist_1)\n",
    "       \n",
    "print(mylist_1.remove_all('c'))\n",
    "mylist_1.remove_all('c') #맨 마지막에 있을 때만 output이 출력됨. 맨 마지막 줄이 아니면 print로 출력해줘야함."
   ]
  }
 ],
 "metadata": {
  "kernelspec": {
   "display_name": "Python 3 (ipykernel)",
   "language": "python",
   "name": "python3"
  },
  "language_info": {
   "codemirror_mode": {
    "name": "ipython",
    "version": 3
   },
   "file_extension": ".py",
   "mimetype": "text/x-python",
   "name": "python",
   "nbconvert_exporter": "python",
   "pygments_lexer": "ipython3",
   "version": "3.10.9"
  }
 },
 "nbformat": 4,
 "nbformat_minor": 5
}
