{
 "cells": [
  {
   "cell_type": "code",
   "execution_count": 78,
   "id": "9c1167fd",
   "metadata": {},
   "outputs": [],
   "source": [
    "import requests\n",
    "import numpy as np\n",
    "\n",
    "x = requests.get('https://www.data.go.kr/download/15025455/standard.do?dataType=csv')"
   ]
  },
  {
   "cell_type": "code",
   "execution_count": 92,
   "id": "4873e9b2",
   "metadata": {},
   "outputs": [
    {
     "name": "stdout",
     "output_type": "stream",
     "text": [
      "[['로컬푸드인증번호', '인증유효시작일자', '인증유효종료일자', '인증취소일자', '사업장도로명주소', '사업장지번주소', '생산지도로명주소', '생산지지번주소', '품목명', '재배면적', '재배규모', '인증부여일자', '사업자명', '사업자등록번호', '전화번호', '관리기관명', '데이터기준일자', '제공기관코드', '제공기관명'], ['HYG-162', '2021-09-01', '2031-09-01', '', '경상남도 함양군 수동면 산업단지길 209+경상남도 함양군 수동면 우명하교로 174', '', '경상남도 함양군 병곡면 다볕길 94', '', '칡청+달맞이꽃씨유', '', '122', '2021-09-01', '청운당농산', '', '070-7779-2122', '경상남도 함양군청', '2022-11-23', '5460000', '경상남도 함양군'], ['HYG-163', '2021-09-01', '2031-09-01', '', '경상남도 함양군 수동면 산업단지길 209+경상남도 함양군 수동면 우명하교로 174', '', '경상남도 함양군 수동면 사근산성길 35-4', '', '굼벵이환', '', '123', '2021-09-01', '굼찬농장', '', '070-7779-2122', '경상남도 함양군청', '2022-11-23', '5460000', '경상남도 함양군']]\n"
     ]
    }
   ],
   "source": [
    "raw_data=[]\n",
    "for line in x.text.split('\\n'):\n",
    "    raw_data.append(line.split(','))\n",
    "    \n",
    "print(raw_data[:3])"
   ]
  },
  {
   "cell_type": "code",
   "execution_count": 91,
   "id": "458322c0",
   "metadata": {},
   "outputs": [
    {
     "ename": "TypeError",
     "evalue": "list indices must be integers or slices, not str",
     "output_type": "error",
     "traceback": [
      "\u001b[1;31m---------------------------------------------------------------------------\u001b[0m",
      "\u001b[1;31mTypeError\u001b[0m                                 Traceback (most recent call last)",
      "Cell \u001b[1;32mIn[91], line 4\u001b[0m\n\u001b[0;32m      2\u001b[0m \u001b[38;5;28;01mfor\u001b[39;00m i, e \u001b[38;5;129;01min\u001b[39;00m \u001b[38;5;28menumerate\u001b[39m(raw_data):\n\u001b[0;32m      3\u001b[0m     \u001b[38;5;28;01mfor\u001b[39;00m v \u001b[38;5;129;01min\u001b[39;00m e:\n\u001b[1;32m----> 4\u001b[0m         local_data \u001b[38;5;241m=\u001b[39m \u001b[43mraw_data\u001b[49m\u001b[43m[\u001b[49m\u001b[38;5;124;43m'\u001b[39;49m\u001b[38;5;124;43m품목명\u001b[39;49m\u001b[38;5;124;43m'\u001b[39;49m\u001b[43m]\u001b[49m\u001b[38;5;241m.\u001b[39msplit(\u001b[38;5;124m'\u001b[39m\u001b[38;5;124m'\u001b[39m)[\u001b[38;5;241m0\u001b[39m]\u001b[38;5;241m.\u001b[39msplit(\u001b[38;5;124m'\u001b[39m\u001b[38;5;124m(\u001b[39m\u001b[38;5;124m'\u001b[39m)[\u001b[38;5;241m0\u001b[39m]\n\u001b[0;32m      6\u001b[0m \u001b[38;5;28mprint\u001b[39m(\u001b[38;5;28mtype\u001b[39m(v))\n",
      "\u001b[1;31mTypeError\u001b[0m: list indices must be integers or slices, not str"
     ]
    }
   ],
   "source": [
    "local_datas=[]\n",
    "for i, e in enumerate(raw_data):\n",
    "    for v in e:\n",
    "        local_data = raw_data['품목명'].split('')[0].split('(')[0]\n",
    "        \n",
    "print(type(v))"
   ]
  }
 ],
 "metadata": {
  "kernelspec": {
   "display_name": "Python 3 (ipykernel)",
   "language": "python",
   "name": "python3"
  },
  "language_info": {
   "codemirror_mode": {
    "name": "ipython",
    "version": 3
   },
   "file_extension": ".py",
   "mimetype": "text/x-python",
   "name": "python",
   "nbconvert_exporter": "python",
   "pygments_lexer": "ipython3",
   "version": "3.10.9"
  }
 },
 "nbformat": 4,
 "nbformat_minor": 5
}
