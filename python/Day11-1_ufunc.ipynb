{
 "cells": [
  {
   "cell_type": "markdown",
   "id": "58942b3c",
   "metadata": {},
   "source": [
    "<style>\n",
    "div.text_cell_render {\n",
    "    font-family: \"D2Coding\";\n",
    "    font-size: 12pt;\n",
    "    line-height: 1.5;\n",
    "}\n",
    "</style>"
   ]
  },
  {
   "cell_type": "markdown",
   "id": "9e738d56",
   "metadata": {},
   "source": [
    "<style>\n",
    "div.text_cell_render {\n",
    "    font-family: \"D2Coding\";\n",
    "    font-size: 12pt;\n",
    "    line-height: 1.5;\n",
    "}\n",
    "</style>"
   ]
  },
  {
   "cell_type": "code",
   "execution_count": 22,
   "id": "384025bb",
   "metadata": {},
   "outputs": [
    {
     "name": "stdout",
     "output_type": "stream",
     "text": [
      "[[ 0  1  2  3  4  5]\n",
      " [ 6  7  8  9 10 11]\n",
      " [12 13 14 15 16 17]\n",
      " [18 19 20 21 22 23]\n",
      " [24 25 26 27 28 29]]\n",
      "np.sum:  [ 15  51  87 123 159]\n",
      "None\n",
      "[[10 21 32 43 54 65]\n",
      " [ 6  7  8  9 10 11]\n",
      " [22 33 44 55 66 77]\n",
      " [18 19 20 21 22 23]\n",
      " [34 45 56 67 78 89]]\n"
     ]
    }
   ],
   "source": [
    "import numpy as np\n",
    "\n",
    "a1 = np.arange(30).reshape(5,6)\n",
    "print(a1)\n",
    "print('np.sum: ', np.sum(a1, axis=1))\n",
    "# print(np.add.reduce(a1, axis=1, where=a1%2==0)) #where : 짝수만 합계를 구함\n",
    "# default로 axix = 0이 잡혀있음.\n",
    "#reduce : for문 돌아줄게~\n",
    "# print(np.add.accumulate(a1, axis=0))\n",
    "# print(np.add.reduceat(a1, [0,2,4], axis=1))\n",
    "print(np.add.at(a1, [0,2,4], [10,20,30,40,50,60]))\n",
    "print(a1)"
   ]
  },
  {
   "cell_type": "code",
   "execution_count": 23,
   "id": "e42dd0af",
   "metadata": {},
   "outputs": [
    {
     "name": "stdout",
     "output_type": "stream",
     "text": [
      "[0 1 2 3 4 5 6 7 8 9]\n",
      "[100 101 102 103 104 105 106 107 108 109]\n",
      "[[100 101 102 103 104 105 106 107 108 109]\n",
      " [101 102 103 104 105 106 107 108 109 110]\n",
      " [102 103 104 105 106 107 108 109 110 111]\n",
      " [103 104 105 106 107 108 109 110 111 112]\n",
      " [104 105 106 107 108 109 110 111 112 113]\n",
      " [105 106 107 108 109 110 111 112 113 114]\n",
      " [106 107 108 109 110 111 112 113 114 115]\n",
      " [107 108 109 110 111 112 113 114 115 116]\n",
      " [108 109 110 111 112 113 114 115 116 117]\n",
      " [109 110 111 112 113 114 115 116 117 118]]\n"
     ]
    }
   ],
   "source": [
    "a2 = np.arange(10)\n",
    "a3 =np.arange(100,110)\n",
    "print(a2)\n",
    "print(a3)\n",
    "print(np.add.outer(a2,a3))"
   ]
  }
 ],
 "metadata": {
  "kernelspec": {
   "display_name": "Python 3 (ipykernel)",
   "language": "python",
   "name": "python3"
  },
  "language_info": {
   "codemirror_mode": {
    "name": "ipython",
    "version": 3
   },
   "file_extension": ".py",
   "mimetype": "text/x-python",
   "name": "python",
   "nbconvert_exporter": "python",
   "pygments_lexer": "ipython3",
   "version": "3.10.9"
  }
 },
 "nbformat": 4,
 "nbformat_minor": 5
}
