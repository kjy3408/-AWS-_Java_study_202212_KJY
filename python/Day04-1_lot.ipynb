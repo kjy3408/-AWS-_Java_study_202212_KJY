{
 "cells": [
  {
   "cell_type": "code",
   "execution_count": 19,
   "id": "d19c76ca",
   "metadata": {},
   "outputs": [
    {
     "name": "stdout",
     "output_type": "stream",
     "text": [
      "[['5', '17', '26', '27', '35', '38', '1'], ['21', '26', '30', '32', '33', '35', '44'], ['6', '12', '31', '35', '38', '43', '17']]\n"
     ]
    }
   ],
   "source": [
    "csv_data=[]\n",
    "with open('lott.CSV') as f:\n",
    "    for line in f:\n",
    "#         csv_data.append(line.replace('\\n','').split(','))\n",
    "        csv_data.append(line[:-1].split(','))\n",
    "print(csv_data[:3])\n",
    "int(csv_data[0][-1])"
   ]
  },
  {
   "cell_type": "code",
   "execution_count": 30,
   "id": "9bc77e45",
   "metadata": {},
   "outputs": [
    {
     "name": "stdout",
     "output_type": "stream",
     "text": [
      "[[5, 17, 26, 27, 35, 38, 1], [21, 26, 30, 32, 33, 35, 44], [6, 12, 31, 35, 38, 43, 17]]\n"
     ]
    }
   ],
   "source": [
    "#X\n",
    "num_list = []\n",
    "for i in csv_data:\n",
    "    num_list.append([int(e)for e in i])\n",
    "    \n",
    "print(num_list[:3])"
   ]
  },
  {
   "cell_type": "code",
   "execution_count": 31,
   "id": "b821d977",
   "metadata": {},
   "outputs": [
    {
     "name": "stdout",
     "output_type": "stream",
     "text": [
      "[[5, 17, 26, 27, 35, 38, 1], [21, 26, 30, 32, 33, 35, 44], [6, 12, 31, 35, 38, 43, 17]]\n"
     ]
    }
   ],
   "source": [
    "for e in csv_data:\n",
    "    for i, e_i in enumerate(e):\n",
    "        e[i] = int(e_i)\n",
    "        \n",
    "print(csv_data[:3])"
   ]
  },
  {
   "cell_type": "code",
   "execution_count": 65,
   "id": "162d349a",
   "metadata": {},
   "outputs": [
    {
     "name": "stdout",
     "output_type": "stream",
     "text": [
      "[5, 17, 26, 27, 35, 38, 1]\n",
      "21.285714285714285\n",
      "21.285714285714285\n"
     ]
    }
   ],
   "source": [
    "#평균\n",
    "def mean(num_list):     #sum\n",
    "    num_list = sum(num_list) / len(num_list)\n",
    "    return num_list\n",
    "\n",
    "def mean_2(num_list):   #not sum\n",
    "    sum_value = 0\n",
    "    for i in num_list:\n",
    "        sum_value = sum_value + i\n",
    "    return sum_value / len(num_list)\n",
    "\n",
    "game1 = csv_data[0]\n",
    "print(game1)\n",
    "print(mean(game1))\n",
    "print(mean_2(game1))"
   ]
  },
  {
   "cell_type": "code",
   "execution_count": 224,
   "id": "3a7eca97",
   "metadata": {},
   "outputs": [],
   "source": [
    "#정렬(중간 숫자)\n",
    "# print(game1.sort()) #None뜨면 정렬된거 (return이 None임)\n",
    "# print(game1)\n",
    "\n",
    "def median(num_list):\n",
    "    num_list.sort()\n",
    "    if len(num_list) % 2 == 1: #홀수 개수 일때\n",
    "        i = len(num_list) // 2\n",
    "        return num_list[int(i)]\n",
    "    else:\n",
    "        i = len(num_list)//2  #짝수 개수 일때    \n",
    "        return (num_list[i] + num_list[i - 1]) / 2\n",
    "    \n",
    "game1 = csv_data[0]\n",
    "# print(median(game1))\n",
    "# print(median([1, 5, 17, 26, 27, 35]))\n",
    "\n",
    "assert median([1, 5, 17, 26, 27, 35, 38]) == 26\n",
    "assert median([5, 17, 26, 27, 35, 38]) == 26.5 #틀리면 AssertionError 출력"
   ]
  },
  {
   "cell_type": "code",
   "execution_count": 223,
   "id": "6e529cb0",
   "metadata": {},
   "outputs": [
    {
     "name": "stdout",
     "output_type": "stream",
     "text": [
      "26\n"
     ]
    }
   ],
   "source": [
    "#X\n",
    "def median(num_list):\n",
    "    num_list.sort()\n",
    "    n = len(num_list)\n",
    "    mid = n // 2\n",
    "    if n % 2 == 1:\n",
    "        return num_list[mid]\n",
    "    else:\n",
    "        return (num_list[mid - 1] + num_list[mid]) / 2\n",
    "\n",
    "print(median([1, 5, 17, 26, 27, 35, 38]))\n"
   ]
  },
  {
   "cell_type": "code",
   "execution_count": 229,
   "id": "5193c9a8",
   "metadata": {},
   "outputs": [
    {
     "name": "stdout",
     "output_type": "stream",
     "text": [
      "[1, 5, 17, 26, 27, 35, 38]\n",
      "after sorted [5, 17, 26, 27, 35, 38, 1]\n",
      "[1, 5, 17, 26, 27, 35, 38]\n"
     ]
    }
   ],
   "source": [
    "# in-place\n",
    "list_a = [5, 17, 26, 27, 35, 38, 1]\n",
    "print(sorted(list_a))\n",
    "print('after sorted', list_a) #원본은 그대로 두고 복사본을 만들어서 반환해줌...\n",
    "\n",
    "list_a.sort()\n",
    "print(list_a)"
   ]
  },
  {
   "cell_type": "code",
   "execution_count": 233,
   "id": "1b5cfb03",
   "metadata": {},
   "outputs": [
    {
     "name": "stdout",
     "output_type": "stream",
     "text": [
      "list_a:  [5, 17, 26, 27, 35, 38, 1]\n",
      "list_b:  [5, 17, 26, 27, 35, 38, 1]\n",
      "\n",
      "list_a:  [100, 17, 26, 27, 35, 38, 1]\n",
      "list_b:  [100, 17, 26, 27, 35, 38, 1]\n"
     ]
    }
   ],
   "source": [
    "# reference\n",
    "list_a = [5, 17, 26, 27, 35, 38, 1]\n",
    "list_b = list_a  #shallow copy, 얕은 복사 / a의 값을 바꿔도 b도 바뀜\n",
    "print('list_a: ', list_a)\n",
    "print('list_b: ', list_b)\n",
    "print()\n",
    "list_a[0] = 100\n",
    "print('list_a: ', list_a)\n",
    "print('list_b: ', list_b)\n"
   ]
  },
  {
   "cell_type": "code",
   "execution_count": 234,
   "id": "6abd75d2",
   "metadata": {},
   "outputs": [
    {
     "name": "stdout",
     "output_type": "stream",
     "text": [
      "list_a:  [5, 17, 26, 27, 35, 38, 1]\n",
      "list_b:  [5, 17, 26, 27, 35, 38, 1]\n",
      "\n",
      "list_a:  [100, 17, 26, 27, 35, 38, 1]\n",
      "list_b:  [5, 17, 26, 27, 35, 38, 1]\n"
     ]
    }
   ],
   "source": [
    "list_a = [5, 17, 26, 27, 35, 38, 1]\n",
    "list_b = []\n",
    "for i in list_a:   #deep copy / a의 값을 바꿔도 b의 값은 바뀌지 않음.\n",
    "    list_b.append(i)\n",
    "    \n",
    "\n",
    "print('list_a: ', list_a)\n",
    "print('list_b: ', list_b)\n",
    "print()\n",
    "list_a[0] = 100\n",
    "print('list_a: ', list_a)\n",
    "print('list_b: ', list_b)"
   ]
  }
 ],
 "metadata": {
  "kernelspec": {
   "display_name": "Python 3 (ipykernel)",
   "language": "python",
   "name": "python3"
  },
  "language_info": {
   "codemirror_mode": {
    "name": "ipython",
    "version": 3
   },
   "file_extension": ".py",
   "mimetype": "text/x-python",
   "name": "python",
   "nbconvert_exporter": "python",
   "pygments_lexer": "ipython3",
   "version": "3.10.9"
  }
 },
 "nbformat": 4,
 "nbformat_minor": 5
}
