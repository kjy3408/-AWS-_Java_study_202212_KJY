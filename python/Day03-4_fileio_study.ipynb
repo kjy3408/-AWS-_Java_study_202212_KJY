{
 "cells": [
  {
   "cell_type": "code",
   "execution_count": 94,
   "id": "da2c2451",
   "metadata": {},
   "outputs": [
    {
     "name": "stdout",
     "output_type": "stream",
     "text": [
      "[{'제주특별자치도', '\"울산광역시', '인천광역시', '대구광역시', '\"서울특별시', '\"광주광역시', '강원도', '\"대전광역시', '\"전라북도', '\"경상북도', '\"부산광역시', '\"인천광역시', '\"충청북도', '대전광역시', '전라남도', '\"경상남도', '부산광역시', '경기도', '서울특별시', '울산광역시', '충청북도', '세종특별자치시', '전라북도', '경상남도', '광주광역시', '\"경기도', '\"대구광역시', '경북', '경상북도', '충청남도'}]\n"
     ]
    }
   ],
   "source": [
    "data_list = []\n",
    "with open('전국건강증진센터표준데이터1.csv') as f:\n",
    "    for line in f:\n",
    "        data_list.append(line.split(','))\n",
    "\n",
    "# print(data_list)\n",
    "\n",
    "data_list = data_list[1:]\n",
    "\n",
    "# print(data_list)\n",
    "# print(data_list[0])\n",
    "  \n",
    "\n",
    "# for i in data_list:\n",
    "#     print(i[3])\n",
    "    \n",
    "\n",
    "gu_list = []\n",
    "si_list = []\n",
    "for i in data_list:\n",
    "    address = i[2]\n",
    "    address_list = address.split()\n",
    "    gu_list.append(address_list[0])\n",
    "\n",
    "    \n",
    "# print(gu_list)\n",
    "\n",
    "set_gu_list = set(gu_list)\n",
    "\n",
    "# print(set_gu_list)\n",
    "for i in si_list:\n",
    "    print(si_list.count(i))\n",
    "\n",
    "\n",
    "si_list = []\n",
    "si_list.append(set_gu_list)\n",
    "\n",
    "print(si_list)\n",
    "\n",
    "#같은이름에 따옴표나 경북, 경남 이런거 인덱스 알아내서 바꿔주고 조회\n"
   ]
  }
 ],
 "metadata": {
  "kernelspec": {
   "display_name": "Python 3 (ipykernel)",
   "language": "python",
   "name": "python3"
  },
  "language_info": {
   "codemirror_mode": {
    "name": "ipython",
    "version": 3
   },
   "file_extension": ".py",
   "mimetype": "text/x-python",
   "name": "python",
   "nbconvert_exporter": "python",
   "pygments_lexer": "ipython3",
   "version": "3.10.9"
  }
 },
 "nbformat": 4,
 "nbformat_minor": 5
}
