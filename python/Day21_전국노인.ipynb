{
 "cells": [
  {
   "cell_type": "markdown",
   "id": "b8907ca9",
   "metadata": {},
   "source": [
    "### 전국노인장애인보호구역표준데이터\n",
    "시도명, 제한속도, CCTV설치여부, CCTV설치대수, 보호구역도로폭"
   ]
  },
  {
   "cell_type": "code",
   "execution_count": 63,
   "id": "a03fe3a5",
   "metadata": {},
   "outputs": [
    {
     "data": {
      "text/html": [
       "<div>\n",
       "<style scoped>\n",
       "    .dataframe tbody tr th:only-of-type {\n",
       "        vertical-align: middle;\n",
       "    }\n",
       "\n",
       "    .dataframe tbody tr th {\n",
       "        vertical-align: top;\n",
       "    }\n",
       "\n",
       "    .dataframe thead th {\n",
       "        text-align: right;\n",
       "    }\n",
       "</style>\n",
       "<table border=\"1\" class=\"dataframe\">\n",
       "  <thead>\n",
       "    <tr style=\"text-align: right;\">\n",
       "      <th></th>\n",
       "      <th>시도명</th>\n",
       "      <th>제한속도</th>\n",
       "      <th>CCTV설치여부</th>\n",
       "      <th>CCTV설치대수</th>\n",
       "      <th>보호구역도로폭</th>\n",
       "    </tr>\n",
       "  </thead>\n",
       "  <tbody>\n",
       "    <tr>\n",
       "      <th>0</th>\n",
       "      <td>서울특별시</td>\n",
       "      <td>30</td>\n",
       "      <td>Y</td>\n",
       "      <td>1.0</td>\n",
       "      <td>3</td>\n",
       "    </tr>\n",
       "    <tr>\n",
       "      <th>1</th>\n",
       "      <td>경상북도</td>\n",
       "      <td>30</td>\n",
       "      <td>N</td>\n",
       "      <td>NaN</td>\n",
       "      <td>6</td>\n",
       "    </tr>\n",
       "    <tr>\n",
       "      <th>2</th>\n",
       "      <td>경상북도</td>\n",
       "      <td>30</td>\n",
       "      <td>N</td>\n",
       "      <td>NaN</td>\n",
       "      <td>6</td>\n",
       "    </tr>\n",
       "    <tr>\n",
       "      <th>3</th>\n",
       "      <td>경상북도</td>\n",
       "      <td>30</td>\n",
       "      <td>N</td>\n",
       "      <td>NaN</td>\n",
       "      <td>7</td>\n",
       "    </tr>\n",
       "    <tr>\n",
       "      <th>4</th>\n",
       "      <td>경상북도</td>\n",
       "      <td>30</td>\n",
       "      <td>N</td>\n",
       "      <td>NaN</td>\n",
       "      <td>7</td>\n",
       "    </tr>\n",
       "    <tr>\n",
       "      <th>...</th>\n",
       "      <td>...</td>\n",
       "      <td>...</td>\n",
       "      <td>...</td>\n",
       "      <td>...</td>\n",
       "      <td>...</td>\n",
       "    </tr>\n",
       "    <tr>\n",
       "      <th>2513</th>\n",
       "      <td>대구광역시</td>\n",
       "      <td>30</td>\n",
       "      <td>N</td>\n",
       "      <td>NaN</td>\n",
       "      <td>NaN</td>\n",
       "    </tr>\n",
       "    <tr>\n",
       "      <th>2514</th>\n",
       "      <td>대구광역시</td>\n",
       "      <td>30</td>\n",
       "      <td>N</td>\n",
       "      <td>NaN</td>\n",
       "      <td>NaN</td>\n",
       "    </tr>\n",
       "    <tr>\n",
       "      <th>2515</th>\n",
       "      <td>대구광역시</td>\n",
       "      <td>30</td>\n",
       "      <td>N</td>\n",
       "      <td>NaN</td>\n",
       "      <td>NaN</td>\n",
       "    </tr>\n",
       "    <tr>\n",
       "      <th>2516</th>\n",
       "      <td>대구광역시</td>\n",
       "      <td>30</td>\n",
       "      <td>N</td>\n",
       "      <td>NaN</td>\n",
       "      <td>NaN</td>\n",
       "    </tr>\n",
       "    <tr>\n",
       "      <th>2517</th>\n",
       "      <td>대구광역시</td>\n",
       "      <td>30</td>\n",
       "      <td>N</td>\n",
       "      <td>NaN</td>\n",
       "      <td>NaN</td>\n",
       "    </tr>\n",
       "  </tbody>\n",
       "</table>\n",
       "<p>2518 rows × 5 columns</p>\n",
       "</div>"
      ],
      "text/plain": [
       "        시도명  제한속도 CCTV설치여부  CCTV설치대수 보호구역도로폭\n",
       "0     서울특별시    30        Y       1.0       3\n",
       "1      경상북도    30        N       NaN       6\n",
       "2      경상북도    30        N       NaN       6\n",
       "3      경상북도    30        N       NaN       7\n",
       "4      경상북도    30        N       NaN       7\n",
       "...     ...   ...      ...       ...     ...\n",
       "2513  대구광역시    30        N       NaN     NaN\n",
       "2514  대구광역시    30        N       NaN     NaN\n",
       "2515  대구광역시    30        N       NaN     NaN\n",
       "2516  대구광역시    30        N       NaN     NaN\n",
       "2517  대구광역시    30        N       NaN     NaN\n",
       "\n",
       "[2518 rows x 5 columns]"
      ]
     },
     "execution_count": 63,
     "metadata": {},
     "output_type": "execute_result"
    }
   ],
   "source": [
    "import pandas as pd\n",
    "import numpy as np\n",
    "\n",
    "pd_raw = pd.read_csv('전국노인장애인보호구역표준데이터.csv', encoding ='cp949')\n",
    "\n",
    "col_selection = ['시도명', '제한속도', 'CCTV설치여부', 'CCTV설치대수', '보호구역도로폭']\n",
    "\n",
    "pd_data = pd_raw[col_selection]\n",
    "\n",
    "pd_data"
   ]
  },
  {
   "cell_type": "code",
   "execution_count": 64,
   "id": "a408fda9",
   "metadata": {},
   "outputs": [
    {
     "name": "stdout",
     "output_type": "stream",
     "text": [
      "['서울특별시' '경상북도' '충청남도' '강원도' '경기도' '전라북도' '대전광역시' '경상남도' '인천광역시' '울산광역시'\n",
      " '부산광역시' '대구광역시' '충청북도' '전라남도' '광주광역시' '세종특별자치시' '제주특별자치도']\n",
      "False\n"
     ]
    }
   ],
   "source": [
    "#시도명\n",
    "print(pd_data['시도명'].unique())\n",
    "print(pd_data['시도명'].hasnans)\n",
    "\n",
    "#결측치(NaN) : 없음\n",
    "#오류치: 없음\n",
    "#이상치: 없음"
   ]
  },
  {
   "cell_type": "code",
   "execution_count": 65,
   "id": "58448829",
   "metadata": {},
   "outputs": [
    {
     "name": "stdout",
     "output_type": "stream",
     "text": [
      "[30 50 60 40 38 39 41 42 43 44 45 46 47 48 49 51 52 53 54 55 31 32 33 34\n",
      " 35 36 37 20]\n",
      "False\n"
     ]
    }
   ],
   "source": [
    "#제한속도\n",
    "print(pd_data['제한속도'].unique())\n",
    "print(pd_data['제한속도'].hasnans)\n",
    "\n",
    "#결측치(NaN): 없음\n",
    "#오류치: 없음\n",
    "#이상치: 없음"
   ]
  },
  {
   "cell_type": "code",
   "execution_count": 66,
   "id": "dd7f07cf",
   "metadata": {},
   "outputs": [
    {
     "name": "stdout",
     "output_type": "stream",
     "text": [
      "['Y' 'N']\n",
      "False\n"
     ]
    }
   ],
   "source": [
    "#CCTV설치여부\n",
    "print(pd_data['CCTV설치여부'].unique())\n",
    "print(pd_data['CCTV설치여부'].hasnans)\n",
    "\n",
    "#결측치(NaN): 없음\n",
    "#오류치: 없음\n",
    "#이상치: 없음"
   ]
  },
  {
   "cell_type": "code",
   "execution_count": 67,
   "id": "8db4bdc4",
   "metadata": {},
   "outputs": [
    {
     "name": "stdout",
     "output_type": "stream",
     "text": [
      "[ 1. nan  0.  2.  4.  3.  5.  8.  9.]\n",
      "True\n",
      "True     1551\n",
      "False     967\n",
      "Name: CCTV설치대수, dtype: int64\n",
      "False    2518\n",
      "Name: CCTV설치대수, dtype: int64\n",
      "[1. 0. 2. 4. 3. 5. 8. 9.]\n",
      "False\n"
     ]
    }
   ],
   "source": [
    "#CCTV설치대수\n",
    "print(pd_data['CCTV설치대수'].unique())\n",
    "print(pd_data['CCTV설치대수'].hasnans)\n",
    "\n",
    "print(pd_data['CCTV설치대수'].isna().value_counts())\n",
    "\n",
    "filter_y = pd_data['CCTV설치여부'] == 'Y'\n",
    "filter_n = pd_data['CCTV설치여부'] == 'N'\n",
    "pd_data.loc[filter_y, 'CCTV설치대수'] = pd_data.loc[filter_y, 'CCTV설치대수'].replace(np.NaN, 1)\n",
    "pd_data.loc[filter_n, 'CCTV설치대수'] = pd_data.loc[filter_n, 'CCTV설치대수'].replace(np.NaN, 0)\n",
    "\n",
    "print(pd_data['CCTV설치대수'].isna().value_counts())\n",
    "\n",
    "print(pd_data['CCTV설치대수'].unique())\n",
    "print(pd_data['CCTV설치대수'].hasnans)\n",
    "\n",
    "#결측치(NaN): 1551개 -> CCTV설치여부/대수 비교후 'Y' -> 1 / 'N' -> 0 으로 대체\n",
    "#오류치 : 없음\n",
    "#이상치 : 없음"
   ]
  },
  {
   "cell_type": "code",
   "execution_count": 69,
   "id": "a75bf2e0",
   "metadata": {},
   "outputs": [
    {
     "name": "stdout",
     "output_type": "stream",
     "text": [
      "[10.00570866 27.         17.5         9.         19.5         4.75\n",
      " 21.5         7.         12.5        11.          8.5         9.5\n",
      " 17.         12.1        16.         10.          6.          5.5\n",
      " 14.         18.          8.         20.          6.5        15.5\n",
      "  9.25        7.5        34.         16.5        13.5        12.\n",
      " 10.5        22.5         9.75        6.25        7.75       16.75\n",
      " 25.          4.          3.5        10.55      ]\n",
      "False\n",
      "False    2518\n",
      "Name: 보호구역도로폭, dtype: int64\n",
      "yyy True    2518\n",
      "Name: 보호구역도로폭, dtype: int64\n",
      "pd_data True    2518\n",
      "Name: 보호구역도로폭, dtype: int64\n"
     ]
    },
    {
     "name": "stderr",
     "output_type": "stream",
     "text": [
      "C:\\Users\\ITPS\\AppData\\Local\\Temp\\ipykernel_12912\\1657633725.py:16: SettingWithCopyWarning: \n",
      "A value is trying to be set on a copy of a slice from a DataFrame.\n",
      "Try using .loc[row_indexer,col_indexer] = value instead\n",
      "\n",
      "See the caveats in the documentation: https://pandas.pydata.org/pandas-docs/stable/user_guide/indexing.html#returning-a-view-versus-a-copy\n",
      "  pd_data['보호구역도로폭'] = y\n"
     ]
    }
   ],
   "source": [
    "#보호구역도로폭\n",
    "print(pd_data['보호구역도로폭'].unique())\n",
    "print(pd_data['보호구역도로폭'].hasnans)\n",
    "\n",
    "def myfn1(x):\n",
    "    if type(x) == type(''):\n",
    "        if '~' in x:\n",
    "            m = np.array(x.split('~')).astype(np.float64).mean()\n",
    "            return str(m)   \n",
    "        \n",
    "y = pd_data['보호구역도로폭'].apply(myfn1)\n",
    "print(pd_data['보호구역도로폭'].isna().value_counts()) \n",
    "y = y.astype(np.float64)\n",
    "y = y.replace(np.NaN, y.mean())\n",
    "print('yyy',y.isna().value_counts())\n",
    "pd_data['보호구역도로폭'] = y\n",
    "print('pd_data',pd_data['보호구역도로폭'].isna().value_counts())\n",
    "\n",
    "#결측치(NaN) : 평균값으로 대체\n",
    "#오류치 : num1 ~ num2 -> num1과 num2의 평균값으로 대체\n",
    "#이상치 : 없음"
   ]
  },
  {
   "cell_type": "code",
   "execution_count": 75,
   "id": "f5b9b722",
   "metadata": {},
   "outputs": [],
   "source": [
    "pd_data.to_csv('전국노인장애인보호구역표준데이터(전처리완료).csv', encoding ='cp949')"
   ]
  }
 ],
 "metadata": {
  "kernelspec": {
   "display_name": "Python 3 (ipykernel)",
   "language": "python",
   "name": "python3"
  },
  "language_info": {
   "codemirror_mode": {
    "name": "ipython",
    "version": 3
   },
   "file_extension": ".py",
   "mimetype": "text/x-python",
   "name": "python",
   "nbconvert_exporter": "python",
   "pygments_lexer": "ipython3",
   "version": "3.10.9"
  }
 },
 "nbformat": 4,
 "nbformat_minor": 5
}
